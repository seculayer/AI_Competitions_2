{
 "cells": [
  {
   "cell_type": "code",
   "execution_count": 1,
   "id": "bridal-atmosphere",
   "metadata": {
    "_cell_guid": "b1076dfc-b9ad-4769-8c92-a6c4dae69d19",
    "_uuid": "8f2839f25d086af736a60e9eeb907d3b93b6e0e5",
    "execution": {
     "iopub.execute_input": "2021-05-03T07:51:12.653642Z",
     "iopub.status.busy": "2021-05-03T07:51:12.652652Z",
     "iopub.status.idle": "2021-05-03T07:51:12.659336Z",
     "shell.execute_reply": "2021-05-03T07:51:12.658671Z"
    },
    "papermill": {
     "duration": 0.04657,
     "end_time": "2021-05-03T07:51:12.659493",
     "exception": false,
     "start_time": "2021-05-03T07:51:12.612923",
     "status": "completed"
    },
    "tags": []
   },
   "outputs": [
    {
     "name": "stdout",
     "output_type": "stream",
     "text": [
      "/kaggle/input/reducing-commercial-aviation-fatalities/sample_submission.csv\n",
      "/kaggle/input/reducing-commercial-aviation-fatalities/train.csv\n",
      "/kaggle/input/reducing-commercial-aviation-fatalities/test.csv\n"
     ]
    }
   ],
   "source": [
    "# This Python 3 environment comes with many helpful analytics libraries installed\n",
    "# It is defined by the kaggle/python Docker image: https://github.com/kaggle/docker-python\n",
    "# For example, here's several helpful packages to load\n",
    "\n",
    "import numpy as np # linear algebra\n",
    "import pandas as pd # data processing, CSV file I/O (e.g. pd.read_csv)\n",
    "\n",
    "# Input data files are available in the read-only \"../input/\" directory\n",
    "# For example, running this (by clicking run or pressing Shift+Enter) will list all files under the input directory\n",
    "\n",
    "import os\n",
    "for dirname, _, filenames in os.walk('/kaggle/input'):\n",
    "    for filename in filenames:\n",
    "        print(os.path.join(dirname, filename))\n",
    "\n",
    "# You can write up to 20GB to the current directory (/kaggle/working/) that gets preserved as output when you create a version using \"Save & Run All\" \n",
    "# You can also write temporary files to /kaggle/temp/, but they won't be saved outside of the current session"
   ]
  },
  {
   "cell_type": "code",
   "execution_count": 2,
   "id": "attractive-chicken",
   "metadata": {
    "execution": {
     "iopub.execute_input": "2021-05-03T07:51:12.726856Z",
     "iopub.status.busy": "2021-05-03T07:51:12.726206Z",
     "iopub.status.idle": "2021-05-03T07:51:14.518233Z",
     "shell.execute_reply": "2021-05-03T07:51:14.517562Z"
    },
    "papermill": {
     "duration": 1.825586,
     "end_time": "2021-05-03T07:51:14.518373",
     "exception": false,
     "start_time": "2021-05-03T07:51:12.692787",
     "status": "completed"
    },
    "tags": []
   },
   "outputs": [
    {
     "data": {
      "text/html": [
       "<style type='text/css'>\n",
       ".datatable table.frame { margin-bottom: 0; }\n",
       ".datatable table.frame thead { border-bottom: none; }\n",
       ".datatable table.frame tr.coltypes td {  color: #FFFFFF;  line-height: 6px;  padding: 0 0.5em;}\n",
       ".datatable .bool    { background: #DDDD99; }\n",
       ".datatable .object  { background: #565656; }\n",
       ".datatable .int     { background: #5D9E5D; }\n",
       ".datatable .float   { background: #4040CC; }\n",
       ".datatable .str     { background: #CC4040; }\n",
       ".datatable .row_index {  background: var(--jp-border-color3);  border-right: 1px solid var(--jp-border-color0);  color: var(--jp-ui-font-color3);  font-size: 9px;}\n",
       ".datatable .frame tr.coltypes .row_index {  background: var(--jp-border-color0);}\n",
       ".datatable th:nth-child(2) { padding-left: 12px; }\n",
       ".datatable .hellipsis {  color: var(--jp-cell-editor-border-color);}\n",
       ".datatable .vellipsis {  background: var(--jp-layout-color0);  color: var(--jp-cell-editor-border-color);}\n",
       ".datatable .na {  color: var(--jp-cell-editor-border-color);  font-size: 80%;}\n",
       ".datatable .footer { font-size: 9px; }\n",
       ".datatable .frame_dimensions {  background: var(--jp-border-color3);  border-top: 1px solid var(--jp-border-color0);  color: var(--jp-ui-font-color3);  display: inline-block;  opacity: 0.6;  padding: 1px 10px 1px 5px;}\n",
       "</style>\n"
      ],
      "text/plain": [
       "<IPython.core.display.HTML object>"
      ]
     },
     "metadata": {},
     "output_type": "display_data"
    }
   ],
   "source": [
    "import time\n",
    "\n",
    "import numpy as np\n",
    "import pandas as pd\n",
    "import matplotlib.pyplot as plt\n",
    "\n",
    "from sklearn.preprocessing import OneHotEncoder, MinMaxScaler, StandardScaler\n",
    "from sklearn.model_selection import train_test_split, GridSearchCV\n",
    "from sklearn.pipeline import Pipeline\n",
    "from sklearn.metrics import log_loss, accuracy_score, precision_recall_fscore_support\n",
    "from sklearn.metrics import multilabel_confusion_matrix, confusion_matrix\n",
    "from sklearn.metrics import classification_report, f1_score\n",
    "import seaborn as sns\n",
    "import lightgbm as lgb\n",
    "from tqdm.notebook import tqdm\n",
    "\n",
    "#models\n",
    "from sklearn.linear_model import LogisticRegression\n",
    "from sklearn.tree import DecisionTreeClassifier\n",
    "from sklearn.ensemble import RandomForestClassifier\n",
    "from xgboost import XGBClassifier #Gradient booster classifier\n",
    "from lightgbm import LGBMClassifier"
   ]
  },
  {
   "cell_type": "markdown",
   "id": "committed-democracy",
   "metadata": {
    "papermill": {
     "duration": 0.031779,
     "end_time": "2021-05-03T07:51:14.584122",
     "exception": false,
     "start_time": "2021-05-03T07:51:14.552343",
     "status": "completed"
    },
    "tags": []
   },
   "source": [
    "# 1. Data Exploration and Understanding"
   ]
  },
  {
   "cell_type": "code",
   "execution_count": 3,
   "id": "economic-slope",
   "metadata": {
    "execution": {
     "iopub.execute_input": "2021-05-03T07:51:14.655962Z",
     "iopub.status.busy": "2021-05-03T07:51:14.655269Z",
     "iopub.status.idle": "2021-05-03T07:53:53.217972Z",
     "shell.execute_reply": "2021-05-03T07:53:53.217019Z"
    },
    "papermill": {
     "duration": 158.60226,
     "end_time": "2021-05-03T07:53:53.218379",
     "exception": false,
     "start_time": "2021-05-03T07:51:14.616119",
     "status": "completed"
    },
    "tags": []
   },
   "outputs": [],
   "source": [
    "dtypes = {\"crew\": \"int8\",\n",
    "          \"experiment\": \"category\",\n",
    "          \"time\": \"float32\",\n",
    "          \"seat\": \"int8\",\n",
    "          \"eeg_fp1\": \"float32\",\n",
    "          \"eeg_f7\": \"float32\",\n",
    "          \"eeg_f8\": \"float32\",\n",
    "          \"eeg_t4\": \"float32\",\n",
    "          \"eeg_t6\": \"float32\",\n",
    "          \"eeg_t5\": \"float32\",\n",
    "          \"eeg_t3\": \"float32\",\n",
    "          \"eeg_fp2\": \"float32\",\n",
    "          \"eeg_o1\": \"float32\",\n",
    "          \"eeg_p3\": \"float32\",\n",
    "          \"eeg_pz\": \"float32\",\n",
    "          \"eeg_f3\": \"float32\",\n",
    "          \"eeg_fz\": \"float32\",\n",
    "          \"eeg_f4\": \"float32\",\n",
    "          \"eeg_c4\": \"float32\",\n",
    "          \"eeg_p4\": \"float32\",\n",
    "          \"eeg_poz\": \"float32\",\n",
    "          \"eeg_c3\": \"float32\",\n",
    "          \"eeg_cz\": \"float32\",\n",
    "          \"eeg_o2\": \"float32\",\n",
    "          \"ecg\": \"float32\",\n",
    "          \"r\": \"float32\",\n",
    "          \"gsr\": \"float32\",\n",
    "          \"event\": \"category\",\n",
    "         }\n",
    "\n",
    "train_df = pd.read_csv(\"../input/reducing-commercial-aviation-fatalities/train.csv\", dtype=dtypes)\n",
    "test_df = pd.read_csv(\"../input/reducing-commercial-aviation-fatalities/test.csv\", dtype=dtypes)"
   ]
  },
  {
   "cell_type": "markdown",
   "id": "shaped-puzzle",
   "metadata": {
    "papermill": {
     "duration": 0.031716,
     "end_time": "2021-05-03T07:53:53.285536",
     "exception": false,
     "start_time": "2021-05-03T07:53:53.253820",
     "status": "completed"
    },
    "tags": []
   },
   "source": [
    "Let's see how many crews we are dealing with."
   ]
  },
  {
   "cell_type": "code",
   "execution_count": 4,
   "id": "grateful-spice",
   "metadata": {
    "execution": {
     "iopub.execute_input": "2021-05-03T07:53:53.360439Z",
     "iopub.status.busy": "2021-05-03T07:53:53.359724Z",
     "iopub.status.idle": "2021-05-03T07:53:53.574731Z",
     "shell.execute_reply": "2021-05-03T07:53:53.573809Z"
    },
    "papermill": {
     "duration": 0.257601,
     "end_time": "2021-05-03T07:53:53.574918",
     "exception": false,
     "start_time": "2021-05-03T07:53:53.317317",
     "status": "completed"
    },
    "tags": []
   },
   "outputs": [
    {
     "name": "stdout",
     "output_type": "stream",
     "text": [
      "[ 1  2  3  4  5  6  7  8 13]\n"
     ]
    }
   ],
   "source": [
    "print(train_df.crew.unique())\n",
    "assert(set(train_df.crew.unique())==set(test_df.crew.unique()))"
   ]
  },
  {
   "cell_type": "markdown",
   "id": "medieval-humanitarian",
   "metadata": {
    "papermill": {
     "duration": 0.032332,
     "end_time": "2021-05-03T07:53:53.640564",
     "exception": false,
     "start_time": "2021-05-03T07:53:53.608232",
     "status": "completed"
    },
    "tags": []
   },
   "source": [
    "Each pilot is identified as occupying one seat (left or right) in one crew (9 crews in total). We generate a unique ID for each pilot."
   ]
  },
  {
   "cell_type": "code",
   "execution_count": 5,
   "id": "infinite-jesus",
   "metadata": {
    "execution": {
     "iopub.execute_input": "2021-05-03T07:53:53.711748Z",
     "iopub.status.busy": "2021-05-03T07:53:53.711083Z",
     "iopub.status.idle": "2021-05-03T07:53:53.759994Z",
     "shell.execute_reply": "2021-05-03T07:53:53.759305Z"
    },
    "papermill": {
     "duration": 0.087084,
     "end_time": "2021-05-03T07:53:53.760141",
     "exception": false,
     "start_time": "2021-05-03T07:53:53.673057",
     "status": "completed"
    },
    "tags": []
   },
   "outputs": [],
   "source": [
    "train_df['pilot'] = 100 * train_df['seat'] + train_df['crew']\n",
    "test_df['pilot'] = 100 * test_df['seat'] + test_df['crew']\n",
    "#Add pilots value"
   ]
  },
  {
   "cell_type": "markdown",
   "id": "twenty-keyboard",
   "metadata": {
    "papermill": {
     "duration": 0.032566,
     "end_time": "2021-05-03T07:53:53.825464",
     "exception": false,
     "start_time": "2021-05-03T07:53:53.792898",
     "status": "completed"
    },
    "tags": []
   },
   "source": [
    "We have column 'time' in our data. Let's see if it is organized in a good manner. Take pilot No.1 as an example."
   ]
  },
  {
   "cell_type": "code",
   "execution_count": 6,
   "id": "undefined-trainer",
   "metadata": {
    "execution": {
     "iopub.execute_input": "2021-05-03T07:53:53.894510Z",
     "iopub.status.busy": "2021-05-03T07:53:53.893851Z",
     "iopub.status.idle": "2021-05-03T07:53:55.612402Z",
     "shell.execute_reply": "2021-05-03T07:53:55.611767Z"
    },
    "papermill": {
     "duration": 1.754127,
     "end_time": "2021-05-03T07:53:55.612551",
     "exception": false,
     "start_time": "2021-05-03T07:53:53.858424",
     "status": "completed"
    },
    "tags": []
   },
   "outputs": [
    {
     "data": {
      "image/png": "[encoded data removed]",
      "text/plain": [
       "<Figure size 576x216 with 2 Axes>"
      ]
     },
     "metadata": {
      "needs_background": "light"
     },
     "output_type": "display_data"
    }
   ],
   "source": [
    "plt.figure(figsize=(8,3))\n",
    "chunk=train_df[train_df.pilot==1].reset_index()\n",
    "exp_colors={'SS':'g','CA':'r','DA':'k','LOFT':'b'}\n",
    "for exp in chunk.experiment.unique():\n",
    "    exp_chunk=chunk[chunk.experiment==exp]\n",
    "    plt.subplot(1,2,1)\n",
    "    plt.scatter(exp_chunk.index,exp_chunk.time.values,alpha=0.5,marker='.',c=exp_colors[exp])\n",
    "    plt.title('Index-Time in training data')\n",
    "    \n",
    "test_chunk=test_df[test_df.pilot==1]\n",
    "for exp in test_chunk.experiment.unique():\n",
    "    exp_chunk=test_chunk[test_chunk.experiment==exp]\n",
    "    plt.subplot(1,2,2)\n",
    "    plt.scatter(exp_chunk.index,exp_chunk.time.values,alpha=0.5,marker='.',c=exp_colors[exp])\n",
    "    plt.title('Index-Time in test data')"
   ]
  },
  {
   "cell_type": "markdown",
   "id": "parental-cartridge",
   "metadata": {
    "papermill": {
     "duration": 0.032962,
     "end_time": "2021-05-03T07:53:55.679196",
     "exception": false,
     "start_time": "2021-05-03T07:53:55.646234",
     "status": "completed"
    },
    "tags": []
   },
   "source": [
    "Looks like we have a dataset shuffled in terms of time. Also, for each experiment time is recalculated. 3 kinds of experiments in training set and 1 in test set. What about we sort by time and plot again? If we get a perfect line, that means we can restore order of data to do more analysis."
   ]
  },
  {
   "cell_type": "code",
   "execution_count": 7,
   "id": "explicit-camcorder",
   "metadata": {
    "execution": {
     "iopub.execute_input": "2021-05-03T07:53:55.755718Z",
     "iopub.status.busy": "2021-05-03T07:53:55.754891Z",
     "iopub.status.idle": "2021-05-03T07:53:56.415826Z",
     "shell.execute_reply": "2021-05-03T07:53:56.415212Z"
    },
    "papermill": {
     "duration": 0.703609,
     "end_time": "2021-05-03T07:53:56.415992",
     "exception": false,
     "start_time": "2021-05-03T07:53:55.712383",
     "status": "completed"
    },
    "tags": []
   },
   "outputs": [
    {
     "data": {
      "image/png": "[encoded data removed]",
      "text/plain": [
       "<Figure size 648x144 with 4 Axes>"
      ]
     },
     "metadata": {
      "needs_background": "light"
     },
     "output_type": "display_data"
    }
   ],
   "source": [
    "plt.figure(figsize=(9,2))\n",
    "chunk_sorted = chunk.sort_values(by='time')\n",
    "for i,exp in enumerate(chunk.experiment.unique()):\n",
    "    plt.subplot(1,4,i+1)\n",
    "    exp_chunk=chunk_sorted[chunk_sorted.experiment==exp].reset_index()\n",
    "    plt.plot(exp_chunk.index,exp_chunk.time,c=exp_colors[exp])\n",
    "    plt.title(exp)\n",
    "\n",
    "plt.subplot(1,4,4)\n",
    "test_chunk = test_chunk.sort_values(by='time').reset_index()\n",
    "plt.plot(test_chunk.index,test_chunk.time,c=exp_colors[exp])\n",
    "plt.title('LOFT - Test Data');"
   ]
  },
  {
   "cell_type": "markdown",
   "id": "acquired-cliff",
   "metadata": {
    "papermill": {
     "duration": 0.034689,
     "end_time": "2021-05-03T07:53:56.485456",
     "exception": false,
     "start_time": "2021-05-03T07:53:56.450767",
     "status": "completed"
    },
    "tags": []
   },
   "source": [
    "As can be seen, after sorting our time data looks perfectly continuous and monotonic. A big progress! Now with this continuous dataframe we can investigate how time interacts with other features. To save space, we show only a few visuals from our collection."
   ]
  },
  {
   "cell_type": "code",
   "execution_count": 8,
   "id": "quick-burton",
   "metadata": {
    "execution": {
     "iopub.execute_input": "2021-05-03T07:53:56.566478Z",
     "iopub.status.busy": "2021-05-03T07:53:56.565512Z",
     "iopub.status.idle": "2021-05-03T07:53:58.050232Z",
     "shell.execute_reply": "2021-05-03T07:53:58.049654Z"
    },
    "papermill": {
     "duration": 1.529964,
     "end_time": "2021-05-03T07:53:58.050372",
     "exception": false,
     "start_time": "2021-05-03T07:53:56.520408",
     "status": "completed"
    },
    "tags": []
   },
   "outputs": [
    {
     "data": {
      "image/png": "[encoded data removed]",
      "text/plain": [
       "<Figure size 720x720 with 9 Axes>"
      ]
     },
     "metadata": {
      "needs_background": "light"
     },
     "output_type": "display_data"
    }
   ],
   "source": [
    "plt.figure(figsize=(10,10)) \n",
    "for i,feature in enumerate(['gsr','r','eeg_f8']):\n",
    "    for j,exp in enumerate(chunk.experiment.unique()):\n",
    "        plt.subplot(3,3,i*3+j+1)\n",
    "        exp_chunk=chunk_sorted[chunk_sorted.experiment==exp]\n",
    "        for event in exp_chunk.event.unique():\n",
    "            event_chunk=exp_chunk[exp_chunk.event==event]\n",
    "            plt.scatter(event_chunk.time, event_chunk[feature], c='k' if event=='A' else 'y', marker=',', s=1)\n",
    "\n",
    "            plt.ylim((chunk[feature].min()*0.99,chunk[feature].max()*1.01))\n",
    "        plt.title(exp+'-'+feature)\n",
    "        if j!=0:\n",
    "            plt.tick_params(\n",
    "                axis='y',       # changes apply to the x-axis\n",
    "                which='both',   # both major and minor ticks are affected\n",
    "                left=False,     # ticks along the bottom edge are off\n",
    "                labelleft=False)"
   ]
  },
  {
   "cell_type": "markdown",
   "id": "potential-homeless",
   "metadata": {
    "papermill": {
     "duration": 0.036058,
     "end_time": "2021-05-03T07:53:58.123038",
     "exception": false,
     "start_time": "2021-05-03T07:53:58.086980",
     "status": "completed"
    },
    "tags": []
   },
   "source": [
    "We can see that our variables are continuous, changing little in short amount of time. Also, events occur suddenly and last for sometime. Lastly, think of our goal: we are predicting events in a new experiment that our model knows nothing about it. All of these indicate that we need to think of a new way to shuffle data into training and validation dataset. Otherwise, suppose we are using random split over one time period, 80% data in this period goes to training set, and 20% goes to validation set. Because data in two pieces are so similar that our classifier learns how to match training data with validation set instead, we are overwhelmingly overfitting and prediction results using validation dataset can be over-optimistic (this is presumably why we can get a perfect prediction against validation set but final submissions usually disappoint us).\n",
    "\n",
    "My way to cope with this situation is to group data according to time. If we split our data into fragments of several seconds, we are reducing correlation between each group and making it harder for our classifier to \"match\".\n",
    "\n",
    "I am assigning groups into 240-sec fragments for illustration purpose because the more groups we have, the longer it takes to calculate group features during feature engineering. And Kaggle has a certain time limit for kernels. As a result, the results here do NOT reflect models for my real submission."
   ]
  },
  {
   "cell_type": "code",
   "execution_count": 9,
   "id": "absolute-maintenance",
   "metadata": {
    "execution": {
     "iopub.execute_input": "2021-05-03T07:53:58.206338Z",
     "iopub.status.busy": "2021-05-03T07:53:58.204502Z",
     "iopub.status.idle": "2021-05-03T07:54:08.676233Z",
     "shell.execute_reply": "2021-05-03T07:54:08.675677Z"
    },
    "papermill": {
     "duration": 10.51699,
     "end_time": "2021-05-03T07:54:08.676375",
     "exception": false,
     "start_time": "2021-05-03T07:53:58.159385",
     "status": "completed"
    },
    "tags": []
   },
   "outputs": [
    {
     "name": "stdout",
     "output_type": "stream",
     "text": [
      "Grouping data for 4867421 rows\n"
     ]
    },
    {
     "data": {
      "application/vnd.jupyter.widget-view+json": {
       "model_id": "43bbc4372d06425d83f3c6c361d38ccc",
       "version_major": 2,
       "version_minor": 0
      },
      "text/plain": [
       "  0%|          | 0/18 [00:00<?, ?it/s]"
      ]
     },
     "metadata": {},
     "output_type": "display_data"
    },
    {
     "name": "stdout",
     "output_type": "stream",
     "text": [
      "Grouping data for 17965143 rows\n"
     ]
    },
    {
     "data": {
      "application/vnd.jupyter.widget-view+json": {
       "model_id": "12c0a72c42cd4dacbd2b255a44f31c3e",
       "version_major": 2,
       "version_minor": 0
      },
      "text/plain": [
       "  0%|          | 0/18 [00:00<?, ?it/s]"
      ]
     },
     "metadata": {},
     "output_type": "display_data"
    }
   ],
   "source": [
    "def grouping(df):\n",
    "    print('Grouping data for {} rows'.format(len(df)))\n",
    "    df['groupid']=np.nan\n",
    "    first_available=0  # Ensure a unique ID for every fragment during one experiment of one pilot in the entire dataframe\n",
    "    interval=240        # variable to control inrerval of each group\n",
    "    for pilot in tqdm(df.pilot.unique()):\n",
    "        for exp in df[df.pilot==pilot].experiment.unique():\n",
    "            chunk=df[(df.pilot==pilot) & (df.experiment==exp)]\n",
    "            df.loc[chunk.index,'groupid']=(chunk.time//interval).astype(int)+first_available\n",
    "            first_available+=((int)((chunk.time//interval).max())+1)\n",
    "grouping(train_df)\n",
    "grouping(test_df)"
   ]
  },
  {
   "cell_type": "code",
   "execution_count": 10,
   "id": "literary-galaxy",
   "metadata": {
    "execution": {
     "iopub.execute_input": "2021-05-03T07:54:08.760704Z",
     "iopub.status.busy": "2021-05-03T07:54:08.760029Z",
     "iopub.status.idle": "2021-05-03T07:54:08.763958Z",
     "shell.execute_reply": "2021-05-03T07:54:08.763333Z"
    },
    "papermill": {
     "duration": 0.050272,
     "end_time": "2021-05-03T07:54:08.764093",
     "exception": false,
     "start_time": "2021-05-03T07:54:08.713821",
     "status": "completed"
    },
    "tags": []
   },
   "outputs": [],
   "source": [
    "def train_test_split_group(X,y,grouping_reference,random_state=0,train_size=0.75):\n",
    "    from sklearn.model_selection import train_test_split\n",
    "    groups=grouping_reference.unique()\n",
    "    groupN=len(groups)\n",
    "    Gtrain,Gtest=train_test_split(groups,random_state=random_state,train_size=train_size)\n",
    "    train_index=sum([list(grouping_reference[grouping_reference==group].index) for group in Gtrain],[])\n",
    "    test_index=sum([list(grouping_reference[grouping_reference==group].index) for group in Gtest],[])\n",
    "    X_train=X.loc[train_index]\n",
    "    y_train=y[train_index]\n",
    "    X_test=X.loc[test_index]\n",
    "    y_test=y[test_index]\n",
    "    return X_train,X_test,y_train,y_test"
   ]
  },
  {
   "cell_type": "code",
   "execution_count": 11,
   "id": "verbal-north",
   "metadata": {
    "execution": {
     "iopub.execute_input": "2021-05-03T07:54:08.845333Z",
     "iopub.status.busy": "2021-05-03T07:54:08.844522Z",
     "iopub.status.idle": "2021-05-03T07:54:09.074742Z",
     "shell.execute_reply": "2021-05-03T07:54:09.074117Z"
    },
    "papermill": {
     "duration": 0.273325,
     "end_time": "2021-05-03T07:54:09.074886",
     "exception": false,
     "start_time": "2021-05-03T07:54:08.801561",
     "status": "completed"
    },
    "tags": []
   },
   "outputs": [
    {
     "name": "stderr",
     "output_type": "stream",
     "text": [
      "/opt/conda/lib/python3.7/site-packages/seaborn/_decorators.py:43: FutureWarning: Pass the following variable as a keyword arg: x. From version 0.12, the only valid positional argument will be `data`, and passing other arguments without an explicit keyword will result in an error or misinterpretation.\n",
      "  FutureWarning\n"
     ]
    },
    {
     "data": {
      "image/png": "[encoded data removed]",
      "text/plain": [
       "<Figure size 504x288 with 1 Axes>"
      ]
     },
     "metadata": {
      "needs_background": "light"
     },
     "output_type": "display_data"
    }
   ],
   "source": [
    "plt.figure(figsize=(7,4))\n",
    "sns.countplot(train_df.event);"
   ]
  },
  {
   "cell_type": "markdown",
   "id": "leading-membrane",
   "metadata": {
    "papermill": {
     "duration": 0.038538,
     "end_time": "2021-05-03T07:54:09.152081",
     "exception": false,
     "start_time": "2021-05-03T07:54:09.113543",
     "status": "completed"
    },
    "tags": []
   },
   "source": [
    "# 2. Data Cleaning\n",
    "Most columns are fine, but gsr (galvanic skin response) is an exception. There are lots of abnormal values in gsr that we should deal with."
   ]
  },
  {
   "cell_type": "code",
   "execution_count": 12,
   "id": "possible-feeling",
   "metadata": {
    "execution": {
     "iopub.execute_input": "2021-05-03T07:54:09.260311Z",
     "iopub.status.busy": "2021-05-03T07:54:09.259636Z",
     "iopub.status.idle": "2021-05-03T07:54:35.666627Z",
     "shell.execute_reply": "2021-05-03T07:54:35.665684Z"
    },
    "papermill": {
     "duration": 26.475981,
     "end_time": "2021-05-03T07:54:35.666774",
     "exception": false,
     "start_time": "2021-05-03T07:54:09.190793",
     "status": "completed"
    },
    "tags": []
   },
   "outputs": [
    {
     "name": "stderr",
     "output_type": "stream",
     "text": [
      "/opt/conda/lib/python3.7/site-packages/seaborn/distributions.py:2557: FutureWarning: `distplot` is a deprecated function and will be removed in a future version. Please adapt your code to use either `displot` (a figure-level function with similar flexibility) or `histplot` (an axes-level function for histograms).\n",
      "  warnings.warn(msg, FutureWarning)\n"
     ]
    },
    {
     "data": {
      "image/png": "[encoded data removed]",
      "text/plain": [
       "<Figure size 576x288 with 2 Axes>"
      ]
     },
     "metadata": {
      "needs_background": "light"
     },
     "output_type": "display_data"
    }
   ],
   "source": [
    "plt.figure(figsize=(8,4))\n",
    "plt.subplot(1,2,1)\n",
    "sns.distplot(train_df.gsr)\n",
    "plt.title('GSR Distribution in training data');\n",
    "plt.subplot(1,2,2)\n",
    "\n",
    "example=test_df[test_df.pilot==1].sort_values(by='time').reset_index()\n",
    "exp_colors={'SS':'g','CA':'r','DA':'k','LOFT':'b'}\n",
    "for exp in example.experiment.unique():\n",
    "    exp_chunk=example[example.experiment==exp]\n",
    "    plt.scatter(exp_chunk.time,exp_chunk.gsr,alpha=0.5,marker='.',c=exp_colors[exp],s=1)\n",
    "plt.title('Pilot No.1\\'s GSR in test data');"
   ]
  },
  {
   "cell_type": "markdown",
   "id": "heavy-college",
   "metadata": {
    "papermill": {
     "duration": 0.041415,
     "end_time": "2021-05-03T07:54:35.749147",
     "exception": false,
     "start_time": "2021-05-03T07:54:35.707732",
     "status": "completed"
    },
    "tags": []
   },
   "source": [
    "We can observe that there are many zero values in gsr that do not look normal. Also, we can see most values do no change a lot, while at some point values fluctuate drastically. Hence, we should think of RobustScaler to normalize our data."
   ]
  },
  {
   "cell_type": "code",
   "execution_count": 13,
   "id": "painted-guyana",
   "metadata": {
    "execution": {
     "iopub.execute_input": "2021-05-03T07:54:35.840632Z",
     "iopub.status.busy": "2021-05-03T07:54:35.839109Z",
     "iopub.status.idle": "2021-05-03T07:54:37.184937Z",
     "shell.execute_reply": "2021-05-03T07:54:37.184392Z"
    },
    "papermill": {
     "duration": 1.394797,
     "end_time": "2021-05-03T07:54:37.185079",
     "exception": false,
     "start_time": "2021-05-03T07:54:35.790282",
     "status": "completed"
    },
    "tags": []
   },
   "outputs": [
    {
     "data": {
      "application/vnd.jupyter.widget-view+json": {
       "model_id": "bae08df16a184c849e4ef4b09a56ac43",
       "version_major": 2,
       "version_minor": 0
      },
      "text/plain": [
       "  0%|          | 0/18 [00:00<?, ?it/s]"
      ]
     },
     "metadata": {},
     "output_type": "display_data"
    },
    {
     "name": "stdout",
     "output_type": "stream",
     "text": [
      "Detected zero gsr in Pilot No.102 Experiment:CA\n",
      "Detected zero gsr in Pilot No.102 Experiment:DA\n",
      "Detected zero gsr in Pilot No.102 Experiment:SS\n",
      "Detected zero gsr in Pilot No.105 Experiment:DA\n",
      "Detected zero gsr in Pilot No.7 Experiment:CA\n",
      "Detected zero gsr in Pilot No.7 Experiment:DA\n"
     ]
    }
   ],
   "source": [
    "containsZero=[]\n",
    "for pilot in tqdm(train_df.pilot.unique()):\n",
    "    for exp in train_df[train_df.pilot==pilot].experiment.unique():\n",
    "        chunk=train_df[(train_df.pilot==pilot) & (train_df.experiment==exp)]\n",
    "        if (chunk.gsr==0).any():\n",
    "            containsZero.append((pilot,exp))\n",
    "list(map(lambda x:print('Detected zero gsr in Pilot No.{} Experiment:{}'.format(x[0],x[1])),containsZero));"
   ]
  },
  {
   "cell_type": "code",
   "execution_count": 14,
   "id": "medium-baseball",
   "metadata": {
    "execution": {
     "iopub.execute_input": "2021-05-03T07:54:37.276645Z",
     "iopub.status.busy": "2021-05-03T07:54:37.275971Z",
     "iopub.status.idle": "2021-05-03T07:54:38.663222Z",
     "shell.execute_reply": "2021-05-03T07:54:38.662585Z"
    },
    "papermill": {
     "duration": 1.436461,
     "end_time": "2021-05-03T07:54:38.663370",
     "exception": false,
     "start_time": "2021-05-03T07:54:37.226909",
     "status": "completed"
    },
    "tags": []
   },
   "outputs": [
    {
     "data": {
      "image/png": "[encoded data removed]",
      "text/plain": [
       "<Figure size 648x288 with 6 Axes>"
      ]
     },
     "metadata": {
      "needs_background": "light"
     },
     "output_type": "display_data"
    }
   ],
   "source": [
    "plt.figure(figsize=(9,4))\n",
    "for i,(pilot,exp) in enumerate(containsZero):\n",
    "    chunk=train_df[(train_df.pilot==pilot) & (train_df.experiment==exp)]\n",
    "    plt.subplot(2,3,i+1)\n",
    "    plt.scatter(chunk.time,chunk.gsr)\n",
    "    plt.ylim([0,2500])"
   ]
  },
  {
   "cell_type": "markdown",
   "id": "prepared-robert",
   "metadata": {
    "papermill": {
     "duration": 0.042052,
     "end_time": "2021-05-03T07:54:38.747521",
     "exception": false,
     "start_time": "2021-05-03T07:54:38.705469",
     "status": "completed"
    },
    "tags": []
   },
   "source": [
    "We should fill zeros with estimates. We can firstly try if we can get a non-zero mean value for the pilot and corresponding experiment and replace zeros with this value (102:CA, 102:SS). If we get all zeros in one experiment, consider use the pilot's mean value.\n",
    "\n",
    "We can stop 0s from affecting mean calculations by replacing them into NANs. Also, we do the same to the test dataset."
   ]
  },
  {
   "cell_type": "code",
   "execution_count": 15,
   "id": "turkish-three",
   "metadata": {
    "execution": {
     "iopub.execute_input": "2021-05-03T07:54:38.845410Z",
     "iopub.status.busy": "2021-05-03T07:54:38.844746Z",
     "iopub.status.idle": "2021-05-03T07:54:39.180016Z",
     "shell.execute_reply": "2021-05-03T07:54:39.180524Z"
    },
    "papermill": {
     "duration": 0.390708,
     "end_time": "2021-05-03T07:54:39.180705",
     "exception": false,
     "start_time": "2021-05-03T07:54:38.789997",
     "status": "completed"
    },
    "tags": []
   },
   "outputs": [
    {
     "data": {
      "text/html": [
       "<div>\n",
       "<style scoped>\n",
       "    .dataframe tbody tr th:only-of-type {\n",
       "        vertical-align: middle;\n",
       "    }\n",
       "\n",
       "    .dataframe tbody tr th {\n",
       "        vertical-align: top;\n",
       "    }\n",
       "\n",
       "    .dataframe thead tr th {\n",
       "        text-align: left;\n",
       "    }\n",
       "\n",
       "    .dataframe thead tr:last-of-type th {\n",
       "        text-align: right;\n",
       "    }\n",
       "</style>\n",
       "<table border=\"1\" class=\"dataframe\">\n",
       "  <thead>\n",
       "    <tr>\n",
       "      <th></th>\n",
       "      <th colspan=\"4\" halign=\"left\">gsr</th>\n",
       "    </tr>\n",
       "    <tr>\n",
       "      <th>event</th>\n",
       "      <th>A</th>\n",
       "      <th>C</th>\n",
       "      <th>D</th>\n",
       "      <th>B</th>\n",
       "    </tr>\n",
       "    <tr>\n",
       "      <th>pilot</th>\n",
       "      <th></th>\n",
       "      <th></th>\n",
       "      <th></th>\n",
       "      <th></th>\n",
       "    </tr>\n",
       "  </thead>\n",
       "  <tbody>\n",
       "    <tr>\n",
       "      <th>1</th>\n",
       "      <td>713.021729</td>\n",
       "      <td>801.846375</td>\n",
       "      <td>673.309509</td>\n",
       "      <td>860.992859</td>\n",
       "    </tr>\n",
       "    <tr>\n",
       "      <th>2</th>\n",
       "      <td>1095.697998</td>\n",
       "      <td>1279.048950</td>\n",
       "      <td>1225.643066</td>\n",
       "      <td>1074.893066</td>\n",
       "    </tr>\n",
       "    <tr>\n",
       "      <th>3</th>\n",
       "      <td>806.885376</td>\n",
       "      <td>802.571777</td>\n",
       "      <td>695.225464</td>\n",
       "      <td>1004.742981</td>\n",
       "    </tr>\n",
       "    <tr>\n",
       "      <th>4</th>\n",
       "      <td>880.521240</td>\n",
       "      <td>939.883728</td>\n",
       "      <td>876.848083</td>\n",
       "      <td>880.694031</td>\n",
       "    </tr>\n",
       "    <tr>\n",
       "      <th>5</th>\n",
       "      <td>1526.038208</td>\n",
       "      <td>1445.909668</td>\n",
       "      <td>1705.614380</td>\n",
       "      <td>1498.331055</td>\n",
       "    </tr>\n",
       "  </tbody>\n",
       "</table>\n",
       "</div>"
      ],
      "text/plain": [
       "               gsr                                       \n",
       "event            A            C            D            B\n",
       "pilot                                                    \n",
       "1       713.021729   801.846375   673.309509   860.992859\n",
       "2      1095.697998  1279.048950  1225.643066  1074.893066\n",
       "3       806.885376   802.571777   695.225464  1004.742981\n",
       "4       880.521240   939.883728   876.848083   880.694031\n",
       "5      1526.038208  1445.909668  1705.614380  1498.331055"
      ]
     },
     "execution_count": 15,
     "metadata": {},
     "output_type": "execute_result"
    }
   ],
   "source": [
    "train_df.loc[train_df.gsr==0,'gsr']=np.nan\n",
    "test_df.loc[test_df.gsr==0,'gsr']=np.nan\n",
    "\n",
    "gsr_reference=pd.pivot_table(train_df[['gsr','event','pilot']],index='pilot',columns=['event'],aggfunc=np.mean)\n",
    "gsr_reference.head()"
   ]
  },
  {
   "cell_type": "markdown",
   "id": "accurate-plant",
   "metadata": {
    "papermill": {
     "duration": 0.042825,
     "end_time": "2021-05-03T07:54:39.266342",
     "exception": false,
     "start_time": "2021-05-03T07:54:39.223517",
     "status": "completed"
    },
    "tags": []
   },
   "source": [
    "Then we replace NAN values using estimates."
   ]
  },
  {
   "cell_type": "code",
   "execution_count": 16,
   "id": "level-realtor",
   "metadata": {
    "execution": {
     "iopub.execute_input": "2021-05-03T07:54:39.360055Z",
     "iopub.status.busy": "2021-05-03T07:54:39.355521Z",
     "iopub.status.idle": "2021-05-03T07:54:39.570248Z",
     "shell.execute_reply": "2021-05-03T07:54:39.569507Z"
    },
    "papermill": {
     "duration": 0.26111,
     "end_time": "2021-05-03T07:54:39.570394",
     "exception": false,
     "start_time": "2021-05-03T07:54:39.309284",
     "status": "completed"
    },
    "tags": []
   },
   "outputs": [],
   "source": [
    "for i,(pilot,exp) in enumerate(containsZero):\n",
    "    chunk=train_df[(train_df.pilot==pilot) & (train_df.experiment==exp)]\n",
    "    if not np.isnan(chunk.gsr).all():\n",
    "        train_df.loc[chunk[np.isnan(chunk.gsr)].index,'gsr']=chunk.gsr.mean()\n",
    "    else:\n",
    "        train_df.loc[chunk.index,'gsr']=gsr_reference.loc[pilot].mean()"
   ]
  },
  {
   "cell_type": "markdown",
   "id": "absent-arthur",
   "metadata": {
    "papermill": {
     "duration": 0.042499,
     "end_time": "2021-05-03T07:54:39.656024",
     "exception": false,
     "start_time": "2021-05-03T07:54:39.613525",
     "status": "completed"
    },
    "tags": []
   },
   "source": [
    "As we do not have 'event' column in test data while test data contains considerable 0s in gsr, we use mean value in training data to fill."
   ]
  },
  {
   "cell_type": "code",
   "execution_count": 17,
   "id": "cognitive-backup",
   "metadata": {
    "execution": {
     "iopub.execute_input": "2021-05-03T07:54:39.752372Z",
     "iopub.status.busy": "2021-05-03T07:54:39.750573Z",
     "iopub.status.idle": "2021-05-03T07:54:42.168211Z",
     "shell.execute_reply": "2021-05-03T07:54:42.168697Z"
    },
    "papermill": {
     "duration": 2.4698,
     "end_time": "2021-05-03T07:54:42.168869",
     "exception": false,
     "start_time": "2021-05-03T07:54:39.699069",
     "status": "completed"
    },
    "tags": []
   },
   "outputs": [
    {
     "data": {
      "application/vnd.jupyter.widget-view+json": {
       "model_id": "ad10dcd7e9ca41aeaccd68c7ac426709",
       "version_major": 2,
       "version_minor": 0
      },
      "text/plain": [
       "  0%|          | 0/18 [00:00<?, ?it/s]"
      ]
     },
     "metadata": {},
     "output_type": "display_data"
    }
   ],
   "source": [
    "for pilot in tqdm(test_df.pilot.unique()):\n",
    "    chunk=test_df[test_df.pilot==pilot]\n",
    "    if (np.isnan(chunk.gsr)).any():\n",
    "        test_df.loc[chunk[np.isnan(chunk.gsr)].index,'gsr']=gsr_reference.loc[pilot].mean()"
   ]
  },
  {
   "cell_type": "markdown",
   "id": "greatest-messenger",
   "metadata": {
    "papermill": {
     "duration": 0.043563,
     "end_time": "2021-05-03T07:54:42.256435",
     "exception": false,
     "start_time": "2021-05-03T07:54:42.212872",
     "status": "completed"
    },
    "tags": []
   },
   "source": [
    "# 3. Feature Engineering"
   ]
  },
  {
   "cell_type": "markdown",
   "id": "challenging-scotland",
   "metadata": {
    "papermill": {
     "duration": 0.043467,
     "end_time": "2021-05-03T07:54:42.343442",
     "exception": false,
     "start_time": "2021-05-03T07:54:42.299975",
     "status": "completed"
    },
    "tags": []
   },
   "source": [
    "To be honest, we are not eeg specialists, and have little domain knowledge of EEG. However, after reading essays, we realized it might be useful to filter out high-frequency signals, which might be random noise. To filter signals, we should use scipy.signal package. We suspect existence of sweat artifact but cannot confirm this based on our knowledge."
   ]
  },
  {
   "cell_type": "code",
   "execution_count": 18,
   "id": "canadian-benchmark",
   "metadata": {
    "execution": {
     "iopub.execute_input": "2021-05-03T07:54:42.435850Z",
     "iopub.status.busy": "2021-05-03T07:54:42.435181Z",
     "iopub.status.idle": "2021-05-03T07:54:42.485106Z",
     "shell.execute_reply": "2021-05-03T07:54:42.484563Z"
    },
    "papermill": {
     "duration": 0.097636,
     "end_time": "2021-05-03T07:54:42.485292",
     "exception": false,
     "start_time": "2021-05-03T07:54:42.387656",
     "status": "completed"
    },
    "tags": []
   },
   "outputs": [],
   "source": [
    "from scipy import signal"
   ]
  },
  {
   "cell_type": "markdown",
   "id": "legendary-seeking",
   "metadata": {
    "papermill": {
     "duration": 0.043449,
     "end_time": "2021-05-03T07:54:42.572968",
     "exception": false,
     "start_time": "2021-05-03T07:54:42.529519",
     "status": "completed"
    },
    "tags": []
   },
   "source": [
    "Let's try it out first! For illustration purposes, we pick up the first 500 rows of eeg_fp1 data from pilot No.1 and experiment CA."
   ]
  },
  {
   "cell_type": "code",
   "execution_count": 19,
   "id": "confidential-office",
   "metadata": {
    "execution": {
     "iopub.execute_input": "2021-05-03T07:54:42.669957Z",
     "iopub.status.busy": "2021-05-03T07:54:42.669293Z",
     "iopub.status.idle": "2021-05-03T07:54:43.165959Z",
     "shell.execute_reply": "2021-05-03T07:54:43.165410Z"
    },
    "papermill": {
     "duration": 0.54911,
     "end_time": "2021-05-03T07:54:43.166106",
     "exception": false,
     "start_time": "2021-05-03T07:54:42.616996",
     "status": "completed"
    },
    "tags": []
   },
   "outputs": [
    {
     "name": "stderr",
     "output_type": "stream",
     "text": [
      "/opt/conda/lib/python3.7/site-packages/seaborn/_decorators.py:43: FutureWarning: Pass the following variables as keyword args: x, y. From version 0.12, the only valid positional argument will be `data`, and passing other arguments without an explicit keyword will result in an error or misinterpretation.\n",
      "  FutureWarning\n",
      "/opt/conda/lib/python3.7/site-packages/seaborn/_decorators.py:43: FutureWarning: Pass the following variables as keyword args: x, y. From version 0.12, the only valid positional argument will be `data`, and passing other arguments without an explicit keyword will result in an error or misinterpretation.\n",
      "  FutureWarning\n"
     ]
    },
    {
     "data": {
      "image/png": "[encoded data removed]",
      "text/plain": [
       "<Figure size 432x288 with 2 Axes>"
      ]
     },
     "metadata": {
      "needs_background": "light"
     },
     "output_type": "display_data"
    }
   ],
   "source": [
    "signal_example=chunk_sorted[chunk_sorted.experiment=='CA'].iloc[0:500]\n",
    "\n",
    "plt.figure(figsize=(6,4))\n",
    "d=signal_example.eeg_fp1\n",
    "b, a = signal.butter(2,0.6) \n",
    "\n",
    "y = signal.filtfilt(b, a, d, padlen=150)\n",
    "\n",
    "plt.subplot(2,1,1)\n",
    "sns.lineplot(signal_example.time,d,hue=signal_example.event,linewidth=1)\n",
    "plt.gca().get_legend().remove()\n",
    "plt.ylabel('raw data')\n",
    "\n",
    "plt.subplot(2,1,2)\n",
    "sns.lineplot(signal_example.time,y,hue=signal_example.event,linewidth=1)\n",
    "plt.gca().get_legend().remove()\n",
    "plt.ylabel('filtered');"
   ]
  },
  {
   "cell_type": "markdown",
   "id": "interested-teddy",
   "metadata": {
    "papermill": {
     "duration": 0.045914,
     "end_time": "2021-05-03T07:54:43.258569",
     "exception": false,
     "start_time": "2021-05-03T07:54:43.212655",
     "status": "completed"
    },
    "tags": []
   },
   "source": [
    "Much clearer! Now let's apply this filter to all EEG features."
   ]
  },
  {
   "cell_type": "code",
   "execution_count": 20,
   "id": "later-cannon",
   "metadata": {
    "execution": {
     "iopub.execute_input": "2021-05-03T07:54:43.359826Z",
     "iopub.status.busy": "2021-05-03T07:54:43.359147Z",
     "iopub.status.idle": "2021-05-03T07:55:56.477717Z",
     "shell.execute_reply": "2021-05-03T07:55:56.477210Z"
    },
    "papermill": {
     "duration": 73.173081,
     "end_time": "2021-05-03T07:55:56.477889",
     "exception": false,
     "start_time": "2021-05-03T07:54:43.304808",
     "status": "completed"
    },
    "tags": []
   },
   "outputs": [
    {
     "data": {
      "application/vnd.jupyter.widget-view+json": {
       "model_id": "ab3d12080fc5492d9f2f201e9f1df8d2",
       "version_major": 2,
       "version_minor": 0
      },
      "text/plain": [
       "  0%|          | 0/18 [00:00<?, ?it/s]"
      ]
     },
     "metadata": {},
     "output_type": "display_data"
    },
    {
     "data": {
      "application/vnd.jupyter.widget-view+json": {
       "model_id": "76db533ffcfb401cb5f79d912a8d256a",
       "version_major": 2,
       "version_minor": 0
      },
      "text/plain": [
       "  0%|          | 0/18 [00:00<?, ?it/s]"
      ]
     },
     "metadata": {},
     "output_type": "display_data"
    }
   ],
   "source": [
    "eeg_features = [\"eeg_fp1\", \"eeg_f7\", \"eeg_f8\", \"eeg_t4\", \"eeg_t6\", \"eeg_t5\", \"eeg_t3\",\n",
    "                \"eeg_fp2\", \"eeg_o1\", \"eeg_p3\", \"eeg_pz\", \"eeg_f3\", \"eeg_fz\", \"eeg_f4\",\n",
    "                \"eeg_c4\", \"eeg_p4\", \"eeg_poz\", \"eeg_c3\", \"eeg_cz\", \"eeg_o2\"]\n",
    "\n",
    "\n",
    "def signal_filter(df):\n",
    "    for pilot in tqdm(df.pilot.unique()):\n",
    "        for exp in df[df.pilot==pilot].experiment.unique():\n",
    "            chunk=df[(df.pilot==pilot) & (df.experiment==exp)].sort_values(by='time')\n",
    "            for eeg in eeg_features:\n",
    "                df.loc[chunk.index,eeg]=pd.Series(data=signal.filtfilt(b, a, chunk[eeg], padlen=150),index=chunk.index,dtype='float32')\n",
    "signal_filter(train_df)\n",
    "signal_filter(test_df)"
   ]
  },
  {
   "cell_type": "markdown",
   "id": "lesbian-blackjack",
   "metadata": {
    "papermill": {
     "duration": 0.046712,
     "end_time": "2021-05-03T07:55:56.572153",
     "exception": false,
     "start_time": "2021-05-03T07:55:56.525441",
     "status": "completed"
    },
    "tags": []
   },
   "source": [
    "We assigned a groupid for each row. We can therefore calculate some features out of groups, such as min, max, standard deviation and mean, which might help model predict more accurately. If we assign groups with large interval, we risk new features being too general to catch important details. Inversely, if we have lots of groups, it is likely we end up overfitting after a looooooooooog time of calculation.\n",
    "\n",
    "Due to Kaggle kernel time restrictions, the interval in this kernel is for illustration purpose only.\n",
    "\n",
    "WARNING: This code takes a VERY long time (possible days and nights) to run when we have small interval (as we will have lots of groups to deal with)."
   ]
  },
  {
   "cell_type": "code",
   "execution_count": 21,
   "id": "every-security",
   "metadata": {
    "execution": {
     "iopub.execute_input": "2021-05-03T07:55:56.677457Z",
     "iopub.status.busy": "2021-05-03T07:55:56.676685Z",
     "iopub.status.idle": "2021-05-03T08:02:22.949815Z",
     "shell.execute_reply": "2021-05-03T08:02:22.949075Z"
    },
    "papermill": {
     "duration": 386.330306,
     "end_time": "2021-05-03T08:02:22.950019",
     "exception": false,
     "start_time": "2021-05-03T07:55:56.619713",
     "status": "completed"
    },
    "tags": []
   },
   "outputs": [
    {
     "data": {
      "application/vnd.jupyter.widget-view+json": {
       "model_id": "a000bd505cd44782a7e3eb6acd167913",
       "version_major": 2,
       "version_minor": 0
      },
      "text/plain": [
       "  0%|          | 0/106 [00:00<?, ?it/s]"
      ]
     },
     "metadata": {},
     "output_type": "display_data"
    },
    {
     "data": {
      "application/vnd.jupyter.widget-view+json": {
       "model_id": "609d7ac663904458b0360aace0a143f3",
       "version_major": 2,
       "version_minor": 0
      },
      "text/plain": [
       "  0%|          | 0/302 [00:00<?, ?it/s]"
      ]
     },
     "metadata": {},
     "output_type": "display_data"
    }
   ],
   "source": [
    "features_to_group=['gsr','r','ecg']\n",
    "grouped_features=['_grouped_'+e for e in ['max','min','std','mean']]\n",
    "new_features=[e+f for e in features_to_group for f in grouped_features]\n",
    "\n",
    "def extract_group_feature(df):\n",
    "    for nfeature in new_features:\n",
    "        df[nfeature]=np.nan\n",
    "    \n",
    "    for gid in tqdm(df.groupid.unique()):\n",
    "        chunk=df[df.groupid==gid]\n",
    "        for feature in features_to_group:\n",
    "            max_value=chunk[feature].max()\n",
    "            min_value=chunk[feature].min()\n",
    "            std_value=chunk[feature].std()\n",
    "            mean_value=chunk[feature].mean()\n",
    "\n",
    "            if np.isnan(std_value):\n",
    "                std_value=0\n",
    "\n",
    "            df.loc[chunk.index,[feature+e for e in grouped_features]]=[max_value,min_value,std_value,mean_value]\n",
    "extract_group_feature(train_df)\n",
    "extract_group_feature(test_df)"
   ]
  },
  {
   "cell_type": "markdown",
   "id": "scheduled-pleasure",
   "metadata": {
    "papermill": {
     "duration": 0.04759,
     "end_time": "2021-05-03T08:02:23.046318",
     "exception": false,
     "start_time": "2021-05-03T08:02:22.998728",
     "status": "completed"
    },
    "tags": []
   },
   "source": [
    "We finally normalize our data. Remember to use RobustScaler to deal with outliers and normalize on pilot level and apply trained scaler to normalize test data so as to avoid data leakage."
   ]
  },
  {
   "cell_type": "code",
   "execution_count": 22,
   "id": "regulation-guarantee",
   "metadata": {
    "execution": {
     "iopub.execute_input": "2021-05-03T08:02:23.154047Z",
     "iopub.status.busy": "2021-05-03T08:02:23.152809Z",
     "iopub.status.idle": "2021-05-03T08:09:39.910816Z",
     "shell.execute_reply": "2021-05-03T08:09:39.911268Z"
    },
    "papermill": {
     "duration": 436.815333,
     "end_time": "2021-05-03T08:09:39.911456",
     "exception": false,
     "start_time": "2021-05-03T08:02:23.096123",
     "status": "completed"
    },
    "tags": []
   },
   "outputs": [
    {
     "data": {
      "application/vnd.jupyter.widget-view+json": {
       "model_id": "6cf23d1814eb4534a06d7f0b41e13292",
       "version_major": 2,
       "version_minor": 0
      },
      "text/plain": [
       "  0%|          | 0/18 [00:00<?, ?it/s]"
      ]
     },
     "metadata": {},
     "output_type": "display_data"
    }
   ],
   "source": [
    "all_features = eeg_features+[\"ecg\", \"r\", \"gsr\"]+new_features\n",
    "from sklearn.preprocessing import RobustScaler\n",
    "\n",
    "for pilot in tqdm(train_df.pilot.unique()):\n",
    "    scaler=RobustScaler()\n",
    "    chunk=train_df.loc[train_df.pilot==pilot,all_features]\n",
    "    train_df.loc[chunk.index,all_features]=scaler.fit_transform(chunk).astype('float32')\n",
    "    \n",
    "    test_chunk=test_df.loc[test_df.pilot==pilot,all_features]\n",
    "    test_df.loc[test_chunk.index,all_features]=scaler.transform(test_chunk).astype('float32')"
   ]
  },
  {
   "cell_type": "markdown",
   "id": "opening-modification",
   "metadata": {
    "papermill": {
     "duration": 0.049072,
     "end_time": "2021-05-03T08:09:40.010648",
     "exception": false,
     "start_time": "2021-05-03T08:09:39.961576",
     "status": "completed"
    },
    "tags": []
   },
   "source": [
    "Memory Optimization: LightGBM takes a numpy matrix with dtype float32. If we are parsing a matrix with dtype other than float32, LightGBM will make a copy of our data and try converting it to float32, when memory usage can peak twice the size of input dataset and result in a memory error. Hence, we should make adjustments to avoid memory waste."
   ]
  },
  {
   "cell_type": "code",
   "execution_count": 23,
   "id": "civil-dependence",
   "metadata": {
    "execution": {
     "iopub.execute_input": "2021-05-03T08:09:40.111368Z",
     "iopub.status.busy": "2021-05-03T08:09:40.110672Z",
     "iopub.status.idle": "2021-05-03T08:09:49.462422Z",
     "shell.execute_reply": "2021-05-03T08:09:49.462946Z"
    },
    "papermill": {
     "duration": 9.403596,
     "end_time": "2021-05-03T08:09:49.463124",
     "exception": false,
     "start_time": "2021-05-03T08:09:40.059528",
     "status": "completed"
    },
    "tags": []
   },
   "outputs": [],
   "source": [
    "try:\n",
    "    train_group=train_df.groupid\n",
    "    train_target=train_df.event\n",
    "    train_df.drop(columns=[ 'crew', 'experiment', 'time', 'seat','pilot','groupid','event'],inplace=True)\n",
    "    test_id=test_df.id\n",
    "    test_df.drop(columns=['id', 'crew', 'experiment', 'time', 'seat','pilot','groupid'],inplace=True)\n",
    "\n",
    "except:\n",
    "    pass\n",
    "for column in test_df.columns:\n",
    "    train_df[column]=train_df[column].astype('float32')\n",
    "    test_df[column]=test_df[column].astype('float32')"
   ]
  },
  {
   "cell_type": "code",
   "execution_count": 24,
   "id": "least-thomas",
   "metadata": {
    "execution": {
     "iopub.execute_input": "2021-05-03T08:09:49.568302Z",
     "iopub.status.busy": "2021-05-03T08:09:49.567611Z",
     "iopub.status.idle": "2021-05-03T08:09:51.984734Z",
     "shell.execute_reply": "2021-05-03T08:09:51.984107Z"
    },
    "papermill": {
     "duration": 2.472893,
     "end_time": "2021-05-03T08:09:51.984895",
     "exception": false,
     "start_time": "2021-05-03T08:09:49.512002",
     "status": "completed"
    },
    "tags": []
   },
   "outputs": [],
   "source": [
    "assert(train_df.values.dtype=='float32')\n",
    "assert(test_df.values.dtype=='float32')"
   ]
  },
  {
   "cell_type": "markdown",
   "id": "pointed-cleaner",
   "metadata": {
    "papermill": {
     "duration": 0.04883,
     "end_time": "2021-05-03T08:09:52.082606",
     "exception": false,
     "start_time": "2021-05-03T08:09:52.033776",
     "status": "completed"
    },
    "tags": []
   },
   "source": [
    "This part is used for environment saving/loading so that we do not have to run all above and wait for 24hrs like idiots. By the way, pickle files are far faster to read and save and more space-efficient than csv files."
   ]
  },
  {
   "cell_type": "code",
   "execution_count": 25,
   "id": "inside-premium",
   "metadata": {
    "execution": {
     "iopub.execute_input": "2021-05-03T08:09:52.742055Z",
     "iopub.status.busy": "2021-05-03T08:09:52.740966Z",
     "iopub.status.idle": "2021-05-03T08:10:02.291819Z",
     "shell.execute_reply": "2021-05-03T08:10:02.292378Z"
    },
    "papermill": {
     "duration": 10.1608,
     "end_time": "2021-05-03T08:10:02.292553",
     "exception": false,
     "start_time": "2021-05-03T08:09:52.131753",
     "status": "completed"
    },
    "tags": []
   },
   "outputs": [],
   "source": [
    "train_df.to_pickle('train.pkl')\n",
    "test_df.to_pickle('test.pkl')"
   ]
  },
  {
   "cell_type": "markdown",
   "id": "fixed-front",
   "metadata": {
    "papermill": {
     "duration": 0.074791,
     "end_time": "2021-05-03T08:10:15.507480",
     "exception": false,
     "start_time": "2021-05-03T08:10:15.432689",
     "status": "completed"
    },
    "tags": []
   },
   "source": [
    "# 4. Model Training\n",
    "To evaluate model performance, we should split data into training set and validation set. As mentioned above, we are doing this on a coarser level."
   ]
  },
  {
   "cell_type": "code",
   "execution_count": 26,
   "id": "industrial-citizen",
   "metadata": {
    "execution": {
     "iopub.execute_input": "2021-05-03T08:10:17.952554Z",
     "iopub.status.busy": "2021-05-03T08:10:17.951816Z",
     "iopub.status.idle": "2021-05-03T08:10:28.129633Z",
     "shell.execute_reply": "2021-05-03T08:10:28.129034Z"
    },
    "papermill": {
     "duration": 10.271553,
     "end_time": "2021-05-03T08:10:28.129803",
     "exception": false,
     "start_time": "2021-05-03T08:10:17.858250",
     "status": "completed"
    },
    "tags": []
   },
   "outputs": [],
   "source": [
    "dic={'A': 0, 'B': 1, 'C': 2, 'D': 3}\n",
    "X_train,X_val,y_train,y_val = train_test_split_group(train_df, train_target, random_state=140, grouping_reference=train_group, train_size=0.8)  \n",
    "#train_test_split(train_df.drop('event',axis=1)[all_features],train_df.event.apply(lambda x:dic.get(x)), test_size=0.2, random_state=420)"
   ]
  },
  {
   "cell_type": "code",
   "execution_count": 27,
   "id": "sexual-honor",
   "metadata": {
    "execution": {
     "iopub.execute_input": "2021-05-03T08:10:28.244630Z",
     "iopub.status.busy": "2021-05-03T08:10:28.243773Z",
     "iopub.status.idle": "2021-05-03T08:10:28.247408Z",
     "shell.execute_reply": "2021-05-03T08:10:28.247937Z"
    },
    "papermill": {
     "duration": 0.068311,
     "end_time": "2021-05-03T08:10:28.248112",
     "exception": false,
     "start_time": "2021-05-03T08:10:28.179801",
     "status": "completed"
    },
    "tags": []
   },
   "outputs": [
    {
     "name": "stdout",
     "output_type": "stream",
     "text": [
      "CPU times: user 8 µs, sys: 0 ns, total: 8 µs\n",
      "Wall time: 12.6 µs\n"
     ]
    }
   ],
   "source": [
    "%%time\n",
    "\n",
    "def print_metrics(model):\n",
    "    y_pred_train = model.predict(X_train)\n",
    "    print(multilabel_confusion_matrix(y_train, y_pred_train,\n",
    "                                labels=[\"A\", \"B\", \"C\", \"D\"]))\n",
    "    print(classification_report(y_train, y_pred_train, target_names=[\"A\", \"B\", \"C\", \"D\"]))\n",
    "\n",
    "\n",
    "    y_pred_val = model.predict(X_val)\n",
    "    print(multilabel_confusion_matrix(y_val, y_pred_val,\n",
    "                                      labels=[\"A\", \"B\", \"C\", \"D\"]))\n",
    "    print(classification_report(y_val, y_pred_val, target_names=[\"A\", \"B\", \"C\", \"D\"]))\n",
    "    report = classification_report(y_val, y_pred_val, target_names=[\"A\", \"B\", \"C\", \"D\"], output_dict=True)\n",
    "    A_recall = report[\"A\"][\"recall\"]\n",
    "    D_precision = report[\"D\"][\"precision\"]\n",
    "    mean = (A_recall + D_precision) / 2\n",
    "    print(f'Recall of class A: {A_recall}')\n",
    "    print(f'Precision of class D: {D_precision}')\n",
    "    print(f'Mean: {mean}')\n",
    "    return report\n",
    "    \n",
    "def compute_scores(scores, model, model_name, x_train_, y_train_, x_val_, y_val_):\n",
    "    print(f'Model {model_name} Training Accuracy: ', model.score(x_train_, y_train_))\n",
    "    print(f'Model {model_name} Validation Accuracy: ', model.score(x_val_, y_val_))\n",
    "    print(f\"Model {model_name} Training log loss: \", log_loss(y_train_, model.predict_proba(x_train_)))\n",
    "    print(f\"Model {model_name} Validation log loss: \", log_loss(y_val_, model.predict_proba(x_val_)))\n",
    "    scores[\"train_acc\"].append(model.score(x_train_, y_train_))\n",
    "    scores[\"val_acc\"].append(model.score(x_val_, y_val_))\n",
    "    scores[\"train_loss\"].append(log_loss(y_train_, model.predict_proba(x_train_)))\n",
    "    scores[\"val_loss\"].append(log_loss(y_val_, model.predict_proba(x_val_)))\n",
    "    return scores\n",
    "\n",
    "def eval_f1_score(y_true, y_pred):\n",
    "    labels = [\"A\", \"B\", \"C\", \"D\"]\n",
    "    y_pred = y_pred.reshape(4, -1).T\n",
    "    y_pred = y_pred.argmax(axis=1)\n",
    "    f_score = f1_score(y_true , y_pred,  average='weighted', labels=labels)\n",
    "    return 'f1_score', f_score, True\n",
    "\n",
    "def eval_A_recall_D_precision(y_true, y_pred):\n",
    "    y_pred = y_pred.reshape(4, -1).T\n",
    "    y_pred = y_pred.argmax(axis=1)\n",
    "    metrics = precision_recall_fscore_support(y_true, y_pred, average=None)\n",
    "    A_recall = metrics[1][0]\n",
    "    D_precision = metrics[0][3]\n",
    "    mean = (A_recall + D_precision) / 2\n",
    "    return \"mean_A_recall_D_precision\", mean, True\n",
    "\n",
    "scores = {}\n",
    "scores[\"train_acc\"] = []\n",
    "scores[\"val_acc\"] = []\n",
    "scores[\"train_loss\"] = []\n",
    "scores[\"val_loss\"] = []"
   ]
  },
  {
   "cell_type": "code",
   "execution_count": 28,
   "id": "former-eight",
   "metadata": {
    "execution": {
     "iopub.execute_input": "2021-05-03T08:10:30.392436Z",
     "iopub.status.busy": "2021-05-03T08:10:30.391753Z",
     "iopub.status.idle": "2021-05-03T08:23:02.497890Z",
     "shell.execute_reply": "2021-05-03T08:23:02.498487Z"
    },
    "papermill": {
     "duration": 754.198732,
     "end_time": "2021-05-03T08:23:02.498693",
     "exception": false,
     "start_time": "2021-05-03T08:10:28.299961",
     "status": "completed"
    },
    "tags": []
   },
   "outputs": [
    {
     "name": "stderr",
     "output_type": "stream",
     "text": [
      "/opt/conda/lib/python3.7/site-packages/lightgbm/engine.py:156: UserWarning: Found `early_stopping_rounds` in params. Will use it instead of argument\n",
      "  warnings.warn(\"Found `{}` in params. Will use it instead of argument\".format(alias))\n"
     ]
    },
    {
     "name": "stdout",
     "output_type": "stream",
     "text": [
      "[LightGBM] [Warning] early_stopping_round is set=50, early_stopping_rounds=50 will be ignored. Current value: early_stopping_round=50\n",
      "[LightGBM] [Warning] feature_fraction is set=0.515153563909097, colsample_bytree=1.0 will be ignored. Current value: feature_fraction=0.515153563909097\n",
      "[LightGBM] [Warning] min_data_in_leaf is set=156, min_child_samples=20 will be ignored. Current value: min_data_in_leaf=156\n",
      "Training until validation scores don't improve for 50 rounds\n",
      "Early stopping, best iteration is:\n",
      "[145]\ttraining's multi_logloss: 0.287104\ttraining's mean_A_recall_D_precision: 0.355359\tvalid_1's multi_logloss: 0.769887\tvalid_1's mean_A_recall_D_precision: 0.411404\n",
      "CPU times: user 29min 23s, sys: 11.7 s, total: 29min 34s\n",
      "Wall time: 12min 32s\n"
     ]
    }
   ],
   "source": [
    "%%time\n",
    "\n",
    "\"\"\"\n",
    "Did not meet early stopping. Best iteration is:\n",
    "[3000]\tvalid_0's multi_logloss: 0.0102433\tvalid_0's f1_score: 0.996851\n",
    "{'learning_rate': 0.04, 'max_depth': 10, 'num_leaves': 27, 'min_data_in_leaf': 156, 'feature_fraction': 0.515153563909097, 'subsample': 0.23540514411668698, 'objective': 'multiclass', 'random_state': 314, 'n_estimators': 3000, 'early_stopping_rounds': 10, 'class_weight': 'balanced', 'verbose': -1}\n",
    "F1_score: 0.9968514264214164     Log Loss: 0.010243280790404225\n",
    "Took 6079.48428273201 seconds\n",
    "\n",
    "\"\"\"\n",
    "\n",
    "opt_params = {'learning_rate': 0.04,\n",
    "              'max_depth': 10,\n",
    "              'num_leaves': 27,\n",
    "              'min_data_in_leaf': 156,\n",
    "              'feature_fraction': 0.515153563909097,\n",
    "              'subsample': 0.23540514411668698,\n",
    "              'objective': 'multiclass',\n",
    "              'random_state': 314,\n",
    "              'n_estimators': 3000,\n",
    "              'class_weight': 'balanced',\n",
    "              \"early_stopping_rounds\": 50,\n",
    "              'verbose': -1}\n",
    "\n",
    "lgbm = LGBMClassifier(boosting_type = 'gbdt',\n",
    "                      **opt_params)\n",
    "start = time.time()\n",
    "lgbm.fit(X_train, y_train, \n",
    "         eval_set=[(X_train, y_train), (X_val, y_val)],\n",
    "         eval_metric=[eval_A_recall_D_precision, \"multi_logloss\"],\n",
    "         verbose=300)\n",
    "#     print(lgbm.best_score_)\n",
    "score_train = lgbm.best_score_['training']['mean_A_recall_D_precision']\n",
    "multi_logloss_train = lgbm.best_score_['training']['multi_logloss']\n",
    "score_val = lgbm.best_score_['valid_1']['mean_A_recall_D_precision']\n",
    "multi_logloss_val = lgbm.best_score_['valid_1']['multi_logloss']\n",
    "\n",
    "# print(f'A_recall_D_precision_Train: {score_train}     Log_Loss_Train: {multi_logloss_train}')\n",
    "# print(f'A_recall_D_precision_Val: {score_val}     Log_Loss_Val: {multi_logloss_val}')\n",
    "# print(f\"Took {time.time() - start} seconds\")\n",
    "# print(\"-------------------\")\n",
    "\n",
    "# lgbm_scores = compute_scores(scores, lgbm, \"LGBM\", X_train, y_train, X_val, y_val)\n",
    "# class_report = print_metrics(lgbm)\n",
    "\n",
    "# print(lgbm.get_lgbm_params())"
   ]
  },
  {
   "cell_type": "code",
   "execution_count": 29,
   "id": "alternative-craps",
   "metadata": {
    "execution": {
     "iopub.execute_input": "2021-05-03T08:23:02.608968Z",
     "iopub.status.busy": "2021-05-03T08:23:02.607910Z",
     "iopub.status.idle": "2021-05-03T08:26:12.862629Z",
     "shell.execute_reply": "2021-05-03T08:26:12.861640Z"
    },
    "papermill": {
     "duration": 190.312525,
     "end_time": "2021-05-03T08:26:12.862889",
     "exception": false,
     "start_time": "2021-05-03T08:23:02.550364",
     "status": "completed"
    },
    "tags": []
   },
   "outputs": [
    {
     "name": "stdout",
     "output_type": "stream",
     "text": [
      "--Submission mounting has started\n",
      "Finished mounting submission\n",
      "CPU times: user 11min 30s, sys: 7.8 s, total: 11min 38s\n",
      "Wall time: 3min 10s\n"
     ]
    }
   ],
   "source": [
    "%%time\n",
    "# test_id = test_df.id\n",
    "test_pred = lgbm.predict_proba(test_df)\n",
    "\n",
    "print('--Submission mounting has started')\n",
    "submission = pd.DataFrame({\n",
    "    'id': test_id,\n",
    "    'A': test_pred[:, 0],\n",
    "    'B': test_pred[:, 1],\n",
    "    'C': test_pred[:, 2],\n",
    "    'D': test_pred[:, 3]\n",
    "})\n",
    "print(\"Finished mounting submission\")"
   ]
  },
  {
   "cell_type": "code",
   "execution_count": 30,
   "id": "hydraulic-business",
   "metadata": {
    "execution": {
     "iopub.execute_input": "2021-05-03T08:26:13.207110Z",
     "iopub.status.busy": "2021-05-03T08:26:13.206418Z",
     "iopub.status.idle": "2021-05-03T08:31:23.451792Z",
     "shell.execute_reply": "2021-05-03T08:31:23.452350Z"
    },
    "papermill": {
     "duration": 310.535925,
     "end_time": "2021-05-03T08:31:23.452566",
     "exception": false,
     "start_time": "2021-05-03T08:26:12.916641",
     "status": "completed"
    },
    "tags": []
   },
   "outputs": [
    {
     "name": "stdout",
     "output_type": "stream",
     "text": [
      "16934754\n",
      "142583\n",
      "887806\n",
      "0\n"
     ]
    }
   ],
   "source": [
    "A_values = submission.drop(\"id\", axis=1).idxmax(axis=1)[submission.drop(\"id\", axis=1).idxmax(axis=1) == \"A\"]\n",
    "B_values = submission.drop(\"id\", axis=1).idxmax(axis=1)[submission.drop(\"id\", axis=1).idxmax(axis=1) == \"B\"]\n",
    "C_values = submission.drop(\"id\", axis=1).idxmax(axis=1)[submission.drop(\"id\", axis=1).idxmax(axis=1) == \"C\"]\n",
    "D_values = submission.drop(\"id\", axis=1).idxmax(axis=1)[submission.drop(\"id\", axis=1).idxmax(axis=1) == \"D\"]\n",
    "print(len(A_values))\n",
    "print(len(B_values))\n",
    "print(len(C_values))\n",
    "print(len(D_values))"
   ]
  },
  {
   "cell_type": "code",
   "execution_count": 31,
   "id": "inappropriate-example",
   "metadata": {
    "execution": {
     "iopub.execute_input": "2021-05-03T08:31:23.569511Z",
     "iopub.status.busy": "2021-05-03T08:31:23.568822Z",
     "iopub.status.idle": "2021-05-03T08:34:27.212354Z",
     "shell.execute_reply": "2021-05-03T08:34:27.213059Z"
    },
    "papermill": {
     "duration": 183.707695,
     "end_time": "2021-05-03T08:34:27.213301",
     "exception": false,
     "start_time": "2021-05-03T08:31:23.505606",
     "status": "completed"
    },
    "tags": []
   },
   "outputs": [],
   "source": [
    "submission.to_csv('submission.csv', index = False)"
   ]
  }
 ],
 "metadata": {
  "kernelspec": {
   "display_name": "Python 3",
   "language": "python",
   "name": "python3"
  },
  "language_info": {
   "codemirror_mode": {
    "name": "ipython",
    "version": 3
   },
   "file_extension": ".py",
   "mimetype": "text/x-python",
   "name": "python",
   "nbconvert_exporter": "python",
   "pygments_lexer": "ipython3",
   "version": "3.7.9"
  },
  "papermill": {
   "default_parameters": {},
   "duration": 2602.711096,
   "end_time": "2021-05-03T08:34:29.172850",
   "environment_variables": {},
   "exception": null,
   "input_path": "__notebook__.ipynb",
   "output_path": "__notebook__.ipynb",
   "parameters": {},
   "start_time": "2021-05-03T07:51:06.461754",
   "version": "2.3.2"
  },
  "widgets": {
   "application/vnd.jupyter.widget-state+json": {
    "state": {
     "01088b65989e4b5ba9438faf546853c7": {
      "model_module": "@jupyter-widgets/controls",
      "model_module_version": "1.5.0",
      "model_name": "HTMLModel",
      "state": {
       "_dom_classes": [],
       "_model_module": "@jupyter-widgets/controls",
       "_model_module_version": "1.5.0",
       "_model_name": "HTMLModel",
       "_view_count": null,
       "_view_module": "@jupyter-widgets/controls",
       "_view_module_version": "1.5.0",
       "_view_name": "HTMLView",
       "description": "",
       "description_tooltip": null,
       "layout": "IPY_MODEL_780738e3936c440f8bdb5fe6baa1bdea",
       "placeholder": "​",
       "style": "IPY_MODEL_2fa27f10ff7147bd8b0670cf99f08989",
       "value": " 18/18 [00:23&lt;00:00,  1.34s/it]"
      }
     },
     "028cff8a9de445f0b460d6f7fbbdd0ac": {
      "model_module": "@jupyter-widgets/controls",
      "model_module_version": "1.5.0",
      "model_name": "HTMLModel",
      "state": {
       "_dom_classes": [],
       "_model_module": "@jupyter-widgets/controls",
       "_model_module_version": "1.5.0",
       "_model_name": "HTMLModel",
       "_view_count": null,
       "_view_module": "@jupyter-widgets/controls",
       "_view_module_version": "1.5.0",
       "_view_name": "HTMLView",
       "description": "",
       "description_tooltip": null,
       "layout": "IPY_MODEL_40883407a4b14fdab4a5448c00c9b327",
       "placeholder": "​",
       "style": "IPY_MODEL_404e46ce81f94218911d93ebc3ee36fd",
       "value": "100%"
      }
     },
     "03a37be2083b477f9229d6acff57ab64": {
      "model_module": "@jupyter-widgets/controls",
      "model_module_version": "1.5.0",
      "model_name": "DescriptionStyleModel",
      "state": {
       "_model_module": "@jupyter-widgets/controls",
       "_model_module_version": "1.5.0",
       "_model_name": "DescriptionStyleModel",
       "_view_count": null,
       "_view_module": "@jupyter-widgets/base",
       "_view_module_version": "1.2.0",
       "_view_name": "StyleView",
       "description_width": ""
      }
     },
     "0e8bdb5f165141fb816e2eed61668d17": {
      "model_module": "@jupyter-widgets/controls",
      "model_module_version": "1.5.0",
      "model_name": "HTMLModel",
      "state": {
       "_dom_classes": [],
       "_model_module": "@jupyter-widgets/controls",
       "_model_module_version": "1.5.0",
       "_model_name": "HTMLModel",
       "_view_count": null,
       "_view_module": "@jupyter-widgets/controls",
       "_view_module_version": "1.5.0",
       "_view_name": "HTMLView",
       "description": "",
       "description_tooltip": null,
       "layout": "IPY_MODEL_68968bca810e4431b9a3e3ecd54a8aba",
       "placeholder": "​",
       "style": "IPY_MODEL_03a37be2083b477f9229d6acff57ab64",
       "value": "100%"
      }
     },
     "10bb7bf3f33045f88d2cece4f1f22ab9": {
      "model_module": "@jupyter-widgets/controls",
      "model_module_version": "1.5.0",
      "model_name": "FloatProgressModel",
      "state": {
       "_dom_classes": [],
       "_model_module": "@jupyter-widgets/controls",
       "_model_module_version": "1.5.0",
       "_model_name": "FloatProgressModel",
       "_view_count": null,
       "_view_module": "@jupyter-widgets/controls",
       "_view_module_version": "1.5.0",
       "_view_name": "ProgressView",
       "bar_style": "success",
       "description": "",
       "description_tooltip": null,
       "layout": "IPY_MODEL_b69be8740ef94da2aa18af621f133a56",
       "max": 106.0,
       "min": 0.0,
       "orientation": "horizontal",
       "style": "IPY_MODEL_a0f2ff30c82e4d46ba6bf6cf91810e5e",
       "value": 106.0
      }
     },
     "1142510642754f5eaa6a5c1b8502c2c0": {
      "model_module": "@jupyter-widgets/controls",
      "model_module_version": "1.5.0",
      "model_name": "ProgressStyleModel",
      "state": {
       "_model_module": "@jupyter-widgets/controls",
       "_model_module_version": "1.5.0",
       "_model_name": "ProgressStyleModel",
       "_view_count": null,
       "_view_module": "@jupyter-widgets/base",
       "_view_module_version": "1.2.0",
       "_view_name": "StyleView",
       "bar_color": null,
       "description_width": ""
      }
     },
     "124e2d734a9a4481bebc6de905f82688": {
      "model_module": "@jupyter-widgets/base",
      "model_module_version": "1.2.0",
      "model_name": "LayoutModel",
      "state": {
       "_model_module": "@jupyter-widgets/base",
       "_model_module_version": "1.2.0",
       "_model_name": "LayoutModel",
       "_view_count": null,
       "_view_module": "@jupyter-widgets/base",
       "_view_module_version": "1.2.0",
       "_view_name": "LayoutView",
       "align_content": null,
       "align_items": null,
       "align_self": null,
       "border": null,
       "bottom": null,
       "display": null,
       "flex": null,
       "flex_flow": null,
       "grid_area": null,
       "grid_auto_columns": null,
       "grid_auto_flow": null,
       "grid_auto_rows": null,
       "grid_column": null,
       "grid_gap": null,
       "grid_row": null,
       "grid_template_areas": null,
       "grid_template_columns": null,
       "grid_template_rows": null,
       "height": null,
       "justify_content": null,
       "justify_items": null,
       "left": null,
       "margin": null,
       "max_height": null,
       "max_width": null,
       "min_height": null,
       "min_width": null,
       "object_fit": null,
       "object_position": null,
       "order": null,
       "overflow": null,
       "overflow_x": null,
       "overflow_y": null,
       "padding": null,
       "right": null,
       "top": null,
       "visibility": null,
       "width": null
      }
     },
     "129e802f9ca941ea8aac0fd4b12df4ed": {
      "model_module": "@jupyter-widgets/base",
      "model_module_version": "1.2.0",
      "model_name": "LayoutModel",
      "state": {
       "_model_module": "@jupyter-widgets/base",
       "_model_module_version": "1.2.0",
       "_model_name": "LayoutModel",
       "_view_count": null,
       "_view_module": "@jupyter-widgets/base",
       "_view_module_version": "1.2.0",
       "_view_name": "LayoutView",
       "align_content": null,
       "align_items": null,
       "align_self": null,
       "border": null,
       "bottom": null,
       "display": null,
       "flex": null,
       "flex_flow": null,
       "grid_area": null,
       "grid_auto_columns": null,
       "grid_auto_flow": null,
       "grid_auto_rows": null,
       "grid_column": null,
       "grid_gap": null,
       "grid_row": null,
       "grid_template_areas": null,
       "grid_template_columns": null,
       "grid_template_rows": null,
       "height": null,
       "justify_content": null,
       "justify_items": null,
       "left": null,
       "margin": null,
       "max_height": null,
       "max_width": null,
       "min_height": null,
       "min_width": null,
       "object_fit": null,
       "object_position": null,
       "order": null,
       "overflow": null,
       "overflow_x": null,
       "overflow_y": null,
       "padding": null,
       "right": null,
       "top": null,
       "visibility": null,
       "width": null
      }
     },
     "12ba5fba95a84e25b8bba814eca719e2": {
      "model_module": "@jupyter-widgets/controls",
      "model_module_version": "1.5.0",
      "model_name": "FloatProgressModel",
      "state": {
       "_dom_classes": [],
       "_model_module": "@jupyter-widgets/controls",
       "_model_module_version": "1.5.0",
       "_model_name": "FloatProgressModel",
       "_view_count": null,
       "_view_module": "@jupyter-widgets/controls",
       "_view_module_version": "1.5.0",
       "_view_name": "ProgressView",
       "bar_style": "success",
       "description": "",
       "description_tooltip": null,
       "layout": "IPY_MODEL_54e98ea90a474265a50ae317f17ee66f",
       "max": 18.0,
       "min": 0.0,
       "orientation": "horizontal",
       "style": "IPY_MODEL_a92713405d014e579bddcf76c655141c",
       "value": 18.0
      }
     },
     "12c0a72c42cd4dacbd2b255a44f31c3e": {
      "model_module": "@jupyter-widgets/controls",
      "model_module_version": "1.5.0",
      "model_name": "HBoxModel",
      "state": {
       "_dom_classes": [],
       "_model_module": "@jupyter-widgets/controls",
       "_model_module_version": "1.5.0",
       "_model_name": "HBoxModel",
       "_view_count": null,
       "_view_module": "@jupyter-widgets/controls",
       "_view_module_version": "1.5.0",
       "_view_name": "HBoxView",
       "box_style": "",
       "children": [
        "IPY_MODEL_21c3337db2b54881943ccac9b859ad4e",
        "IPY_MODEL_14c65584d5594e2cb9459e758ace9a71",
        "IPY_MODEL_ed56141e88254e7cb6424ad017fbe9f7"
       ],
       "layout": "IPY_MODEL_28b1668f105441b282b34c27c674016b"
      }
     },
     "14c65584d5594e2cb9459e758ace9a71": {
      "model_module": "@jupyter-widgets/controls",
      "model_module_version": "1.5.0",
      "model_name": "FloatProgressModel",
      "state": {
       "_dom_classes": [],
       "_model_module": "@jupyter-widgets/controls",
       "_model_module_version": "1.5.0",
       "_model_name": "FloatProgressModel",
       "_view_count": null,
       "_view_module": "@jupyter-widgets/controls",
       "_view_module_version": "1.5.0",
       "_view_name": "ProgressView",
       "bar_style": "success",
       "description": "",
       "description_tooltip": null,
       "layout": "IPY_MODEL_3c5c1028c6fe4d33b8320b67533fd9fd",
       "max": 18.0,
       "min": 0.0,
       "orientation": "horizontal",
       "style": "IPY_MODEL_a3129302f5fe453dbafd5eb78a932324",
       "value": 18.0
      }
     },
     "16856fb4733543e596a4f6385c34c4be": {
      "model_module": "@jupyter-widgets/controls",
      "model_module_version": "1.5.0",
      "model_name": "FloatProgressModel",
      "state": {
       "_dom_classes": [],
       "_model_module": "@jupyter-widgets/controls",
       "_model_module_version": "1.5.0",
       "_model_name": "FloatProgressModel",
       "_view_count": null,
       "_view_module": "@jupyter-widgets/controls",
       "_view_module_version": "1.5.0",
       "_view_name": "ProgressView",
       "bar_style": "success",
       "description": "",
       "description_tooltip": null,
       "layout": "IPY_MODEL_68f3ae69e45044b48473d0894f7c3b08",
       "max": 18.0,
       "min": 0.0,
       "orientation": "horizontal",
       "style": "IPY_MODEL_5fdd517f39c04c4dbb1bf88c9c1a1810",
       "value": 18.0
      }
     },
     "1a0a027413d64e0691d5c3b187f56865": {
      "model_module": "@jupyter-widgets/controls",
      "model_module_version": "1.5.0",
      "model_name": "DescriptionStyleModel",
      "state": {
       "_model_module": "@jupyter-widgets/controls",
       "_model_module_version": "1.5.0",
       "_model_name": "DescriptionStyleModel",
       "_view_count": null,
       "_view_module": "@jupyter-widgets/base",
       "_view_module_version": "1.2.0",
       "_view_name": "StyleView",
       "description_width": ""
      }
     },
     "1b83fbe2aab8456285330cfd7c7a691a": {
      "model_module": "@jupyter-widgets/controls",
      "model_module_version": "1.5.0",
      "model_name": "ProgressStyleModel",
      "state": {
       "_model_module": "@jupyter-widgets/controls",
       "_model_module_version": "1.5.0",
       "_model_name": "ProgressStyleModel",
       "_view_count": null,
       "_view_module": "@jupyter-widgets/base",
       "_view_module_version": "1.2.0",
       "_view_name": "StyleView",
       "bar_color": null,
       "description_width": ""
      }
     },
     "1c02f60b6a044a1ebe48653689a3a028": {
      "model_module": "@jupyter-widgets/base",
      "model_module_version": "1.2.0",
      "model_name": "LayoutModel",
      "state": {
       "_model_module": "@jupyter-widgets/base",
       "_model_module_version": "1.2.0",
       "_model_name": "LayoutModel",
       "_view_count": null,
       "_view_module": "@jupyter-widgets/base",
       "_view_module_version": "1.2.0",
       "_view_name": "LayoutView",
       "align_content": null,
       "align_items": null,
       "align_self": null,
       "border": null,
       "bottom": null,
       "display": null,
       "flex": null,
       "flex_flow": null,
       "grid_area": null,
       "grid_auto_columns": null,
       "grid_auto_flow": null,
       "grid_auto_rows": null,
       "grid_column": null,
       "grid_gap": null,
       "grid_row": null,
       "grid_template_areas": null,
       "grid_template_columns": null,
       "grid_template_rows": null,
       "height": null,
       "justify_content": null,
       "justify_items": null,
       "left": null,
       "margin": null,
       "max_height": null,
       "max_width": null,
       "min_height": null,
       "min_width": null,
       "object_fit": null,
       "object_position": null,
       "order": null,
       "overflow": null,
       "overflow_x": null,
       "overflow_y": null,
       "padding": null,
       "right": null,
       "top": null,
       "visibility": null,
       "width": null
      }
     },
     "1eda15ceedf84c528e6b4e7847901c8e": {
      "model_module": "@jupyter-widgets/controls",
      "model_module_version": "1.5.0",
      "model_name": "FloatProgressModel",
      "state": {
       "_dom_classes": [],
       "_model_module": "@jupyter-widgets/controls",
       "_model_module_version": "1.5.0",
       "_model_name": "FloatProgressModel",
       "_view_count": null,
       "_view_module": "@jupyter-widgets/controls",
       "_view_module_version": "1.5.0",
       "_view_name": "ProgressView",
       "bar_style": "success",
       "description": "",
       "description_tooltip": null,
       "layout": "IPY_MODEL_2f61a8f6f1514c6b83c067e41518ea02",
       "max": 302.0,
       "min": 0.0,
       "orientation": "horizontal",
       "style": "IPY_MODEL_58121e600ca94b5c9b4a88eb64c19671",
       "value": 302.0
      }
     },
     "21c3337db2b54881943ccac9b859ad4e": {
      "model_module": "@jupyter-widgets/controls",
      "model_module_version": "1.5.0",
      "model_name": "HTMLModel",
      "state": {
       "_dom_classes": [],
       "_model_module": "@jupyter-widgets/controls",
       "_model_module_version": "1.5.0",
       "_model_name": "HTMLModel",
       "_view_count": null,
       "_view_module": "@jupyter-widgets/controls",
       "_view_module_version": "1.5.0",
       "_view_name": "HTMLView",
       "description": "",
       "description_tooltip": null,
       "layout": "IPY_MODEL_43fa45efb9c8455393a5178f7eaec9a8",
       "placeholder": "​",
       "style": "IPY_MODEL_1a0a027413d64e0691d5c3b187f56865",
       "value": "100%"
      }
     },
     "23f490adfd57411bbecdccb8ac9c5c73": {
      "model_module": "@jupyter-widgets/controls",
      "model_module_version": "1.5.0",
      "model_name": "HTMLModel",
      "state": {
       "_dom_classes": [],
       "_model_module": "@jupyter-widgets/controls",
       "_model_module_version": "1.5.0",
       "_model_name": "HTMLModel",
       "_view_count": null,
       "_view_module": "@jupyter-widgets/controls",
       "_view_module_version": "1.5.0",
       "_view_name": "HTMLView",
       "description": "",
       "description_tooltip": null,
       "layout": "IPY_MODEL_8474a2ca82d24eeaad168fc4e1b583bb",
       "placeholder": "​",
       "style": "IPY_MODEL_e4a83df4e8474d65bd531657780249d2",
       "value": "100%"
      }
     },
     "246b44e250f34edab27030b44da5c249": {
      "model_module": "@jupyter-widgets/base",
      "model_module_version": "1.2.0",
      "model_name": "LayoutModel",
      "state": {
       "_model_module": "@jupyter-widgets/base",
       "_model_module_version": "1.2.0",
       "_model_name": "LayoutModel",
       "_view_count": null,
       "_view_module": "@jupyter-widgets/base",
       "_view_module_version": "1.2.0",
       "_view_name": "LayoutView",
       "align_content": null,
       "align_items": null,
       "align_self": null,
       "border": null,
       "bottom": null,
       "display": null,
       "flex": null,
       "flex_flow": null,
       "grid_area": null,
       "grid_auto_columns": null,
       "grid_auto_flow": null,
       "grid_auto_rows": null,
       "grid_column": null,
       "grid_gap": null,
       "grid_row": null,
       "grid_template_areas": null,
       "grid_template_columns": null,
       "grid_template_rows": null,
       "height": null,
       "justify_content": null,
       "justify_items": null,
       "left": null,
       "margin": null,
       "max_height": null,
       "max_width": null,
       "min_height": null,
       "min_width": null,
       "object_fit": null,
       "object_position": null,
       "order": null,
       "overflow": null,
       "overflow_x": null,
       "overflow_y": null,
       "padding": null,
       "right": null,
       "top": null,
       "visibility": null,
       "width": null
      }
     },
     "28b1668f105441b282b34c27c674016b": {
      "model_module": "@jupyter-widgets/base",
      "model_module_version": "1.2.0",
      "model_name": "LayoutModel",
      "state": {
       "_model_module": "@jupyter-widgets/base",
       "_model_module_version": "1.2.0",
       "_model_name": "LayoutModel",
       "_view_count": null,
       "_view_module": "@jupyter-widgets/base",
       "_view_module_version": "1.2.0",
       "_view_name": "LayoutView",
       "align_content": null,
       "align_items": null,
       "align_self": null,
       "border": null,
       "bottom": null,
       "display": null,
       "flex": null,
       "flex_flow": null,
       "grid_area": null,
       "grid_auto_columns": null,
       "grid_auto_flow": null,
       "grid_auto_rows": null,
       "grid_column": null,
       "grid_gap": null,
       "grid_row": null,
       "grid_template_areas": null,
       "grid_template_columns": null,
       "grid_template_rows": null,
       "height": null,
       "justify_content": null,
       "justify_items": null,
       "left": null,
       "margin": null,
       "max_height": null,
       "max_width": null,
       "min_height": null,
       "min_width": null,
       "object_fit": null,
       "object_position": null,
       "order": null,
       "overflow": null,
       "overflow_x": null,
       "overflow_y": null,
       "padding": null,
       "right": null,
       "top": null,
       "visibility": null,
       "width": null
      }
     },
     "296fad7b41844feeb7dcfc910fd2e950": {
      "model_module": "@jupyter-widgets/base",
      "model_module_version": "1.2.0",
      "model_name": "LayoutModel",
      "state": {
       "_model_module": "@jupyter-widgets/base",
       "_model_module_version": "1.2.0",
       "_model_name": "LayoutModel",
       "_view_count": null,
       "_view_module": "@jupyter-widgets/base",
       "_view_module_version": "1.2.0",
       "_view_name": "LayoutView",
       "align_content": null,
       "align_items": null,
       "align_self": null,
       "border": null,
       "bottom": null,
       "display": null,
       "flex": null,
       "flex_flow": null,
       "grid_area": null,
       "grid_auto_columns": null,
       "grid_auto_flow": null,
       "grid_auto_rows": null,
       "grid_column": null,
       "grid_gap": null,
       "grid_row": null,
       "grid_template_areas": null,
       "grid_template_columns": null,
       "grid_template_rows": null,
       "height": null,
       "justify_content": null,
       "justify_items": null,
       "left": null,
       "margin": null,
       "max_height": null,
       "max_width": null,
       "min_height": null,
       "min_width": null,
       "object_fit": null,
       "object_position": null,
       "order": null,
       "overflow": null,
       "overflow_x": null,
       "overflow_y": null,
       "padding": null,
       "right": null,
       "top": null,
       "visibility": null,
       "width": null
      }
     },
     "2f61a8f6f1514c6b83c067e41518ea02": {
      "model_module": "@jupyter-widgets/base",
      "model_module_version": "1.2.0",
      "model_name": "LayoutModel",
      "state": {
       "_model_module": "@jupyter-widgets/base",
       "_model_module_version": "1.2.0",
       "_model_name": "LayoutModel",
       "_view_count": null,
       "_view_module": "@jupyter-widgets/base",
       "_view_module_version": "1.2.0",
       "_view_name": "LayoutView",
       "align_content": null,
       "align_items": null,
       "align_self": null,
       "border": null,
       "bottom": null,
       "display": null,
       "flex": null,
       "flex_flow": null,
       "grid_area": null,
       "grid_auto_columns": null,
       "grid_auto_flow": null,
       "grid_auto_rows": null,
       "grid_column": null,
       "grid_gap": null,
       "grid_row": null,
       "grid_template_areas": null,
       "grid_template_columns": null,
       "grid_template_rows": null,
       "height": null,
       "justify_content": null,
       "justify_items": null,
       "left": null,
       "margin": null,
       "max_height": null,
       "max_width": null,
       "min_height": null,
       "min_width": null,
       "object_fit": null,
       "object_position": null,
       "order": null,
       "overflow": null,
       "overflow_x": null,
       "overflow_y": null,
       "padding": null,
       "right": null,
       "top": null,
       "visibility": null,
       "width": null
      }
     },
     "2fa27f10ff7147bd8b0670cf99f08989": {
      "model_module": "@jupyter-widgets/controls",
      "model_module_version": "1.5.0",
      "model_name": "DescriptionStyleModel",
      "state": {
       "_model_module": "@jupyter-widgets/controls",
       "_model_module_version": "1.5.0",
       "_model_name": "DescriptionStyleModel",
       "_view_count": null,
       "_view_module": "@jupyter-widgets/base",
       "_view_module_version": "1.2.0",
       "_view_name": "StyleView",
       "description_width": ""
      }
     },
     "3480e01c73b742ee872093e3883e7643": {
      "model_module": "@jupyter-widgets/base",
      "model_module_version": "1.2.0",
      "model_name": "LayoutModel",
      "state": {
       "_model_module": "@jupyter-widgets/base",
       "_model_module_version": "1.2.0",
       "_model_name": "LayoutModel",
       "_view_count": null,
       "_view_module": "@jupyter-widgets/base",
       "_view_module_version": "1.2.0",
       "_view_name": "LayoutView",
       "align_content": null,
       "align_items": null,
       "align_self": null,
       "border": null,
       "bottom": null,
       "display": null,
       "flex": null,
       "flex_flow": null,
       "grid_area": null,
       "grid_auto_columns": null,
       "grid_auto_flow": null,
       "grid_auto_rows": null,
       "grid_column": null,
       "grid_gap": null,
       "grid_row": null,
       "grid_template_areas": null,
       "grid_template_columns": null,
       "grid_template_rows": null,
       "height": null,
       "justify_content": null,
       "justify_items": null,
       "left": null,
       "margin": null,
       "max_height": null,
       "max_width": null,
       "min_height": null,
       "min_width": null,
       "object_fit": null,
       "object_position": null,
       "order": null,
       "overflow": null,
       "overflow_x": null,
       "overflow_y": null,
       "padding": null,
       "right": null,
       "top": null,
       "visibility": null,
       "width": null
      }
     },
     "3481ce6ec4e64d3fb9a126e150b9f2cb": {
      "model_module": "@jupyter-widgets/controls",
      "model_module_version": "1.5.0",
      "model_name": "FloatProgressModel",
      "state": {
       "_dom_classes": [],
       "_model_module": "@jupyter-widgets/controls",
       "_model_module_version": "1.5.0",
       "_model_name": "FloatProgressModel",
       "_view_count": null,
       "_view_module": "@jupyter-widgets/controls",
       "_view_module_version": "1.5.0",
       "_view_name": "ProgressView",
       "bar_style": "success",
       "description": "",
       "description_tooltip": null,
       "layout": "IPY_MODEL_b9ab4a3b6ba6414a90a6f6f43e0ab2a4",
       "max": 18.0,
       "min": 0.0,
       "orientation": "horizontal",
       "style": "IPY_MODEL_1142510642754f5eaa6a5c1b8502c2c0",
       "value": 18.0
      }
     },
     "3c5c1028c6fe4d33b8320b67533fd9fd": {
      "model_module": "@jupyter-widgets/base",
      "model_module_version": "1.2.0",
      "model_name": "LayoutModel",
      "state": {
       "_model_module": "@jupyter-widgets/base",
       "_model_module_version": "1.2.0",
       "_model_name": "LayoutModel",
       "_view_count": null,
       "_view_module": "@jupyter-widgets/base",
       "_view_module_version": "1.2.0",
       "_view_name": "LayoutView",
       "align_content": null,
       "align_items": null,
       "align_self": null,
       "border": null,
       "bottom": null,
       "display": null,
       "flex": null,
       "flex_flow": null,
       "grid_area": null,
       "grid_auto_columns": null,
       "grid_auto_flow": null,
       "grid_auto_rows": null,
       "grid_column": null,
       "grid_gap": null,
       "grid_row": null,
       "grid_template_areas": null,
       "grid_template_columns": null,
       "grid_template_rows": null,
       "height": null,
       "justify_content": null,
       "justify_items": null,
       "left": null,
       "margin": null,
       "max_height": null,
       "max_width": null,
       "min_height": null,
       "min_width": null,
       "object_fit": null,
       "object_position": null,
       "order": null,
       "overflow": null,
       "overflow_x": null,
       "overflow_y": null,
       "padding": null,
       "right": null,
       "top": null,
       "visibility": null,
       "width": null
      }
     },
     "3cd6dee3255d4913b39652b96e2d6ce1": {
      "model_module": "@jupyter-widgets/base",
      "model_module_version": "1.2.0",
      "model_name": "LayoutModel",
      "state": {
       "_model_module": "@jupyter-widgets/base",
       "_model_module_version": "1.2.0",
       "_model_name": "LayoutModel",
       "_view_count": null,
       "_view_module": "@jupyter-widgets/base",
       "_view_module_version": "1.2.0",
       "_view_name": "LayoutView",
       "align_content": null,
       "align_items": null,
       "align_self": null,
       "border": null,
       "bottom": null,
       "display": null,
       "flex": null,
       "flex_flow": null,
       "grid_area": null,
       "grid_auto_columns": null,
       "grid_auto_flow": null,
       "grid_auto_rows": null,
       "grid_column": null,
       "grid_gap": null,
       "grid_row": null,
       "grid_template_areas": null,
       "grid_template_columns": null,
       "grid_template_rows": null,
       "height": null,
       "justify_content": null,
       "justify_items": null,
       "left": null,
       "margin": null,
       "max_height": null,
       "max_width": null,
       "min_height": null,
       "min_width": null,
       "object_fit": null,
       "object_position": null,
       "order": null,
       "overflow": null,
       "overflow_x": null,
       "overflow_y": null,
       "padding": null,
       "right": null,
       "top": null,
       "visibility": null,
       "width": null
      }
     },
     "3df17a1f69b94a0abe25a58db00a6adc": {
      "model_module": "@jupyter-widgets/controls",
      "model_module_version": "1.5.0",
      "model_name": "HTMLModel",
      "state": {
       "_dom_classes": [],
       "_model_module": "@jupyter-widgets/controls",
       "_model_module_version": "1.5.0",
       "_model_name": "HTMLModel",
       "_view_count": null,
       "_view_module": "@jupyter-widgets/controls",
       "_view_module_version": "1.5.0",
       "_view_name": "HTMLView",
       "description": "",
       "description_tooltip": null,
       "layout": "IPY_MODEL_a855a86a4f2a4dd99c26c723e694f61b",
       "placeholder": "​",
       "style": "IPY_MODEL_9b57debec18c4bf9bda02c0b84ef3345",
       "value": " 18/18 [00:02&lt;00:00,  9.82it/s]"
      }
     },
     "3e3528cb4c444a51af99dd580c35a84c": {
      "model_module": "@jupyter-widgets/base",
      "model_module_version": "1.2.0",
      "model_name": "LayoutModel",
      "state": {
       "_model_module": "@jupyter-widgets/base",
       "_model_module_version": "1.2.0",
       "_model_name": "LayoutModel",
       "_view_count": null,
       "_view_module": "@jupyter-widgets/base",
       "_view_module_version": "1.2.0",
       "_view_name": "LayoutView",
       "align_content": null,
       "align_items": null,
       "align_self": null,
       "border": null,
       "bottom": null,
       "display": null,
       "flex": null,
       "flex_flow": null,
       "grid_area": null,
       "grid_auto_columns": null,
       "grid_auto_flow": null,
       "grid_auto_rows": null,
       "grid_column": null,
       "grid_gap": null,
       "grid_row": null,
       "grid_template_areas": null,
       "grid_template_columns": null,
       "grid_template_rows": null,
       "height": null,
       "justify_content": null,
       "justify_items": null,
       "left": null,
       "margin": null,
       "max_height": null,
       "max_width": null,
       "min_height": null,
       "min_width": null,
       "object_fit": null,
       "object_position": null,
       "order": null,
       "overflow": null,
       "overflow_x": null,
       "overflow_y": null,
       "padding": null,
       "right": null,
       "top": null,
       "visibility": null,
       "width": null
      }
     },
     "3f0a0161fbc64b518f56b6a01d785eaf": {
      "model_module": "@jupyter-widgets/controls",
      "model_module_version": "1.5.0",
      "model_name": "DescriptionStyleModel",
      "state": {
       "_model_module": "@jupyter-widgets/controls",
       "_model_module_version": "1.5.0",
       "_model_name": "DescriptionStyleModel",
       "_view_count": null,
       "_view_module": "@jupyter-widgets/base",
       "_view_module_version": "1.2.0",
       "_view_name": "StyleView",
       "description_width": ""
      }
     },
     "404e46ce81f94218911d93ebc3ee36fd": {
      "model_module": "@jupyter-widgets/controls",
      "model_module_version": "1.5.0",
      "model_name": "DescriptionStyleModel",
      "state": {
       "_model_module": "@jupyter-widgets/controls",
       "_model_module_version": "1.5.0",
       "_model_name": "DescriptionStyleModel",
       "_view_count": null,
       "_view_module": "@jupyter-widgets/base",
       "_view_module_version": "1.2.0",
       "_view_name": "StyleView",
       "description_width": ""
      }
     },
     "40883407a4b14fdab4a5448c00c9b327": {
      "model_module": "@jupyter-widgets/base",
      "model_module_version": "1.2.0",
      "model_name": "LayoutModel",
      "state": {
       "_model_module": "@jupyter-widgets/base",
       "_model_module_version": "1.2.0",
       "_model_name": "LayoutModel",
       "_view_count": null,
       "_view_module": "@jupyter-widgets/base",
       "_view_module_version": "1.2.0",
       "_view_name": "LayoutView",
       "align_content": null,
       "align_items": null,
       "align_self": null,
       "border": null,
       "bottom": null,
       "display": null,
       "flex": null,
       "flex_flow": null,
       "grid_area": null,
       "grid_auto_columns": null,
       "grid_auto_flow": null,
       "grid_auto_rows": null,
       "grid_column": null,
       "grid_gap": null,
       "grid_row": null,
       "grid_template_areas": null,
       "grid_template_columns": null,
       "grid_template_rows": null,
       "height": null,
       "justify_content": null,
       "justify_items": null,
       "left": null,
       "margin": null,
       "max_height": null,
       "max_width": null,
       "min_height": null,
       "min_width": null,
       "object_fit": null,
       "object_position": null,
       "order": null,
       "overflow": null,
       "overflow_x": null,
       "overflow_y": null,
       "padding": null,
       "right": null,
       "top": null,
       "visibility": null,
       "width": null
      }
     },
     "40a5d14e6f65466dba33db927f45314b": {
      "model_module": "@jupyter-widgets/controls",
      "model_module_version": "1.5.0",
      "model_name": "HTMLModel",
      "state": {
       "_dom_classes": [],
       "_model_module": "@jupyter-widgets/controls",
       "_model_module_version": "1.5.0",
       "_model_name": "HTMLModel",
       "_view_count": null,
       "_view_module": "@jupyter-widgets/controls",
       "_view_module_version": "1.5.0",
       "_view_name": "HTMLView",
       "description": "",
       "description_tooltip": null,
       "layout": "IPY_MODEL_3cd6dee3255d4913b39652b96e2d6ce1",
       "placeholder": "​",
       "style": "IPY_MODEL_ba09155e2d4447bd9ba4903cbabd2724",
       "value": " 18/18 [00:01&lt;00:00, 13.77it/s]"
      }
     },
     "43bbc4372d06425d83f3c6c361d38ccc": {
      "model_module": "@jupyter-widgets/controls",
      "model_module_version": "1.5.0",
      "model_name": "HBoxModel",
      "state": {
       "_dom_classes": [],
       "_model_module": "@jupyter-widgets/controls",
       "_model_module_version": "1.5.0",
       "_model_name": "HBoxModel",
       "_view_count": null,
       "_view_module": "@jupyter-widgets/controls",
       "_view_module_version": "1.5.0",
       "_view_name": "HBoxView",
       "box_style": "",
       "children": [
        "IPY_MODEL_662617c84f1e4fc68e39e7fea4dc79c7",
        "IPY_MODEL_bae322d40b484ca9b04656be004c1b09",
        "IPY_MODEL_c7c9d56c24ce4aa183b12564121d8be4"
       ],
       "layout": "IPY_MODEL_a72295191a2a49a0801f9ac1baaaf09a"
      }
     },
     "43fa45efb9c8455393a5178f7eaec9a8": {
      "model_module": "@jupyter-widgets/base",
      "model_module_version": "1.2.0",
      "model_name": "LayoutModel",
      "state": {
       "_model_module": "@jupyter-widgets/base",
       "_model_module_version": "1.2.0",
       "_model_name": "LayoutModel",
       "_view_count": null,
       "_view_module": "@jupyter-widgets/base",
       "_view_module_version": "1.2.0",
       "_view_name": "LayoutView",
       "align_content": null,
       "align_items": null,
       "align_self": null,
       "border": null,
       "bottom": null,
       "display": null,
       "flex": null,
       "flex_flow": null,
       "grid_area": null,
       "grid_auto_columns": null,
       "grid_auto_flow": null,
       "grid_auto_rows": null,
       "grid_column": null,
       "grid_gap": null,
       "grid_row": null,
       "grid_template_areas": null,
       "grid_template_columns": null,
       "grid_template_rows": null,
       "height": null,
       "justify_content": null,
       "justify_items": null,
       "left": null,
       "margin": null,
       "max_height": null,
       "max_width": null,
       "min_height": null,
       "min_width": null,
       "object_fit": null,
       "object_position": null,
       "order": null,
       "overflow": null,
       "overflow_x": null,
       "overflow_y": null,
       "padding": null,
       "right": null,
       "top": null,
       "visibility": null,
       "width": null
      }
     },
     "472fbb6cdc5d4caf96f8ad92a5208073": {
      "model_module": "@jupyter-widgets/controls",
      "model_module_version": "1.5.0",
      "model_name": "DescriptionStyleModel",
      "state": {
       "_model_module": "@jupyter-widgets/controls",
       "_model_module_version": "1.5.0",
       "_model_name": "DescriptionStyleModel",
       "_view_count": null,
       "_view_module": "@jupyter-widgets/base",
       "_view_module_version": "1.2.0",
       "_view_name": "StyleView",
       "description_width": ""
      }
     },
     "4779078183ae40d99e2230a27d8df780": {
      "model_module": "@jupyter-widgets/base",
      "model_module_version": "1.2.0",
      "model_name": "LayoutModel",
      "state": {
       "_model_module": "@jupyter-widgets/base",
       "_model_module_version": "1.2.0",
       "_model_name": "LayoutModel",
       "_view_count": null,
       "_view_module": "@jupyter-widgets/base",
       "_view_module_version": "1.2.0",
       "_view_name": "LayoutView",
       "align_content": null,
       "align_items": null,
       "align_self": null,
       "border": null,
       "bottom": null,
       "display": null,
       "flex": null,
       "flex_flow": null,
       "grid_area": null,
       "grid_auto_columns": null,
       "grid_auto_flow": null,
       "grid_auto_rows": null,
       "grid_column": null,
       "grid_gap": null,
       "grid_row": null,
       "grid_template_areas": null,
       "grid_template_columns": null,
       "grid_template_rows": null,
       "height": null,
       "justify_content": null,
       "justify_items": null,
       "left": null,
       "margin": null,
       "max_height": null,
       "max_width": null,
       "min_height": null,
       "min_width": null,
       "object_fit": null,
       "object_position": null,
       "order": null,
       "overflow": null,
       "overflow_x": null,
       "overflow_y": null,
       "padding": null,
       "right": null,
       "top": null,
       "visibility": null,
       "width": null
      }
     },
     "486253e6ff2f43f38a738af02e526665": {
      "model_module": "@jupyter-widgets/base",
      "model_module_version": "1.2.0",
      "model_name": "LayoutModel",
      "state": {
       "_model_module": "@jupyter-widgets/base",
       "_model_module_version": "1.2.0",
       "_model_name": "LayoutModel",
       "_view_count": null,
       "_view_module": "@jupyter-widgets/base",
       "_view_module_version": "1.2.0",
       "_view_name": "LayoutView",
       "align_content": null,
       "align_items": null,
       "align_self": null,
       "border": null,
       "bottom": null,
       "display": null,
       "flex": null,
       "flex_flow": null,
       "grid_area": null,
       "grid_auto_columns": null,
       "grid_auto_flow": null,
       "grid_auto_rows": null,
       "grid_column": null,
       "grid_gap": null,
       "grid_row": null,
       "grid_template_areas": null,
       "grid_template_columns": null,
       "grid_template_rows": null,
       "height": null,
       "justify_content": null,
       "justify_items": null,
       "left": null,
       "margin": null,
       "max_height": null,
       "max_width": null,
       "min_height": null,
       "min_width": null,
       "object_fit": null,
       "object_position": null,
       "order": null,
       "overflow": null,
       "overflow_x": null,
       "overflow_y": null,
       "padding": null,
       "right": null,
       "top": null,
       "visibility": null,
       "width": null
      }
     },
     "4c0faa1daf1c4bb3ad6cb9afa9f02928": {
      "model_module": "@jupyter-widgets/controls",
      "model_module_version": "1.5.0",
      "model_name": "HTMLModel",
      "state": {
       "_dom_classes": [],
       "_model_module": "@jupyter-widgets/controls",
       "_model_module_version": "1.5.0",
       "_model_name": "HTMLModel",
       "_view_count": null,
       "_view_module": "@jupyter-widgets/controls",
       "_view_module_version": "1.5.0",
       "_view_name": "HTMLView",
       "description": "",
       "description_tooltip": null,
       "layout": "IPY_MODEL_129e802f9ca941ea8aac0fd4b12df4ed",
       "placeholder": "​",
       "style": "IPY_MODEL_472fbb6cdc5d4caf96f8ad92a5208073",
       "value": " 302/302 [05:49&lt;00:00,  1.15s/it]"
      }
     },
     "4d4deb128f0a4e58a6906cb5a646ec7b": {
      "model_module": "@jupyter-widgets/base",
      "model_module_version": "1.2.0",
      "model_name": "LayoutModel",
      "state": {
       "_model_module": "@jupyter-widgets/base",
       "_model_module_version": "1.2.0",
       "_model_name": "LayoutModel",
       "_view_count": null,
       "_view_module": "@jupyter-widgets/base",
       "_view_module_version": "1.2.0",
       "_view_name": "LayoutView",
       "align_content": null,
       "align_items": null,
       "align_self": null,
       "border": null,
       "bottom": null,
       "display": null,
       "flex": null,
       "flex_flow": null,
       "grid_area": null,
       "grid_auto_columns": null,
       "grid_auto_flow": null,
       "grid_auto_rows": null,
       "grid_column": null,
       "grid_gap": null,
       "grid_row": null,
       "grid_template_areas": null,
       "grid_template_columns": null,
       "grid_template_rows": null,
       "height": null,
       "justify_content": null,
       "justify_items": null,
       "left": null,
       "margin": null,
       "max_height": null,
       "max_width": null,
       "min_height": null,
       "min_width": null,
       "object_fit": null,
       "object_position": null,
       "order": null,
       "overflow": null,
       "overflow_x": null,
       "overflow_y": null,
       "padding": null,
       "right": null,
       "top": null,
       "visibility": null,
       "width": null
      }
     },
     "54b9881e6fee44f8a1d8796ca613716c": {
      "model_module": "@jupyter-widgets/controls",
      "model_module_version": "1.5.0",
      "model_name": "HTMLModel",
      "state": {
       "_dom_classes": [],
       "_model_module": "@jupyter-widgets/controls",
       "_model_module_version": "1.5.0",
       "_model_name": "HTMLModel",
       "_view_count": null,
       "_view_module": "@jupyter-widgets/controls",
       "_view_module_version": "1.5.0",
       "_view_name": "HTMLView",
       "description": "",
       "description_tooltip": null,
       "layout": "IPY_MODEL_4d4deb128f0a4e58a6906cb5a646ec7b",
       "placeholder": "​",
       "style": "IPY_MODEL_b1a5ecaa6f2349dd8ce45bb44c9063bd",
       "value": "100%"
      }
     },
     "54e98ea90a474265a50ae317f17ee66f": {
      "model_module": "@jupyter-widgets/base",
      "model_module_version": "1.2.0",
      "model_name": "LayoutModel",
      "state": {
       "_model_module": "@jupyter-widgets/base",
       "_model_module_version": "1.2.0",
       "_model_name": "LayoutModel",
       "_view_count": null,
       "_view_module": "@jupyter-widgets/base",
       "_view_module_version": "1.2.0",
       "_view_name": "LayoutView",
       "align_content": null,
       "align_items": null,
       "align_self": null,
       "border": null,
       "bottom": null,
       "display": null,
       "flex": null,
       "flex_flow": null,
       "grid_area": null,
       "grid_auto_columns": null,
       "grid_auto_flow": null,
       "grid_auto_rows": null,
       "grid_column": null,
       "grid_gap": null,
       "grid_row": null,
       "grid_template_areas": null,
       "grid_template_columns": null,
       "grid_template_rows": null,
       "height": null,
       "justify_content": null,
       "justify_items": null,
       "left": null,
       "margin": null,
       "max_height": null,
       "max_width": null,
       "min_height": null,
       "min_width": null,
       "object_fit": null,
       "object_position": null,
       "order": null,
       "overflow": null,
       "overflow_x": null,
       "overflow_y": null,
       "padding": null,
       "right": null,
       "top": null,
       "visibility": null,
       "width": null
      }
     },
     "54ed016b828449698a823ec6be526aea": {
      "model_module": "@jupyter-widgets/base",
      "model_module_version": "1.2.0",
      "model_name": "LayoutModel",
      "state": {
       "_model_module": "@jupyter-widgets/base",
       "_model_module_version": "1.2.0",
       "_model_name": "LayoutModel",
       "_view_count": null,
       "_view_module": "@jupyter-widgets/base",
       "_view_module_version": "1.2.0",
       "_view_name": "LayoutView",
       "align_content": null,
       "align_items": null,
       "align_self": null,
       "border": null,
       "bottom": null,
       "display": null,
       "flex": null,
       "flex_flow": null,
       "grid_area": null,
       "grid_auto_columns": null,
       "grid_auto_flow": null,
       "grid_auto_rows": null,
       "grid_column": null,
       "grid_gap": null,
       "grid_row": null,
       "grid_template_areas": null,
       "grid_template_columns": null,
       "grid_template_rows": null,
       "height": null,
       "justify_content": null,
       "justify_items": null,
       "left": null,
       "margin": null,
       "max_height": null,
       "max_width": null,
       "min_height": null,
       "min_width": null,
       "object_fit": null,
       "object_position": null,
       "order": null,
       "overflow": null,
       "overflow_x": null,
       "overflow_y": null,
       "padding": null,
       "right": null,
       "top": null,
       "visibility": null,
       "width": null
      }
     },
     "554902347693452d862787094fb5da93": {
      "model_module": "@jupyter-widgets/base",
      "model_module_version": "1.2.0",
      "model_name": "LayoutModel",
      "state": {
       "_model_module": "@jupyter-widgets/base",
       "_model_module_version": "1.2.0",
       "_model_name": "LayoutModel",
       "_view_count": null,
       "_view_module": "@jupyter-widgets/base",
       "_view_module_version": "1.2.0",
       "_view_name": "LayoutView",
       "align_content": null,
       "align_items": null,
       "align_self": null,
       "border": null,
       "bottom": null,
       "display": null,
       "flex": null,
       "flex_flow": null,
       "grid_area": null,
       "grid_auto_columns": null,
       "grid_auto_flow": null,
       "grid_auto_rows": null,
       "grid_column": null,
       "grid_gap": null,
       "grid_row": null,
       "grid_template_areas": null,
       "grid_template_columns": null,
       "grid_template_rows": null,
       "height": null,
       "justify_content": null,
       "justify_items": null,
       "left": null,
       "margin": null,
       "max_height": null,
       "max_width": null,
       "min_height": null,
       "min_width": null,
       "object_fit": null,
       "object_position": null,
       "order": null,
       "overflow": null,
       "overflow_x": null,
       "overflow_y": null,
       "padding": null,
       "right": null,
       "top": null,
       "visibility": null,
       "width": null
      }
     },
     "56dd17c64e794dc1a31c99daa8fd2552": {
      "model_module": "@jupyter-widgets/controls",
      "model_module_version": "1.5.0",
      "model_name": "HTMLModel",
      "state": {
       "_dom_classes": [],
       "_model_module": "@jupyter-widgets/controls",
       "_model_module_version": "1.5.0",
       "_model_name": "HTMLModel",
       "_view_count": null,
       "_view_module": "@jupyter-widgets/controls",
       "_view_module_version": "1.5.0",
       "_view_name": "HTMLView",
       "description": "",
       "description_tooltip": null,
       "layout": "IPY_MODEL_becdf7ef34554b8fbc9fe8329825fecc",
       "placeholder": "​",
       "style": "IPY_MODEL_c8908228dee947d2a666a20ac1403c51",
       "value": " 18/18 [00:49&lt;00:00,  2.60s/it]"
      }
     },
     "58121e600ca94b5c9b4a88eb64c19671": {
      "model_module": "@jupyter-widgets/controls",
      "model_module_version": "1.5.0",
      "model_name": "ProgressStyleModel",
      "state": {
       "_model_module": "@jupyter-widgets/controls",
       "_model_module_version": "1.5.0",
       "_model_name": "ProgressStyleModel",
       "_view_count": null,
       "_view_module": "@jupyter-widgets/base",
       "_view_module_version": "1.2.0",
       "_view_name": "StyleView",
       "bar_color": null,
       "description_width": ""
      }
     },
     "5fdd517f39c04c4dbb1bf88c9c1a1810": {
      "model_module": "@jupyter-widgets/controls",
      "model_module_version": "1.5.0",
      "model_name": "ProgressStyleModel",
      "state": {
       "_model_module": "@jupyter-widgets/controls",
       "_model_module_version": "1.5.0",
       "_model_name": "ProgressStyleModel",
       "_view_count": null,
       "_view_module": "@jupyter-widgets/base",
       "_view_module_version": "1.2.0",
       "_view_name": "StyleView",
       "bar_color": null,
       "description_width": ""
      }
     },
     "609d7ac663904458b0360aace0a143f3": {
      "model_module": "@jupyter-widgets/controls",
      "model_module_version": "1.5.0",
      "model_name": "HBoxModel",
      "state": {
       "_dom_classes": [],
       "_model_module": "@jupyter-widgets/controls",
       "_model_module_version": "1.5.0",
       "_model_name": "HBoxModel",
       "_view_count": null,
       "_view_module": "@jupyter-widgets/controls",
       "_view_module_version": "1.5.0",
       "_view_name": "HBoxView",
       "box_style": "",
       "children": [
        "IPY_MODEL_0e8bdb5f165141fb816e2eed61668d17",
        "IPY_MODEL_1eda15ceedf84c528e6b4e7847901c8e",
        "IPY_MODEL_4c0faa1daf1c4bb3ad6cb9afa9f02928"
       ],
       "layout": "IPY_MODEL_3480e01c73b742ee872093e3883e7643"
      }
     },
     "662617c84f1e4fc68e39e7fea4dc79c7": {
      "model_module": "@jupyter-widgets/controls",
      "model_module_version": "1.5.0",
      "model_name": "HTMLModel",
      "state": {
       "_dom_classes": [],
       "_model_module": "@jupyter-widgets/controls",
       "_model_module_version": "1.5.0",
       "_model_name": "HTMLModel",
       "_view_count": null,
       "_view_module": "@jupyter-widgets/controls",
       "_view_module_version": "1.5.0",
       "_view_name": "HTMLView",
       "description": "",
       "description_tooltip": null,
       "layout": "IPY_MODEL_68160d5f2cef49f9b17b5a7ae3c98869",
       "placeholder": "​",
       "style": "IPY_MODEL_a04a42cda8864f67bc8a4a50b02bf29e",
       "value": "100%"
      }
     },
     "68160d5f2cef49f9b17b5a7ae3c98869": {
      "model_module": "@jupyter-widgets/base",
      "model_module_version": "1.2.0",
      "model_name": "LayoutModel",
      "state": {
       "_model_module": "@jupyter-widgets/base",
       "_model_module_version": "1.2.0",
       "_model_name": "LayoutModel",
       "_view_count": null,
       "_view_module": "@jupyter-widgets/base",
       "_view_module_version": "1.2.0",
       "_view_name": "LayoutView",
       "align_content": null,
       "align_items": null,
       "align_self": null,
       "border": null,
       "bottom": null,
       "display": null,
       "flex": null,
       "flex_flow": null,
       "grid_area": null,
       "grid_auto_columns": null,
       "grid_auto_flow": null,
       "grid_auto_rows": null,
       "grid_column": null,
       "grid_gap": null,
       "grid_row": null,
       "grid_template_areas": null,
       "grid_template_columns": null,
       "grid_template_rows": null,
       "height": null,
       "justify_content": null,
       "justify_items": null,
       "left": null,
       "margin": null,
       "max_height": null,
       "max_width": null,
       "min_height": null,
       "min_width": null,
       "object_fit": null,
       "object_position": null,
       "order": null,
       "overflow": null,
       "overflow_x": null,
       "overflow_y": null,
       "padding": null,
       "right": null,
       "top": null,
       "visibility": null,
       "width": null
      }
     },
     "68968bca810e4431b9a3e3ecd54a8aba": {
      "model_module": "@jupyter-widgets/base",
      "model_module_version": "1.2.0",
      "model_name": "LayoutModel",
      "state": {
       "_model_module": "@jupyter-widgets/base",
       "_model_module_version": "1.2.0",
       "_model_name": "LayoutModel",
       "_view_count": null,
       "_view_module": "@jupyter-widgets/base",
       "_view_module_version": "1.2.0",
       "_view_name": "LayoutView",
       "align_content": null,
       "align_items": null,
       "align_self": null,
       "border": null,
       "bottom": null,
       "display": null,
       "flex": null,
       "flex_flow": null,
       "grid_area": null,
       "grid_auto_columns": null,
       "grid_auto_flow": null,
       "grid_auto_rows": null,
       "grid_column": null,
       "grid_gap": null,
       "grid_row": null,
       "grid_template_areas": null,
       "grid_template_columns": null,
       "grid_template_rows": null,
       "height": null,
       "justify_content": null,
       "justify_items": null,
       "left": null,
       "margin": null,
       "max_height": null,
       "max_width": null,
       "min_height": null,
       "min_width": null,
       "object_fit": null,
       "object_position": null,
       "order": null,
       "overflow": null,
       "overflow_x": null,
       "overflow_y": null,
       "padding": null,
       "right": null,
       "top": null,
       "visibility": null,
       "width": null
      }
     },
     "68f3ae69e45044b48473d0894f7c3b08": {
      "model_module": "@jupyter-widgets/base",
      "model_module_version": "1.2.0",
      "model_name": "LayoutModel",
      "state": {
       "_model_module": "@jupyter-widgets/base",
       "_model_module_version": "1.2.0",
       "_model_name": "LayoutModel",
       "_view_count": null,
       "_view_module": "@jupyter-widgets/base",
       "_view_module_version": "1.2.0",
       "_view_name": "LayoutView",
       "align_content": null,
       "align_items": null,
       "align_self": null,
       "border": null,
       "bottom": null,
       "display": null,
       "flex": null,
       "flex_flow": null,
       "grid_area": null,
       "grid_auto_columns": null,
       "grid_auto_flow": null,
       "grid_auto_rows": null,
       "grid_column": null,
       "grid_gap": null,
       "grid_row": null,
       "grid_template_areas": null,
       "grid_template_columns": null,
       "grid_template_rows": null,
       "height": null,
       "justify_content": null,
       "justify_items": null,
       "left": null,
       "margin": null,
       "max_height": null,
       "max_width": null,
       "min_height": null,
       "min_width": null,
       "object_fit": null,
       "object_position": null,
       "order": null,
       "overflow": null,
       "overflow_x": null,
       "overflow_y": null,
       "padding": null,
       "right": null,
       "top": null,
       "visibility": null,
       "width": null
      }
     },
     "6cf23d1814eb4534a06d7f0b41e13292": {
      "model_module": "@jupyter-widgets/controls",
      "model_module_version": "1.5.0",
      "model_name": "HBoxModel",
      "state": {
       "_dom_classes": [],
       "_model_module": "@jupyter-widgets/controls",
       "_model_module_version": "1.5.0",
       "_model_name": "HBoxModel",
       "_view_count": null,
       "_view_module": "@jupyter-widgets/controls",
       "_view_module_version": "1.5.0",
       "_view_name": "HBoxView",
       "box_style": "",
       "children": [
        "IPY_MODEL_54b9881e6fee44f8a1d8796ca613716c",
        "IPY_MODEL_12ba5fba95a84e25b8bba814eca719e2",
        "IPY_MODEL_f2c70194abfa482d9442632b7ab725cf"
       ],
       "layout": "IPY_MODEL_3e3528cb4c444a51af99dd580c35a84c"
      }
     },
     "7522e0f865294a0f8309733a6eb4e698": {
      "model_module": "@jupyter-widgets/controls",
      "model_module_version": "1.5.0",
      "model_name": "DescriptionStyleModel",
      "state": {
       "_model_module": "@jupyter-widgets/controls",
       "_model_module_version": "1.5.0",
       "_model_name": "DescriptionStyleModel",
       "_view_count": null,
       "_view_module": "@jupyter-widgets/base",
       "_view_module_version": "1.2.0",
       "_view_name": "StyleView",
       "description_width": ""
      }
     },
     "76db533ffcfb401cb5f79d912a8d256a": {
      "model_module": "@jupyter-widgets/controls",
      "model_module_version": "1.5.0",
      "model_name": "HBoxModel",
      "state": {
       "_dom_classes": [],
       "_model_module": "@jupyter-widgets/controls",
       "_model_module_version": "1.5.0",
       "_model_name": "HBoxModel",
       "_view_count": null,
       "_view_module": "@jupyter-widgets/controls",
       "_view_module_version": "1.5.0",
       "_view_name": "HBoxView",
       "box_style": "",
       "children": [
        "IPY_MODEL_23f490adfd57411bbecdccb8ac9c5c73",
        "IPY_MODEL_7ae9ce8b31f240e69f58c1186c8a7d7f",
        "IPY_MODEL_56dd17c64e794dc1a31c99daa8fd2552"
       ],
       "layout": "IPY_MODEL_246b44e250f34edab27030b44da5c249"
      }
     },
     "780738e3936c440f8bdb5fe6baa1bdea": {
      "model_module": "@jupyter-widgets/base",
      "model_module_version": "1.2.0",
      "model_name": "LayoutModel",
      "state": {
       "_model_module": "@jupyter-widgets/base",
       "_model_module_version": "1.2.0",
       "_model_name": "LayoutModel",
       "_view_count": null,
       "_view_module": "@jupyter-widgets/base",
       "_view_module_version": "1.2.0",
       "_view_name": "LayoutView",
       "align_content": null,
       "align_items": null,
       "align_self": null,
       "border": null,
       "bottom": null,
       "display": null,
       "flex": null,
       "flex_flow": null,
       "grid_area": null,
       "grid_auto_columns": null,
       "grid_auto_flow": null,
       "grid_auto_rows": null,
       "grid_column": null,
       "grid_gap": null,
       "grid_row": null,
       "grid_template_areas": null,
       "grid_template_columns": null,
       "grid_template_rows": null,
       "height": null,
       "justify_content": null,
       "justify_items": null,
       "left": null,
       "margin": null,
       "max_height": null,
       "max_width": null,
       "min_height": null,
       "min_width": null,
       "object_fit": null,
       "object_position": null,
       "order": null,
       "overflow": null,
       "overflow_x": null,
       "overflow_y": null,
       "padding": null,
       "right": null,
       "top": null,
       "visibility": null,
       "width": null
      }
     },
     "7ae9ce8b31f240e69f58c1186c8a7d7f": {
      "model_module": "@jupyter-widgets/controls",
      "model_module_version": "1.5.0",
      "model_name": "FloatProgressModel",
      "state": {
       "_dom_classes": [],
       "_model_module": "@jupyter-widgets/controls",
       "_model_module_version": "1.5.0",
       "_model_name": "FloatProgressModel",
       "_view_count": null,
       "_view_module": "@jupyter-widgets/controls",
       "_view_module_version": "1.5.0",
       "_view_name": "ProgressView",
       "bar_style": "success",
       "description": "",
       "description_tooltip": null,
       "layout": "IPY_MODEL_a7f39d29d088433caae72ba0dc3ccf47",
       "max": 18.0,
       "min": 0.0,
       "orientation": "horizontal",
       "style": "IPY_MODEL_95ce764cdbfa480386cd7fefa6950126",
       "value": 18.0
      }
     },
     "7ff71b71a8cf42339d79a378fd296053": {
      "model_module": "@jupyter-widgets/controls",
      "model_module_version": "1.5.0",
      "model_name": "DescriptionStyleModel",
      "state": {
       "_model_module": "@jupyter-widgets/controls",
       "_model_module_version": "1.5.0",
       "_model_name": "DescriptionStyleModel",
       "_view_count": null,
       "_view_module": "@jupyter-widgets/base",
       "_view_module_version": "1.2.0",
       "_view_name": "StyleView",
       "description_width": ""
      }
     },
     "8474a2ca82d24eeaad168fc4e1b583bb": {
      "model_module": "@jupyter-widgets/base",
      "model_module_version": "1.2.0",
      "model_name": "LayoutModel",
      "state": {
       "_model_module": "@jupyter-widgets/base",
       "_model_module_version": "1.2.0",
       "_model_name": "LayoutModel",
       "_view_count": null,
       "_view_module": "@jupyter-widgets/base",
       "_view_module_version": "1.2.0",
       "_view_name": "LayoutView",
       "align_content": null,
       "align_items": null,
       "align_self": null,
       "border": null,
       "bottom": null,
       "display": null,
       "flex": null,
       "flex_flow": null,
       "grid_area": null,
       "grid_auto_columns": null,
       "grid_auto_flow": null,
       "grid_auto_rows": null,
       "grid_column": null,
       "grid_gap": null,
       "grid_row": null,
       "grid_template_areas": null,
       "grid_template_columns": null,
       "grid_template_rows": null,
       "height": null,
       "justify_content": null,
       "justify_items": null,
       "left": null,
       "margin": null,
       "max_height": null,
       "max_width": null,
       "min_height": null,
       "min_width": null,
       "object_fit": null,
       "object_position": null,
       "order": null,
       "overflow": null,
       "overflow_x": null,
       "overflow_y": null,
       "padding": null,
       "right": null,
       "top": null,
       "visibility": null,
       "width": null
      }
     },
     "95ce764cdbfa480386cd7fefa6950126": {
      "model_module": "@jupyter-widgets/controls",
      "model_module_version": "1.5.0",
      "model_name": "ProgressStyleModel",
      "state": {
       "_model_module": "@jupyter-widgets/controls",
       "_model_module_version": "1.5.0",
       "_model_name": "ProgressStyleModel",
       "_view_count": null,
       "_view_module": "@jupyter-widgets/base",
       "_view_module_version": "1.2.0",
       "_view_name": "StyleView",
       "bar_color": null,
       "description_width": ""
      }
     },
     "9b57debec18c4bf9bda02c0b84ef3345": {
      "model_module": "@jupyter-widgets/controls",
      "model_module_version": "1.5.0",
      "model_name": "DescriptionStyleModel",
      "state": {
       "_model_module": "@jupyter-widgets/controls",
       "_model_module_version": "1.5.0",
       "_model_name": "DescriptionStyleModel",
       "_view_count": null,
       "_view_module": "@jupyter-widgets/base",
       "_view_module_version": "1.2.0",
       "_view_name": "StyleView",
       "description_width": ""
      }
     },
     "9c57618afa7f491e974c9fa7a7e38946": {
      "model_module": "@jupyter-widgets/controls",
      "model_module_version": "1.5.0",
      "model_name": "DescriptionStyleModel",
      "state": {
       "_model_module": "@jupyter-widgets/controls",
       "_model_module_version": "1.5.0",
       "_model_name": "DescriptionStyleModel",
       "_view_count": null,
       "_view_module": "@jupyter-widgets/base",
       "_view_module_version": "1.2.0",
       "_view_name": "StyleView",
       "description_width": ""
      }
     },
     "9e42ff2df7c3425e83a543e38e55bd8e": {
      "model_module": "@jupyter-widgets/controls",
      "model_module_version": "1.5.0",
      "model_name": "DescriptionStyleModel",
      "state": {
       "_model_module": "@jupyter-widgets/controls",
       "_model_module_version": "1.5.0",
       "_model_name": "DescriptionStyleModel",
       "_view_count": null,
       "_view_module": "@jupyter-widgets/base",
       "_view_module_version": "1.2.0",
       "_view_name": "StyleView",
       "description_width": ""
      }
     },
     "a000bd505cd44782a7e3eb6acd167913": {
      "model_module": "@jupyter-widgets/controls",
      "model_module_version": "1.5.0",
      "model_name": "HBoxModel",
      "state": {
       "_dom_classes": [],
       "_model_module": "@jupyter-widgets/controls",
       "_model_module_version": "1.5.0",
       "_model_name": "HBoxModel",
       "_view_count": null,
       "_view_module": "@jupyter-widgets/controls",
       "_view_module_version": "1.5.0",
       "_view_name": "HBoxView",
       "box_style": "",
       "children": [
        "IPY_MODEL_fc392a93543d4cdca10665a7ceee47ac",
        "IPY_MODEL_10bb7bf3f33045f88d2cece4f1f22ab9",
        "IPY_MODEL_c5e8b9ab145348369dc3afa1cfccaa4a"
       ],
       "layout": "IPY_MODEL_4779078183ae40d99e2230a27d8df780"
      }
     },
     "a04a42cda8864f67bc8a4a50b02bf29e": {
      "model_module": "@jupyter-widgets/controls",
      "model_module_version": "1.5.0",
      "model_name": "DescriptionStyleModel",
      "state": {
       "_model_module": "@jupyter-widgets/controls",
       "_model_module_version": "1.5.0",
       "_model_name": "DescriptionStyleModel",
       "_view_count": null,
       "_view_module": "@jupyter-widgets/base",
       "_view_module_version": "1.2.0",
       "_view_name": "StyleView",
       "description_width": ""
      }
     },
     "a0f2ff30c82e4d46ba6bf6cf91810e5e": {
      "model_module": "@jupyter-widgets/controls",
      "model_module_version": "1.5.0",
      "model_name": "ProgressStyleModel",
      "state": {
       "_model_module": "@jupyter-widgets/controls",
       "_model_module_version": "1.5.0",
       "_model_name": "ProgressStyleModel",
       "_view_count": null,
       "_view_module": "@jupyter-widgets/base",
       "_view_module_version": "1.2.0",
       "_view_name": "StyleView",
       "bar_color": null,
       "description_width": ""
      }
     },
     "a3129302f5fe453dbafd5eb78a932324": {
      "model_module": "@jupyter-widgets/controls",
      "model_module_version": "1.5.0",
      "model_name": "ProgressStyleModel",
      "state": {
       "_model_module": "@jupyter-widgets/controls",
       "_model_module_version": "1.5.0",
       "_model_name": "ProgressStyleModel",
       "_view_count": null,
       "_view_module": "@jupyter-widgets/base",
       "_view_module_version": "1.2.0",
       "_view_name": "StyleView",
       "bar_color": null,
       "description_width": ""
      }
     },
     "a72295191a2a49a0801f9ac1baaaf09a": {
      "model_module": "@jupyter-widgets/base",
      "model_module_version": "1.2.0",
      "model_name": "LayoutModel",
      "state": {
       "_model_module": "@jupyter-widgets/base",
       "_model_module_version": "1.2.0",
       "_model_name": "LayoutModel",
       "_view_count": null,
       "_view_module": "@jupyter-widgets/base",
       "_view_module_version": "1.2.0",
       "_view_name": "LayoutView",
       "align_content": null,
       "align_items": null,
       "align_self": null,
       "border": null,
       "bottom": null,
       "display": null,
       "flex": null,
       "flex_flow": null,
       "grid_area": null,
       "grid_auto_columns": null,
       "grid_auto_flow": null,
       "grid_auto_rows": null,
       "grid_column": null,
       "grid_gap": null,
       "grid_row": null,
       "grid_template_areas": null,
       "grid_template_columns": null,
       "grid_template_rows": null,
       "height": null,
       "justify_content": null,
       "justify_items": null,
       "left": null,
       "margin": null,
       "max_height": null,
       "max_width": null,
       "min_height": null,
       "min_width": null,
       "object_fit": null,
       "object_position": null,
       "order": null,
       "overflow": null,
       "overflow_x": null,
       "overflow_y": null,
       "padding": null,
       "right": null,
       "top": null,
       "visibility": null,
       "width": null
      }
     },
     "a7f39d29d088433caae72ba0dc3ccf47": {
      "model_module": "@jupyter-widgets/base",
      "model_module_version": "1.2.0",
      "model_name": "LayoutModel",
      "state": {
       "_model_module": "@jupyter-widgets/base",
       "_model_module_version": "1.2.0",
       "_model_name": "LayoutModel",
       "_view_count": null,
       "_view_module": "@jupyter-widgets/base",
       "_view_module_version": "1.2.0",
       "_view_name": "LayoutView",
       "align_content": null,
       "align_items": null,
       "align_self": null,
       "border": null,
       "bottom": null,
       "display": null,
       "flex": null,
       "flex_flow": null,
       "grid_area": null,
       "grid_auto_columns": null,
       "grid_auto_flow": null,
       "grid_auto_rows": null,
       "grid_column": null,
       "grid_gap": null,
       "grid_row": null,
       "grid_template_areas": null,
       "grid_template_columns": null,
       "grid_template_rows": null,
       "height": null,
       "justify_content": null,
       "justify_items": null,
       "left": null,
       "margin": null,
       "max_height": null,
       "max_width": null,
       "min_height": null,
       "min_width": null,
       "object_fit": null,
       "object_position": null,
       "order": null,
       "overflow": null,
       "overflow_x": null,
       "overflow_y": null,
       "padding": null,
       "right": null,
       "top": null,
       "visibility": null,
       "width": null
      }
     },
     "a855a86a4f2a4dd99c26c723e694f61b": {
      "model_module": "@jupyter-widgets/base",
      "model_module_version": "1.2.0",
      "model_name": "LayoutModel",
      "state": {
       "_model_module": "@jupyter-widgets/base",
       "_model_module_version": "1.2.0",
       "_model_name": "LayoutModel",
       "_view_count": null,
       "_view_module": "@jupyter-widgets/base",
       "_view_module_version": "1.2.0",
       "_view_name": "LayoutView",
       "align_content": null,
       "align_items": null,
       "align_self": null,
       "border": null,
       "bottom": null,
       "display": null,
       "flex": null,
       "flex_flow": null,
       "grid_area": null,
       "grid_auto_columns": null,
       "grid_auto_flow": null,
       "grid_auto_rows": null,
       "grid_column": null,
       "grid_gap": null,
       "grid_row": null,
       "grid_template_areas": null,
       "grid_template_columns": null,
       "grid_template_rows": null,
       "height": null,
       "justify_content": null,
       "justify_items": null,
       "left": null,
       "margin": null,
       "max_height": null,
       "max_width": null,
       "min_height": null,
       "min_width": null,
       "object_fit": null,
       "object_position": null,
       "order": null,
       "overflow": null,
       "overflow_x": null,
       "overflow_y": null,
       "padding": null,
       "right": null,
       "top": null,
       "visibility": null,
       "width": null
      }
     },
     "a92713405d014e579bddcf76c655141c": {
      "model_module": "@jupyter-widgets/controls",
      "model_module_version": "1.5.0",
      "model_name": "ProgressStyleModel",
      "state": {
       "_model_module": "@jupyter-widgets/controls",
       "_model_module_version": "1.5.0",
       "_model_name": "ProgressStyleModel",
       "_view_count": null,
       "_view_module": "@jupyter-widgets/base",
       "_view_module_version": "1.2.0",
       "_view_name": "StyleView",
       "bar_color": null,
       "description_width": ""
      }
     },
     "ab3d12080fc5492d9f2f201e9f1df8d2": {
      "model_module": "@jupyter-widgets/controls",
      "model_module_version": "1.5.0",
      "model_name": "HBoxModel",
      "state": {
       "_dom_classes": [],
       "_model_module": "@jupyter-widgets/controls",
       "_model_module_version": "1.5.0",
       "_model_name": "HBoxModel",
       "_view_count": null,
       "_view_module": "@jupyter-widgets/controls",
       "_view_module_version": "1.5.0",
       "_view_name": "HBoxView",
       "box_style": "",
       "children": [
        "IPY_MODEL_fbc014a30d104e5e9387058144bcaf6e",
        "IPY_MODEL_16856fb4733543e596a4f6385c34c4be",
        "IPY_MODEL_01088b65989e4b5ba9438faf546853c7"
       ],
       "layout": "IPY_MODEL_486253e6ff2f43f38a738af02e526665"
      }
     },
     "ad10dcd7e9ca41aeaccd68c7ac426709": {
      "model_module": "@jupyter-widgets/controls",
      "model_module_version": "1.5.0",
      "model_name": "HBoxModel",
      "state": {
       "_dom_classes": [],
       "_model_module": "@jupyter-widgets/controls",
       "_model_module_version": "1.5.0",
       "_model_name": "HBoxModel",
       "_view_count": null,
       "_view_module": "@jupyter-widgets/controls",
       "_view_module_version": "1.5.0",
       "_view_name": "HBoxView",
       "box_style": "",
       "children": [
        "IPY_MODEL_028cff8a9de445f0b460d6f7fbbdd0ac",
        "IPY_MODEL_eb3153146b664aa89a3f9e30dc0b6ac3",
        "IPY_MODEL_3df17a1f69b94a0abe25a58db00a6adc"
       ],
       "layout": "IPY_MODEL_554902347693452d862787094fb5da93"
      }
     },
     "b1a5ecaa6f2349dd8ce45bb44c9063bd": {
      "model_module": "@jupyter-widgets/controls",
      "model_module_version": "1.5.0",
      "model_name": "DescriptionStyleModel",
      "state": {
       "_model_module": "@jupyter-widgets/controls",
       "_model_module_version": "1.5.0",
       "_model_name": "DescriptionStyleModel",
       "_view_count": null,
       "_view_module": "@jupyter-widgets/base",
       "_view_module_version": "1.2.0",
       "_view_name": "StyleView",
       "description_width": ""
      }
     },
     "b545a984dfe04c3e80448d7482a5d814": {
      "model_module": "@jupyter-widgets/controls",
      "model_module_version": "1.5.0",
      "model_name": "DescriptionStyleModel",
      "state": {
       "_model_module": "@jupyter-widgets/controls",
       "_model_module_version": "1.5.0",
       "_model_name": "DescriptionStyleModel",
       "_view_count": null,
       "_view_module": "@jupyter-widgets/base",
       "_view_module_version": "1.2.0",
       "_view_name": "StyleView",
       "description_width": ""
      }
     },
     "b69be8740ef94da2aa18af621f133a56": {
      "model_module": "@jupyter-widgets/base",
      "model_module_version": "1.2.0",
      "model_name": "LayoutModel",
      "state": {
       "_model_module": "@jupyter-widgets/base",
       "_model_module_version": "1.2.0",
       "_model_name": "LayoutModel",
       "_view_count": null,
       "_view_module": "@jupyter-widgets/base",
       "_view_module_version": "1.2.0",
       "_view_name": "LayoutView",
       "align_content": null,
       "align_items": null,
       "align_self": null,
       "border": null,
       "bottom": null,
       "display": null,
       "flex": null,
       "flex_flow": null,
       "grid_area": null,
       "grid_auto_columns": null,
       "grid_auto_flow": null,
       "grid_auto_rows": null,
       "grid_column": null,
       "grid_gap": null,
       "grid_row": null,
       "grid_template_areas": null,
       "grid_template_columns": null,
       "grid_template_rows": null,
       "height": null,
       "justify_content": null,
       "justify_items": null,
       "left": null,
       "margin": null,
       "max_height": null,
       "max_width": null,
       "min_height": null,
       "min_width": null,
       "object_fit": null,
       "object_position": null,
       "order": null,
       "overflow": null,
       "overflow_x": null,
       "overflow_y": null,
       "padding": null,
       "right": null,
       "top": null,
       "visibility": null,
       "width": null
      }
     },
     "b9ab4a3b6ba6414a90a6f6f43e0ab2a4": {
      "model_module": "@jupyter-widgets/base",
      "model_module_version": "1.2.0",
      "model_name": "LayoutModel",
      "state": {
       "_model_module": "@jupyter-widgets/base",
       "_model_module_version": "1.2.0",
       "_model_name": "LayoutModel",
       "_view_count": null,
       "_view_module": "@jupyter-widgets/base",
       "_view_module_version": "1.2.0",
       "_view_name": "LayoutView",
       "align_content": null,
       "align_items": null,
       "align_self": null,
       "border": null,
       "bottom": null,
       "display": null,
       "flex": null,
       "flex_flow": null,
       "grid_area": null,
       "grid_auto_columns": null,
       "grid_auto_flow": null,
       "grid_auto_rows": null,
       "grid_column": null,
       "grid_gap": null,
       "grid_row": null,
       "grid_template_areas": null,
       "grid_template_columns": null,
       "grid_template_rows": null,
       "height": null,
       "justify_content": null,
       "justify_items": null,
       "left": null,
       "margin": null,
       "max_height": null,
       "max_width": null,
       "min_height": null,
       "min_width": null,
       "object_fit": null,
       "object_position": null,
       "order": null,
       "overflow": null,
       "overflow_x": null,
       "overflow_y": null,
       "padding": null,
       "right": null,
       "top": null,
       "visibility": null,
       "width": null
      }
     },
     "ba09155e2d4447bd9ba4903cbabd2724": {
      "model_module": "@jupyter-widgets/controls",
      "model_module_version": "1.5.0",
      "model_name": "DescriptionStyleModel",
      "state": {
       "_model_module": "@jupyter-widgets/controls",
       "_model_module_version": "1.5.0",
       "_model_name": "DescriptionStyleModel",
       "_view_count": null,
       "_view_module": "@jupyter-widgets/base",
       "_view_module_version": "1.2.0",
       "_view_name": "StyleView",
       "description_width": ""
      }
     },
     "bae08df16a184c849e4ef4b09a56ac43": {
      "model_module": "@jupyter-widgets/controls",
      "model_module_version": "1.5.0",
      "model_name": "HBoxModel",
      "state": {
       "_dom_classes": [],
       "_model_module": "@jupyter-widgets/controls",
       "_model_module_version": "1.5.0",
       "_model_name": "HBoxModel",
       "_view_count": null,
       "_view_module": "@jupyter-widgets/controls",
       "_view_module_version": "1.5.0",
       "_view_name": "HBoxView",
       "box_style": "",
       "children": [
        "IPY_MODEL_fb72d0e6f47f4f6097eb176ec9b8efa5",
        "IPY_MODEL_3481ce6ec4e64d3fb9a126e150b9f2cb",
        "IPY_MODEL_40a5d14e6f65466dba33db927f45314b"
       ],
       "layout": "IPY_MODEL_54ed016b828449698a823ec6be526aea"
      }
     },
     "bae322d40b484ca9b04656be004c1b09": {
      "model_module": "@jupyter-widgets/controls",
      "model_module_version": "1.5.0",
      "model_name": "FloatProgressModel",
      "state": {
       "_dom_classes": [],
       "_model_module": "@jupyter-widgets/controls",
       "_model_module_version": "1.5.0",
       "_model_name": "FloatProgressModel",
       "_view_count": null,
       "_view_module": "@jupyter-widgets/controls",
       "_view_module_version": "1.5.0",
       "_view_name": "ProgressView",
       "bar_style": "success",
       "description": "",
       "description_tooltip": null,
       "layout": "IPY_MODEL_d7379b23e4e647569912fad5fae60801",
       "max": 18.0,
       "min": 0.0,
       "orientation": "horizontal",
       "style": "IPY_MODEL_1b83fbe2aab8456285330cfd7c7a691a",
       "value": 18.0
      }
     },
     "becdf7ef34554b8fbc9fe8329825fecc": {
      "model_module": "@jupyter-widgets/base",
      "model_module_version": "1.2.0",
      "model_name": "LayoutModel",
      "state": {
       "_model_module": "@jupyter-widgets/base",
       "_model_module_version": "1.2.0",
       "_model_name": "LayoutModel",
       "_view_count": null,
       "_view_module": "@jupyter-widgets/base",
       "_view_module_version": "1.2.0",
       "_view_name": "LayoutView",
       "align_content": null,
       "align_items": null,
       "align_self": null,
       "border": null,
       "bottom": null,
       "display": null,
       "flex": null,
       "flex_flow": null,
       "grid_area": null,
       "grid_auto_columns": null,
       "grid_auto_flow": null,
       "grid_auto_rows": null,
       "grid_column": null,
       "grid_gap": null,
       "grid_row": null,
       "grid_template_areas": null,
       "grid_template_columns": null,
       "grid_template_rows": null,
       "height": null,
       "justify_content": null,
       "justify_items": null,
       "left": null,
       "margin": null,
       "max_height": null,
       "max_width": null,
       "min_height": null,
       "min_width": null,
       "object_fit": null,
       "object_position": null,
       "order": null,
       "overflow": null,
       "overflow_x": null,
       "overflow_y": null,
       "padding": null,
       "right": null,
       "top": null,
       "visibility": null,
       "width": null
      }
     },
     "c5e8b9ab145348369dc3afa1cfccaa4a": {
      "model_module": "@jupyter-widgets/controls",
      "model_module_version": "1.5.0",
      "model_name": "HTMLModel",
      "state": {
       "_dom_classes": [],
       "_model_module": "@jupyter-widgets/controls",
       "_model_module_version": "1.5.0",
       "_model_name": "HTMLModel",
       "_view_count": null,
       "_view_module": "@jupyter-widgets/controls",
       "_view_module_version": "1.5.0",
       "_view_name": "HTMLView",
       "description": "",
       "description_tooltip": null,
       "layout": "IPY_MODEL_d779e5b084b74bbba37ce2f22499aabc",
       "placeholder": "​",
       "style": "IPY_MODEL_cf1c2fa4bc3e4b28a99684a968fbd244",
       "value": " 106/106 [00:35&lt;00:00,  3.01it/s]"
      }
     },
     "c6bac64ba5f14eefb1f1baba83f8d83a": {
      "model_module": "@jupyter-widgets/base",
      "model_module_version": "1.2.0",
      "model_name": "LayoutModel",
      "state": {
       "_model_module": "@jupyter-widgets/base",
       "_model_module_version": "1.2.0",
       "_model_name": "LayoutModel",
       "_view_count": null,
       "_view_module": "@jupyter-widgets/base",
       "_view_module_version": "1.2.0",
       "_view_name": "LayoutView",
       "align_content": null,
       "align_items": null,
       "align_self": null,
       "border": null,
       "bottom": null,
       "display": null,
       "flex": null,
       "flex_flow": null,
       "grid_area": null,
       "grid_auto_columns": null,
       "grid_auto_flow": null,
       "grid_auto_rows": null,
       "grid_column": null,
       "grid_gap": null,
       "grid_row": null,
       "grid_template_areas": null,
       "grid_template_columns": null,
       "grid_template_rows": null,
       "height": null,
       "justify_content": null,
       "justify_items": null,
       "left": null,
       "margin": null,
       "max_height": null,
       "max_width": null,
       "min_height": null,
       "min_width": null,
       "object_fit": null,
       "object_position": null,
       "order": null,
       "overflow": null,
       "overflow_x": null,
       "overflow_y": null,
       "padding": null,
       "right": null,
       "top": null,
       "visibility": null,
       "width": null
      }
     },
     "c7c9d56c24ce4aa183b12564121d8be4": {
      "model_module": "@jupyter-widgets/controls",
      "model_module_version": "1.5.0",
      "model_name": "HTMLModel",
      "state": {
       "_dom_classes": [],
       "_model_module": "@jupyter-widgets/controls",
       "_model_module_version": "1.5.0",
       "_model_name": "HTMLModel",
       "_view_count": null,
       "_view_module": "@jupyter-widgets/controls",
       "_view_module_version": "1.5.0",
       "_view_name": "HTMLView",
       "description": "",
       "description_tooltip": null,
       "layout": "IPY_MODEL_296fad7b41844feeb7dcfc910fd2e950",
       "placeholder": "​",
       "style": "IPY_MODEL_7ff71b71a8cf42339d79a378fd296053",
       "value": " 18/18 [00:03&lt;00:00,  5.48it/s]"
      }
     },
     "c8908228dee947d2a666a20ac1403c51": {
      "model_module": "@jupyter-widgets/controls",
      "model_module_version": "1.5.0",
      "model_name": "DescriptionStyleModel",
      "state": {
       "_model_module": "@jupyter-widgets/controls",
       "_model_module_version": "1.5.0",
       "_model_name": "DescriptionStyleModel",
       "_view_count": null,
       "_view_module": "@jupyter-widgets/base",
       "_view_module_version": "1.2.0",
       "_view_name": "StyleView",
       "description_width": ""
      }
     },
     "cf1c2fa4bc3e4b28a99684a968fbd244": {
      "model_module": "@jupyter-widgets/controls",
      "model_module_version": "1.5.0",
      "model_name": "DescriptionStyleModel",
      "state": {
       "_model_module": "@jupyter-widgets/controls",
       "_model_module_version": "1.5.0",
       "_model_name": "DescriptionStyleModel",
       "_view_count": null,
       "_view_module": "@jupyter-widgets/base",
       "_view_module_version": "1.2.0",
       "_view_name": "StyleView",
       "description_width": ""
      }
     },
     "d7379b23e4e647569912fad5fae60801": {
      "model_module": "@jupyter-widgets/base",
      "model_module_version": "1.2.0",
      "model_name": "LayoutModel",
      "state": {
       "_model_module": "@jupyter-widgets/base",
       "_model_module_version": "1.2.0",
       "_model_name": "LayoutModel",
       "_view_count": null,
       "_view_module": "@jupyter-widgets/base",
       "_view_module_version": "1.2.0",
       "_view_name": "LayoutView",
       "align_content": null,
       "align_items": null,
       "align_self": null,
       "border": null,
       "bottom": null,
       "display": null,
       "flex": null,
       "flex_flow": null,
       "grid_area": null,
       "grid_auto_columns": null,
       "grid_auto_flow": null,
       "grid_auto_rows": null,
       "grid_column": null,
       "grid_gap": null,
       "grid_row": null,
       "grid_template_areas": null,
       "grid_template_columns": null,
       "grid_template_rows": null,
       "height": null,
       "justify_content": null,
       "justify_items": null,
       "left": null,
       "margin": null,
       "max_height": null,
       "max_width": null,
       "min_height": null,
       "min_width": null,
       "object_fit": null,
       "object_position": null,
       "order": null,
       "overflow": null,
       "overflow_x": null,
       "overflow_y": null,
       "padding": null,
       "right": null,
       "top": null,
       "visibility": null,
       "width": null
      }
     },
     "d779e5b084b74bbba37ce2f22499aabc": {
      "model_module": "@jupyter-widgets/base",
      "model_module_version": "1.2.0",
      "model_name": "LayoutModel",
      "state": {
       "_model_module": "@jupyter-widgets/base",
       "_model_module_version": "1.2.0",
       "_model_name": "LayoutModel",
       "_view_count": null,
       "_view_module": "@jupyter-widgets/base",
       "_view_module_version": "1.2.0",
       "_view_name": "LayoutView",
       "align_content": null,
       "align_items": null,
       "align_self": null,
       "border": null,
       "bottom": null,
       "display": null,
       "flex": null,
       "flex_flow": null,
       "grid_area": null,
       "grid_auto_columns": null,
       "grid_auto_flow": null,
       "grid_auto_rows": null,
       "grid_column": null,
       "grid_gap": null,
       "grid_row": null,
       "grid_template_areas": null,
       "grid_template_columns": null,
       "grid_template_rows": null,
       "height": null,
       "justify_content": null,
       "justify_items": null,
       "left": null,
       "margin": null,
       "max_height": null,
       "max_width": null,
       "min_height": null,
       "min_width": null,
       "object_fit": null,
       "object_position": null,
       "order": null,
       "overflow": null,
       "overflow_x": null,
       "overflow_y": null,
       "padding": null,
       "right": null,
       "top": null,
       "visibility": null,
       "width": null
      }
     },
     "e013dd5c1c8141cb9012697ce454089e": {
      "model_module": "@jupyter-widgets/controls",
      "model_module_version": "1.5.0",
      "model_name": "ProgressStyleModel",
      "state": {
       "_model_module": "@jupyter-widgets/controls",
       "_model_module_version": "1.5.0",
       "_model_name": "ProgressStyleModel",
       "_view_count": null,
       "_view_module": "@jupyter-widgets/base",
       "_view_module_version": "1.2.0",
       "_view_name": "StyleView",
       "bar_color": null,
       "description_width": ""
      }
     },
     "e4a83df4e8474d65bd531657780249d2": {
      "model_module": "@jupyter-widgets/controls",
      "model_module_version": "1.5.0",
      "model_name": "DescriptionStyleModel",
      "state": {
       "_model_module": "@jupyter-widgets/controls",
       "_model_module_version": "1.5.0",
       "_model_name": "DescriptionStyleModel",
       "_view_count": null,
       "_view_module": "@jupyter-widgets/base",
       "_view_module_version": "1.2.0",
       "_view_name": "StyleView",
       "description_width": ""
      }
     },
     "e7440998c69744b1b37bdce0668df67b": {
      "model_module": "@jupyter-widgets/base",
      "model_module_version": "1.2.0",
      "model_name": "LayoutModel",
      "state": {
       "_model_module": "@jupyter-widgets/base",
       "_model_module_version": "1.2.0",
       "_model_name": "LayoutModel",
       "_view_count": null,
       "_view_module": "@jupyter-widgets/base",
       "_view_module_version": "1.2.0",
       "_view_name": "LayoutView",
       "align_content": null,
       "align_items": null,
       "align_self": null,
       "border": null,
       "bottom": null,
       "display": null,
       "flex": null,
       "flex_flow": null,
       "grid_area": null,
       "grid_auto_columns": null,
       "grid_auto_flow": null,
       "grid_auto_rows": null,
       "grid_column": null,
       "grid_gap": null,
       "grid_row": null,
       "grid_template_areas": null,
       "grid_template_columns": null,
       "grid_template_rows": null,
       "height": null,
       "justify_content": null,
       "justify_items": null,
       "left": null,
       "margin": null,
       "max_height": null,
       "max_width": null,
       "min_height": null,
       "min_width": null,
       "object_fit": null,
       "object_position": null,
       "order": null,
       "overflow": null,
       "overflow_x": null,
       "overflow_y": null,
       "padding": null,
       "right": null,
       "top": null,
       "visibility": null,
       "width": null
      }
     },
     "eb3153146b664aa89a3f9e30dc0b6ac3": {
      "model_module": "@jupyter-widgets/controls",
      "model_module_version": "1.5.0",
      "model_name": "FloatProgressModel",
      "state": {
       "_dom_classes": [],
       "_model_module": "@jupyter-widgets/controls",
       "_model_module_version": "1.5.0",
       "_model_name": "FloatProgressModel",
       "_view_count": null,
       "_view_module": "@jupyter-widgets/controls",
       "_view_module_version": "1.5.0",
       "_view_name": "ProgressView",
       "bar_style": "success",
       "description": "",
       "description_tooltip": null,
       "layout": "IPY_MODEL_1c02f60b6a044a1ebe48653689a3a028",
       "max": 18.0,
       "min": 0.0,
       "orientation": "horizontal",
       "style": "IPY_MODEL_e013dd5c1c8141cb9012697ce454089e",
       "value": 18.0
      }
     },
     "ed56141e88254e7cb6424ad017fbe9f7": {
      "model_module": "@jupyter-widgets/controls",
      "model_module_version": "1.5.0",
      "model_name": "HTMLModel",
      "state": {
       "_dom_classes": [],
       "_model_module": "@jupyter-widgets/controls",
       "_model_module_version": "1.5.0",
       "_model_name": "HTMLModel",
       "_view_count": null,
       "_view_module": "@jupyter-widgets/controls",
       "_view_module_version": "1.5.0",
       "_view_name": "HTMLView",
       "description": "",
       "description_tooltip": null,
       "layout": "IPY_MODEL_f9df911664154fca9ebafbdb719ff5ca",
       "placeholder": "​",
       "style": "IPY_MODEL_9e42ff2df7c3425e83a543e38e55bd8e",
       "value": " 18/18 [00:06&lt;00:00,  2.73it/s]"
      }
     },
     "f0fc5e98461b47518c4c0f80c8e27edf": {
      "model_module": "@jupyter-widgets/base",
      "model_module_version": "1.2.0",
      "model_name": "LayoutModel",
      "state": {
       "_model_module": "@jupyter-widgets/base",
       "_model_module_version": "1.2.0",
       "_model_name": "LayoutModel",
       "_view_count": null,
       "_view_module": "@jupyter-widgets/base",
       "_view_module_version": "1.2.0",
       "_view_name": "LayoutView",
       "align_content": null,
       "align_items": null,
       "align_self": null,
       "border": null,
       "bottom": null,
       "display": null,
       "flex": null,
       "flex_flow": null,
       "grid_area": null,
       "grid_auto_columns": null,
       "grid_auto_flow": null,
       "grid_auto_rows": null,
       "grid_column": null,
       "grid_gap": null,
       "grid_row": null,
       "grid_template_areas": null,
       "grid_template_columns": null,
       "grid_template_rows": null,
       "height": null,
       "justify_content": null,
       "justify_items": null,
       "left": null,
       "margin": null,
       "max_height": null,
       "max_width": null,
       "min_height": null,
       "min_width": null,
       "object_fit": null,
       "object_position": null,
       "order": null,
       "overflow": null,
       "overflow_x": null,
       "overflow_y": null,
       "padding": null,
       "right": null,
       "top": null,
       "visibility": null,
       "width": null
      }
     },
     "f2c70194abfa482d9442632b7ab725cf": {
      "model_module": "@jupyter-widgets/controls",
      "model_module_version": "1.5.0",
      "model_name": "HTMLModel",
      "state": {
       "_dom_classes": [],
       "_model_module": "@jupyter-widgets/controls",
       "_model_module_version": "1.5.0",
       "_model_name": "HTMLModel",
       "_view_count": null,
       "_view_module": "@jupyter-widgets/controls",
       "_view_module_version": "1.5.0",
       "_view_name": "HTMLView",
       "description": "",
       "description_tooltip": null,
       "layout": "IPY_MODEL_c6bac64ba5f14eefb1f1baba83f8d83a",
       "placeholder": "​",
       "style": "IPY_MODEL_3f0a0161fbc64b518f56b6a01d785eaf",
       "value": " 18/18 [07:16&lt;00:00, 22.78s/it]"
      }
     },
     "f9df911664154fca9ebafbdb719ff5ca": {
      "model_module": "@jupyter-widgets/base",
      "model_module_version": "1.2.0",
      "model_name": "LayoutModel",
      "state": {
       "_model_module": "@jupyter-widgets/base",
       "_model_module_version": "1.2.0",
       "_model_name": "LayoutModel",
       "_view_count": null,
       "_view_module": "@jupyter-widgets/base",
       "_view_module_version": "1.2.0",
       "_view_name": "LayoutView",
       "align_content": null,
       "align_items": null,
       "align_self": null,
       "border": null,
       "bottom": null,
       "display": null,
       "flex": null,
       "flex_flow": null,
       "grid_area": null,
       "grid_auto_columns": null,
       "grid_auto_flow": null,
       "grid_auto_rows": null,
       "grid_column": null,
       "grid_gap": null,
       "grid_row": null,
       "grid_template_areas": null,
       "grid_template_columns": null,
       "grid_template_rows": null,
       "height": null,
       "justify_content": null,
       "justify_items": null,
       "left": null,
       "margin": null,
       "max_height": null,
       "max_width": null,
       "min_height": null,
       "min_width": null,
       "object_fit": null,
       "object_position": null,
       "order": null,
       "overflow": null,
       "overflow_x": null,
       "overflow_y": null,
       "padding": null,
       "right": null,
       "top": null,
       "visibility": null,
       "width": null
      }
     },
     "fb72d0e6f47f4f6097eb176ec9b8efa5": {
      "model_module": "@jupyter-widgets/controls",
      "model_module_version": "1.5.0",
      "model_name": "HTMLModel",
      "state": {
       "_dom_classes": [],
       "_model_module": "@jupyter-widgets/controls",
       "_model_module_version": "1.5.0",
       "_model_name": "HTMLModel",
       "_view_count": null,
       "_view_module": "@jupyter-widgets/controls",
       "_view_module_version": "1.5.0",
       "_view_name": "HTMLView",
       "description": "",
       "description_tooltip": null,
       "layout": "IPY_MODEL_124e2d734a9a4481bebc6de905f82688",
       "placeholder": "​",
       "style": "IPY_MODEL_7522e0f865294a0f8309733a6eb4e698",
       "value": "100%"
      }
     },
     "fbc014a30d104e5e9387058144bcaf6e": {
      "model_module": "@jupyter-widgets/controls",
      "model_module_version": "1.5.0",
      "model_name": "HTMLModel",
      "state": {
       "_dom_classes": [],
       "_model_module": "@jupyter-widgets/controls",
       "_model_module_version": "1.5.0",
       "_model_name": "HTMLModel",
       "_view_count": null,
       "_view_module": "@jupyter-widgets/controls",
       "_view_module_version": "1.5.0",
       "_view_name": "HTMLView",
       "description": "",
       "description_tooltip": null,
       "layout": "IPY_MODEL_e7440998c69744b1b37bdce0668df67b",
       "placeholder": "​",
       "style": "IPY_MODEL_9c57618afa7f491e974c9fa7a7e38946",
       "value": "100%"
      }
     },
     "fc392a93543d4cdca10665a7ceee47ac": {
      "model_module": "@jupyter-widgets/controls",
      "model_module_version": "1.5.0",
      "model_name": "HTMLModel",
      "state": {
       "_dom_classes": [],
       "_model_module": "@jupyter-widgets/controls",
       "_model_module_version": "1.5.0",
       "_model_name": "HTMLModel",
       "_view_count": null,
       "_view_module": "@jupyter-widgets/controls",
       "_view_module_version": "1.5.0",
       "_view_name": "HTMLView",
       "description": "",
       "description_tooltip": null,
       "layout": "IPY_MODEL_f0fc5e98461b47518c4c0f80c8e27edf",
       "placeholder": "​",
       "style": "IPY_MODEL_b545a984dfe04c3e80448d7482a5d814",
       "value": "100%"
      }
     }
    },
    "version_major": 2,
    "version_minor": 0
   }
  }
 },
 "nbformat": 4,
 "nbformat_minor": 5
}
