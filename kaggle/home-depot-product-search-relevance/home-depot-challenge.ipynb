{
 "cells": [
  {
   "cell_type": "code",
   "execution_count": 1,
   "metadata": {
    "_cell_guid": "b1076dfc-b9ad-4769-8c92-a6c4dae69d19",
    "_uuid": "8f2839f25d086af736a60e9eeb907d3b93b6e0e5",
    "execution": {
     "iopub.execute_input": "2021-01-25T05:43:44.741140Z",
     "iopub.status.busy": "2021-01-25T05:43:44.740438Z",
     "iopub.status.idle": "2021-01-25T05:43:44.747931Z",
     "shell.execute_reply": "2021-01-25T05:43:44.747254Z"
    },
    "papermill": {
     "duration": 0.031729,
     "end_time": "2021-01-25T05:43:44.748064",
     "exception": false,
     "start_time": "2021-01-25T05:43:44.716335",
     "status": "completed"
    },
    "tags": []
   },
   "outputs": [
    {
     "name": "stdout",
     "output_type": "stream",
     "text": [
      "/kaggle/input/home-depot-product-search-relevance/product_descriptions.csv.zip\n",
      "/kaggle/input/home-depot-product-search-relevance/relevance_instructions.docx\n",
      "/kaggle/input/home-depot-product-search-relevance/train.csv.zip\n",
      "/kaggle/input/home-depot-product-search-relevance/sample_submission.csv.zip\n",
      "/kaggle/input/home-depot-product-search-relevance/attributes.csv.zip\n",
      "/kaggle/input/home-depot-product-search-relevance/test.csv.zip\n"
     ]
    }
   ],
   "source": [
    "# This Python 3 environment comes with many helpful analytics libraries installed\n",
    "# It is defined by the kaggle/python Docker image: https://github.com/kaggle/docker-python\n",
    "# For example, here's several helpful packages to load\n",
    "\n",
    "import numpy as np # linear algebra\n",
    "import pandas as pd # data processing, CSV file I/O (e.g. pd.read_csv)\n",
    "\n",
    "# Input data files are available in the read-only \"../input/\" directory\n",
    "# For example, running this (by clicking run or pressing Shift+Enter) will list all files under the input directory\n",
    "\n",
    "import os\n",
    "for dirname, _, filenames in os.walk('/kaggle/input'):\n",
    "    for filename in filenames:\n",
    "        print(os.path.join(dirname, filename))\n",
    "\n",
    "# You can write up to 20GB to the current directory (/kaggle/working/) that gets preserved as output when you create a version using \"Save & Run All\" \n",
    "# You can also write temporary files to /kaggle/temp/, but they won't be saved outside of the current session"
   ]
  },
  {
   "cell_type": "code",
   "execution_count": 2,
   "metadata": {
    "execution": {
     "iopub.execute_input": "2021-01-25T05:43:44.795891Z",
     "iopub.status.busy": "2021-01-25T05:43:44.791322Z",
     "iopub.status.idle": "2021-01-25T05:43:49.288960Z",
     "shell.execute_reply": "2021-01-25T05:43:49.289794Z"
    },
    "papermill": {
     "duration": 4.526874,
     "end_time": "2021-01-25T05:43:49.289969",
     "exception": false,
     "start_time": "2021-01-25T05:43:44.763095",
     "status": "completed"
    },
    "tags": []
   },
   "outputs": [
    {
     "name": "stdout",
     "output_type": "stream",
     "text": [
      "Archive:  ../input/home-depot-product-search-relevance/train.csv.zip\r\n",
      "  inflating: /kaggle/working/train.csv  \r\n",
      "Archive:  ../input/home-depot-product-search-relevance/test.csv.zip\r\n",
      "  inflating: /kaggle/working/test.csv  \r\n",
      "Archive:  ../input/home-depot-product-search-relevance/product_descriptions.csv.zip\r\n",
      "  inflating: /kaggle/working/product_descriptions.csv  \r\n",
      "Archive:  ../input/home-depot-product-search-relevance/attributes.csv.zip\r\n",
      "  inflating: /kaggle/working/attributes.csv  \r\n",
      "Archive:  ../input/home-depot-product-search-relevance/sample_submission.csv.zip\r\n",
      "  inflating: /kaggle/working/sample_submission.csv  \r\n"
     ]
    }
   ],
   "source": [
    "!unzip ../input/home-depot-product-search-relevance/train.csv.zip -d /kaggle/working\n",
    "!unzip ../input/home-depot-product-search-relevance/test.csv.zip -d /kaggle/working\n",
    "!unzip ../input/home-depot-product-search-relevance/product_descriptions.csv.zip -d /kaggle/working\n",
    "!unzip ../input/home-depot-product-search-relevance/attributes.csv.zip -d /kaggle/working\n",
    "!unzip ../input/home-depot-product-search-relevance/sample_submission.csv.zip -d /kaggle/working"
   ]
  },
  {
   "cell_type": "code",
   "execution_count": 3,
   "metadata": {
    "execution": {
     "iopub.execute_input": "2021-01-25T05:43:49.356867Z",
     "iopub.status.busy": "2021-01-25T05:43:49.351847Z",
     "iopub.status.idle": "2021-01-25T05:43:51.838349Z",
     "shell.execute_reply": "2021-01-25T05:43:51.839052Z"
    },
    "papermill": {
     "duration": 2.523942,
     "end_time": "2021-01-25T05:43:51.839249",
     "exception": false,
     "start_time": "2021-01-25T05:43:49.315307",
     "status": "completed"
    },
    "tags": []
   },
   "outputs": [
    {
     "name": "stdout",
     "output_type": "stream",
     "text": [
      "home-depot-product-search-relevance\n",
      "\n"
     ]
    }
   ],
   "source": [
    "import numpy as np # linear algebra\n",
    "import pandas as pd # data processing, CSV file I/O (e.g. pd.read_csv)\n",
    "\n",
    "from subprocess import check_output\n",
    "print(check_output([\"ls\", \"../input\"]).decode(\"utf8\"))\n",
    "import warnings; warnings.filterwarnings(\"ignore\");\n",
    "import time\n",
    "start_time = time.time()\n",
    "from sklearn.ensemble import RandomForestRegressor\n",
    "from sklearn import pipeline\n",
    "from sklearn.model_selection  import GridSearchCV\n",
    "from sklearn.base import BaseEstimator, TransformerMixin\n",
    "from sklearn.pipeline import FeatureUnion\n",
    "from sklearn.decomposition import TruncatedSVD\n",
    "from sklearn.feature_extraction.text import TfidfVectorizer\n",
    "from sklearn.metrics import mean_squared_error, make_scorer\n",
    "from nltk.stem.porter import *\n",
    "stemmer = PorterStemmer()\n",
    "import re\n",
    "import random\n",
    "random.seed(2016)"
   ]
  },
  {
   "cell_type": "code",
   "execution_count": 4,
   "metadata": {
    "execution": {
     "iopub.execute_input": "2021-01-25T05:43:51.907296Z",
     "iopub.status.busy": "2021-01-25T05:43:51.901661Z",
     "iopub.status.idle": "2021-01-25T05:43:55.330132Z",
     "shell.execute_reply": "2021-01-25T05:43:55.329189Z"
    },
    "papermill": {
     "duration": 3.463793,
     "end_time": "2021-01-25T05:43:55.330251",
     "exception": false,
     "start_time": "2021-01-25T05:43:51.866458",
     "status": "completed"
    },
    "tags": []
   },
   "outputs": [
    {
     "name": "stdout",
     "output_type": "stream",
     "text": [
      "--- Files Loaded: 0.1 minutes ---\n"
     ]
    }
   ],
   "source": [
    "df_train = pd.read_csv('./train.csv', encoding=\"ISO-8859-1\") #update here\n",
    "df_test = pd.read_csv('./test.csv', encoding=\"ISO-8859-1\") #update here\n",
    "df_pro_desc = pd.read_csv('./product_descriptions.csv')[:64000] #update here\n",
    "df_attr = pd.read_csv('./attributes.csv')\n",
    "df_brand = df_attr[df_attr.name == \"MFG Brand Name\"][[\"product_uid\", \"value\"]].rename(columns={\"value\": \"brand\"})\n",
    "num_train = df_train.shape[0]\n",
    "df_all = pd.concat((df_train, df_test), axis=0, ignore_index=True)\n",
    "df_all = pd.merge(df_all, df_pro_desc, how='left', on='product_uid')\n",
    "df_all = pd.merge(df_all, df_brand, how='left', on='product_uid')\n",
    "print(\"--- Files Loaded: %s minutes ---\" % round(((time.time() - start_time)/60),2))"
   ]
  },
  {
   "cell_type": "code",
   "execution_count": 5,
   "metadata": {
    "execution": {
     "iopub.execute_input": "2021-01-25T05:43:55.370646Z",
     "iopub.status.busy": "2021-01-25T05:43:55.369770Z",
     "iopub.status.idle": "2021-01-25T05:43:55.389388Z",
     "shell.execute_reply": "2021-01-25T05:43:55.388846Z"
    },
    "papermill": {
     "duration": 0.040754,
     "end_time": "2021-01-25T05:43:55.389509",
     "exception": false,
     "start_time": "2021-01-25T05:43:55.348755",
     "status": "completed"
    },
    "tags": []
   },
   "outputs": [
    {
     "data": {
      "text/html": [
       "<div>\n",
       "<style scoped>\n",
       "    .dataframe tbody tr th:only-of-type {\n",
       "        vertical-align: middle;\n",
       "    }\n",
       "\n",
       "    .dataframe tbody tr th {\n",
       "        vertical-align: top;\n",
       "    }\n",
       "\n",
       "    .dataframe thead th {\n",
       "        text-align: right;\n",
       "    }\n",
       "</style>\n",
       "<table border=\"1\" class=\"dataframe\">\n",
       "  <thead>\n",
       "    <tr style=\"text-align: right;\">\n",
       "      <th></th>\n",
       "      <th>product_uid</th>\n",
       "      <th>name</th>\n",
       "      <th>value</th>\n",
       "    </tr>\n",
       "  </thead>\n",
       "  <tbody>\n",
       "    <tr>\n",
       "      <th>0</th>\n",
       "      <td>100001.0</td>\n",
       "      <td>Bullet01</td>\n",
       "      <td>Versatile connector for various 90° connection...</td>\n",
       "    </tr>\n",
       "    <tr>\n",
       "      <th>1</th>\n",
       "      <td>100001.0</td>\n",
       "      <td>Bullet02</td>\n",
       "      <td>Stronger than angled nailing or screw fastenin...</td>\n",
       "    </tr>\n",
       "    <tr>\n",
       "      <th>2</th>\n",
       "      <td>100001.0</td>\n",
       "      <td>Bullet03</td>\n",
       "      <td>Help ensure joints are consistently straight a...</td>\n",
       "    </tr>\n",
       "    <tr>\n",
       "      <th>3</th>\n",
       "      <td>100001.0</td>\n",
       "      <td>Bullet04</td>\n",
       "      <td>Dimensions: 3 in. x 3 in. x 1-1/2 in.</td>\n",
       "    </tr>\n",
       "    <tr>\n",
       "      <th>4</th>\n",
       "      <td>100001.0</td>\n",
       "      <td>Bullet05</td>\n",
       "      <td>Made from 12-Gauge steel</td>\n",
       "    </tr>\n",
       "  </tbody>\n",
       "</table>\n",
       "</div>"
      ],
      "text/plain": [
       "   product_uid      name                                              value\n",
       "0     100001.0  Bullet01  Versatile connector for various 90° connection...\n",
       "1     100001.0  Bullet02  Stronger than angled nailing or screw fastenin...\n",
       "2     100001.0  Bullet03  Help ensure joints are consistently straight a...\n",
       "3     100001.0  Bullet04              Dimensions: 3 in. x 3 in. x 1-1/2 in.\n",
       "4     100001.0  Bullet05                           Made from 12-Gauge steel"
      ]
     },
     "execution_count": 5,
     "metadata": {},
     "output_type": "execute_result"
    }
   ],
   "source": [
    "df_attr.head()"
   ]
  },
  {
   "cell_type": "code",
   "execution_count": 6,
   "metadata": {
    "execution": {
     "iopub.execute_input": "2021-01-25T05:43:55.437954Z",
     "iopub.status.busy": "2021-01-25T05:43:55.436916Z",
     "iopub.status.idle": "2021-01-25T05:43:55.440826Z",
     "shell.execute_reply": "2021-01-25T05:43:55.441576Z"
    },
    "papermill": {
     "duration": 0.033529,
     "end_time": "2021-01-25T05:43:55.441736",
     "exception": false,
     "start_time": "2021-01-25T05:43:55.408207",
     "status": "completed"
    },
    "tags": []
   },
   "outputs": [
    {
     "data": {
      "text/html": [
       "<div>\n",
       "<style scoped>\n",
       "    .dataframe tbody tr th:only-of-type {\n",
       "        vertical-align: middle;\n",
       "    }\n",
       "\n",
       "    .dataframe tbody tr th {\n",
       "        vertical-align: top;\n",
       "    }\n",
       "\n",
       "    .dataframe thead th {\n",
       "        text-align: right;\n",
       "    }\n",
       "</style>\n",
       "<table border=\"1\" class=\"dataframe\">\n",
       "  <thead>\n",
       "    <tr style=\"text-align: right;\">\n",
       "      <th></th>\n",
       "      <th>product_uid</th>\n",
       "      <th>brand</th>\n",
       "    </tr>\n",
       "  </thead>\n",
       "  <tbody>\n",
       "    <tr>\n",
       "      <th>9</th>\n",
       "      <td>100001.0</td>\n",
       "      <td>Simpson Strong-Tie</td>\n",
       "    </tr>\n",
       "    <tr>\n",
       "      <th>37</th>\n",
       "      <td>100002.0</td>\n",
       "      <td>BEHR Premium Textured DeckOver</td>\n",
       "    </tr>\n",
       "    <tr>\n",
       "      <th>69</th>\n",
       "      <td>100003.0</td>\n",
       "      <td>STERLING</td>\n",
       "    </tr>\n",
       "    <tr>\n",
       "      <th>93</th>\n",
       "      <td>100004.0</td>\n",
       "      <td>Grape Solar</td>\n",
       "    </tr>\n",
       "    <tr>\n",
       "      <th>122</th>\n",
       "      <td>100005.0</td>\n",
       "      <td>Delta</td>\n",
       "    </tr>\n",
       "  </tbody>\n",
       "</table>\n",
       "</div>"
      ],
      "text/plain": [
       "     product_uid                           brand\n",
       "9       100001.0              Simpson Strong-Tie\n",
       "37      100002.0  BEHR Premium Textured DeckOver\n",
       "69      100003.0                        STERLING\n",
       "93      100004.0                     Grape Solar\n",
       "122     100005.0                           Delta"
      ]
     },
     "execution_count": 6,
     "metadata": {},
     "output_type": "execute_result"
    }
   ],
   "source": [
    "df_brand.head()"
   ]
  },
  {
   "cell_type": "code",
   "execution_count": 7,
   "metadata": {
    "execution": {
     "iopub.execute_input": "2021-01-25T05:43:55.506517Z",
     "iopub.status.busy": "2021-01-25T05:43:55.505662Z",
     "iopub.status.idle": "2021-01-25T05:43:55.510333Z",
     "shell.execute_reply": "2021-01-25T05:43:55.509365Z"
    },
    "papermill": {
     "duration": 0.040254,
     "end_time": "2021-01-25T05:43:55.510482",
     "exception": false,
     "start_time": "2021-01-25T05:43:55.470228",
     "status": "completed"
    },
    "tags": []
   },
   "outputs": [],
   "source": [
    "stop_w = ['for', 'xbi', 'and', 'in', 'th','on','sku','with','what','from','that','less','er','ing'] #'electr','paint','pipe','light','kitchen','wood','outdoor','door','bathroom'\n",
    "strNum = {'zero':0,'one':1,'two':2,'three':3,'four':4,'five':5,'six':6,'seven':7,'eight':8,'nine':9}"
   ]
  },
  {
   "cell_type": "code",
   "execution_count": 8,
   "metadata": {
    "execution": {
     "iopub.execute_input": "2021-01-25T05:43:55.597632Z",
     "iopub.status.busy": "2021-01-25T05:43:55.578952Z",
     "iopub.status.idle": "2021-01-25T05:43:55.600979Z",
     "shell.execute_reply": "2021-01-25T05:43:55.600365Z"
    },
    "papermill": {
     "duration": 0.061733,
     "end_time": "2021-01-25T05:43:55.601092",
     "exception": false,
     "start_time": "2021-01-25T05:43:55.539359",
     "status": "completed"
    },
    "tags": []
   },
   "outputs": [],
   "source": [
    "def str_stem(s): \n",
    "    if isinstance(s, str):\n",
    "        s = re.sub(r\"(\\w)\\.([A-Z])\", r\"\\1 \\2\", s) #Split words with a.A\n",
    "        s = s.lower()\n",
    "        s = s.replace(\"  \",\" \")\n",
    "        s = s.replace(\",\",\"\") #could be number / segment later\n",
    "        s = s.replace(\"$\",\" \")\n",
    "        s = s.replace(\"?\",\" \")\n",
    "        s = s.replace(\"-\",\" \")\n",
    "        s = s.replace(\"//\",\"/\")\n",
    "        s = s.replace(\"..\",\".\")\n",
    "        s = s.replace(\" / \",\" \")\n",
    "        s = s.replace(\" \\\\ \",\" \")\n",
    "        s = s.replace(\".\",\" . \")\n",
    "        s = re.sub(r\"(^\\.|/)\", r\"\", s)\n",
    "        s = re.sub(r\"(\\.|/)$\", r\"\", s)\n",
    "        s = re.sub(r\"([0-9])([a-z])\", r\"\\1 \\2\", s)\n",
    "        s = re.sub(r\"([a-z])([0-9])\", r\"\\1 \\2\", s)\n",
    "        s = s.replace(\" x \",\" xbi \")\n",
    "        s = re.sub(r\"([a-z])( *)\\.( *)([a-z])\", r\"\\1 \\4\", s)\n",
    "        s = re.sub(r\"([a-z])( *)/( *)([a-z])\", r\"\\1 \\4\", s)\n",
    "        s = s.replace(\"*\",\" xbi \")\n",
    "        s = s.replace(\" by \",\" xbi \")\n",
    "        s = re.sub(r\"([0-9])( *)\\.( *)([0-9])\", r\"\\1.\\4\", s)\n",
    "        s = re.sub(r\"([0-9]+)( *)(inches|inch|in|')\\.?\", r\"\\1in. \", s)\n",
    "        s = re.sub(r\"([0-9]+)( *)(foot|feet|ft|'')\\.?\", r\"\\1ft. \", s)\n",
    "        s = re.sub(r\"([0-9]+)( *)(pounds|pound|lbs|lb)\\.?\", r\"\\1lb. \", s)\n",
    "        s = re.sub(r\"([0-9]+)( *)(square|sq) ?\\.?(feet|foot|ft)\\.?\", r\"\\1sq.ft. \", s)\n",
    "        s = re.sub(r\"([0-9]+)( *)(cubic|cu) ?\\.?(feet|foot|ft)\\.?\", r\"\\1cu.ft. \", s)\n",
    "        s = re.sub(r\"([0-9]+)( *)(gallons|gallon|gal)\\.?\", r\"\\1gal. \", s)\n",
    "        s = re.sub(r\"([0-9]+)( *)(ounces|ounce|oz)\\.?\", r\"\\1oz. \", s)\n",
    "        s = re.sub(r\"([0-9]+)( *)(centimeters|cm)\\.?\", r\"\\1cm. \", s)\n",
    "        s = re.sub(r\"([0-9]+)( *)(milimeters|mm)\\.?\", r\"\\1mm. \", s)\n",
    "        s = s.replace(\"°\",\" degrees \")\n",
    "        s = re.sub(r\"([0-9]+)( *)(degrees|degree)\\.?\", r\"\\1deg. \", s)\n",
    "        s = s.replace(\" v \",\" volts \")\n",
    "        s = re.sub(r\"([0-9]+)( *)(volts|volt)\\.?\", r\"\\1volt. \", s)\n",
    "        s = re.sub(r\"([0-9]+)( *)(watts|watt)\\.?\", r\"\\1watt. \", s)\n",
    "        s = re.sub(r\"([0-9]+)( *)(amperes|ampere|amps|amp)\\.?\", r\"\\1amp. \", s)\n",
    "        s = s.replace(\"  \",\" \")\n",
    "        s = s.replace(\" . \",\" \")\n",
    "        #s = (\" \").join([z for z in s.split(\" \") if z not in stop_w])\n",
    "        s = (\" \").join([str(strNum[z]) if z in strNum else z for z in s.split(\" \")])\n",
    "        s = (\" \").join([stemmer.stem(z) for z in s.split(\" \")])\n",
    "        \n",
    "        s = s.lower()\n",
    "        s = s.replace(\"toliet\",\"toilet\")\n",
    "        s = s.replace(\"airconditioner\",\"air conditioner\")\n",
    "        s = s.replace(\"vinal\",\"vinyl\")\n",
    "        s = s.replace(\"vynal\",\"vinyl\")\n",
    "        s = s.replace(\"skill\",\"skil\")\n",
    "        s = s.replace(\"snowbl\",\"snow bl\")\n",
    "        s = s.replace(\"plexigla\",\"plexi gla\")\n",
    "        s = s.replace(\"rustoleum\",\"rust-oleum\")\n",
    "        s = s.replace(\"whirpool\",\"whirlpool\")\n",
    "        s = s.replace(\"whirlpoolga\", \"whirlpool ga\")\n",
    "        s = s.replace(\"whirlpoolstainless\",\"whirlpool stainless\")\n",
    "        return s\n",
    "    else:\n",
    "        return \"null\""
   ]
  },
  {
   "cell_type": "code",
   "execution_count": 9,
   "metadata": {
    "execution": {
     "iopub.execute_input": "2021-01-25T05:43:55.651041Z",
     "iopub.status.busy": "2021-01-25T05:43:55.650159Z",
     "iopub.status.idle": "2021-01-25T05:43:55.655113Z",
     "shell.execute_reply": "2021-01-25T05:43:55.654410Z"
    },
    "papermill": {
     "duration": 0.034478,
     "end_time": "2021-01-25T05:43:55.655228",
     "exception": false,
     "start_time": "2021-01-25T05:43:55.620750",
     "status": "completed"
    },
    "tags": []
   },
   "outputs": [],
   "source": [
    "def seg_words(str1, str2):\n",
    "    str2 = str2.lower()\n",
    "    str2 = re.sub(\"[^a-z0-9./]\",\" \", str2)\n",
    "    str2 = [z for z in set(str2.split()) if len(z)>2]\n",
    "    words = str1.lower().split(\" \")\n",
    "    s = []\n",
    "    for word in words:\n",
    "        if len(word)>3:\n",
    "            s1 = []\n",
    "            s1 += segmentit(word,str2,True)\n",
    "            if len(s)>1:\n",
    "                s += [z for z in s1 if z not in ['er','ing','s','less'] and len(z)>1]\n",
    "            else:\n",
    "                s.append(word)\n",
    "        else:\n",
    "            s.append(word)\n",
    "    return (\" \".join(s))"
   ]
  },
  {
   "cell_type": "code",
   "execution_count": 10,
   "metadata": {
    "execution": {
     "iopub.execute_input": "2021-01-25T05:43:55.711231Z",
     "iopub.status.busy": "2021-01-25T05:43:55.710492Z",
     "iopub.status.idle": "2021-01-25T05:43:55.715289Z",
     "shell.execute_reply": "2021-01-25T05:43:55.714655Z"
    },
    "papermill": {
     "duration": 0.033517,
     "end_time": "2021-01-25T05:43:55.715401",
     "exception": false,
     "start_time": "2021-01-25T05:43:55.681884",
     "status": "completed"
    },
    "tags": []
   },
   "outputs": [],
   "source": [
    "def segmentit(s, txt_arr, t):\n",
    "    st = s\n",
    "    r = []\n",
    "    for j in range(len(s)):\n",
    "        for word in txt_arr:\n",
    "            if word == s[:-j]:\n",
    "                r.append(s[:-j])\n",
    "                #print(s[:-j],s[len(s)-j:])\n",
    "                s=s[len(s)-j:]\n",
    "                r += segmentit(s, txt_arr, False)\n",
    "    if t:\n",
    "        i = len((\"\").join(r))\n",
    "        if not i==len(st):\n",
    "            r.append(st[i:])\n",
    "    return r"
   ]
  },
  {
   "cell_type": "code",
   "execution_count": 11,
   "metadata": {
    "execution": {
     "iopub.execute_input": "2021-01-25T05:43:55.767653Z",
     "iopub.status.busy": "2021-01-25T05:43:55.765714Z",
     "iopub.status.idle": "2021-01-25T05:43:55.771891Z",
     "shell.execute_reply": "2021-01-25T05:43:55.771107Z"
    },
    "papermill": {
     "duration": 0.036096,
     "end_time": "2021-01-25T05:43:55.772025",
     "exception": false,
     "start_time": "2021-01-25T05:43:55.735929",
     "status": "completed"
    },
    "tags": []
   },
   "outputs": [],
   "source": [
    "def str_common_word(str1, str2):\n",
    "    words, cnt = str1.split(), 0\n",
    "    for word in words:\n",
    "        if str2.find(word)>=0:\n",
    "            cnt+=1\n",
    "    return cnt\n",
    "\n",
    "def str_whole_word(str1, str2, i_):\n",
    "    cnt = 0\n",
    "    while i_ < len(str2):\n",
    "        i_ = str2.find(str1, i_)\n",
    "        if i_ == -1:\n",
    "            return cnt\n",
    "        else:\n",
    "            cnt += 1\n",
    "            i_ += len(str1)\n",
    "    return cnt"
   ]
  },
  {
   "cell_type": "code",
   "execution_count": 12,
   "metadata": {
    "execution": {
     "iopub.execute_input": "2021-01-25T05:43:55.870649Z",
     "iopub.status.busy": "2021-01-25T05:43:55.869388Z",
     "iopub.status.idle": "2021-01-25T05:43:55.873739Z",
     "shell.execute_reply": "2021-01-25T05:43:55.872527Z"
    },
    "papermill": {
     "duration": 0.059092,
     "end_time": "2021-01-25T05:43:55.873923",
     "exception": false,
     "start_time": "2021-01-25T05:43:55.814831",
     "status": "completed"
    },
    "tags": []
   },
   "outputs": [],
   "source": [
    "def fmean_squared_error(ground_truth, predictions):\n",
    "    fmean_squared_error_ = mean_squared_error(ground_truth, predictions)**0.5\n",
    "    return fmean_squared_error_\n",
    "\n",
    "RMSE  = make_scorer(fmean_squared_error, greater_is_better=False)"
   ]
  },
  {
   "cell_type": "code",
   "execution_count": 13,
   "metadata": {
    "execution": {
     "iopub.execute_input": "2021-01-25T05:43:55.952122Z",
     "iopub.status.busy": "2021-01-25T05:43:55.951127Z",
     "iopub.status.idle": "2021-01-25T05:43:55.957959Z",
     "shell.execute_reply": "2021-01-25T05:43:55.958516Z"
    },
    "papermill": {
     "duration": 0.041697,
     "end_time": "2021-01-25T05:43:55.958687",
     "exception": false,
     "start_time": "2021-01-25T05:43:55.916990",
     "status": "completed"
    },
    "tags": []
   },
   "outputs": [],
   "source": [
    "class cust_regression_vals(BaseEstimator, TransformerMixin):\n",
    "    def fit(self, x, y=None):\n",
    "        return self\n",
    "    def transform(self, hd_searches):\n",
    "        d_col_drops=['id','relevance','search_term','product_title','product_description','product_info','attr','brand']\n",
    "        hd_searches = hd_searches.drop(d_col_drops,axis=1).values\n",
    "        return hd_searches\n"
   ]
  },
  {
   "cell_type": "code",
   "execution_count": 14,
   "metadata": {
    "execution": {
     "iopub.execute_input": "2021-01-25T05:43:56.004811Z",
     "iopub.status.busy": "2021-01-25T05:43:56.003913Z",
     "iopub.status.idle": "2021-01-25T05:43:56.012427Z",
     "shell.execute_reply": "2021-01-25T05:43:56.011354Z"
    },
    "papermill": {
     "duration": 0.032204,
     "end_time": "2021-01-25T05:43:56.012671",
     "exception": false,
     "start_time": "2021-01-25T05:43:55.980467",
     "status": "completed"
    },
    "tags": []
   },
   "outputs": [],
   "source": [
    "class cust_txt_col(BaseEstimator, TransformerMixin):\n",
    "    def __init__(self, key):\n",
    "        self.key = key\n",
    "    def fit(self, x, y=None):\n",
    "        return self\n",
    "    def transform(self, data_dict):\n",
    "        return data_dict[self.key].apply(str)\n"
   ]
  },
  {
   "cell_type": "code",
   "execution_count": 15,
   "metadata": {
    "execution": {
     "iopub.execute_input": "2021-01-25T05:43:56.086528Z",
     "iopub.status.busy": "2021-01-25T05:43:56.081631Z",
     "iopub.status.idle": "2021-01-25T06:02:24.942950Z",
     "shell.execute_reply": "2021-01-25T06:02:24.942381Z"
    },
    "papermill": {
     "duration": 1108.901187,
     "end_time": "2021-01-25T06:02:24.943067",
     "exception": false,
     "start_time": "2021-01-25T05:43:56.041880",
     "status": "completed"
    },
    "tags": []
   },
   "outputs": [
    {
     "name": "stdout",
     "output_type": "stream",
     "text": [
      "--- Stemming: 18.23 minutes ---\n",
      "--- Prod Info: 18.24 minutes ---\n",
      "--- Len of: 18.28 minutes ---\n",
      "--- Query In: 18.51 minutes ---\n",
      "--- Query Last Word In: 18.55 minutes ---\n"
     ]
    }
   ],
   "source": [
    "df_all['search_term'] = df_all['search_term'].map(lambda x:str_stem(x))\n",
    "df_all['product_title'] = df_all['product_title'].map(lambda x:str_stem(x))\n",
    "df_all['product_description'] = df_all['product_description'].map(lambda x:str_stem(x))\n",
    "df_all['brand'] = df_all['brand'].map(lambda x:str_stem(x))\n",
    "print(\"--- Stemming: %s minutes ---\" % round(((time.time() - start_time)/60),2))\n",
    "df_all['product_info'] = df_all['search_term']+\"\\t\"+df_all['product_title'] +\"\\t\"+df_all['product_description']\n",
    "print(\"--- Prod Info: %s minutes ---\" % round(((time.time() - start_time)/60),2))\n",
    "df_all['len_of_query'] = df_all['search_term'].map(lambda x:len(x.split())).astype(np.int64)\n",
    "df_all['len_of_title'] = df_all['product_title'].map(lambda x:len(x.split())).astype(np.int64)\n",
    "df_all['len_of_description'] = df_all['product_description'].map(lambda x:len(x.split())).astype(np.int64)\n",
    "df_all['len_of_brand'] = df_all['brand'].map(lambda x:len(x.split())).astype(np.int64)\n",
    "print(\"--- Len of: %s minutes ---\" % round(((time.time() - start_time)/60),2))\n",
    "df_all['search_term'] = df_all['product_info'].map(lambda x:seg_words(x.split('\\t')[0],x.split('\\t')[1]))\n",
    "#print(\"--- Search Term Segment: %s minutes ---\" % round(((time.time() - start_time)/60),2))\n",
    "df_all['query_in_title'] = df_all['product_info'].map(lambda x:str_whole_word(x.split('\\t')[0],x.split('\\t')[1],0))\n",
    "df_all['query_in_description'] = df_all['product_info'].map(lambda x:str_whole_word(x.split('\\t')[0],x.split('\\t')[2],0))\n",
    "print(\"--- Query In: %s minutes ---\" % round(((time.time() - start_time)/60),2))\n",
    "df_all['query_last_word_in_title'] = df_all['product_info'].map(lambda x:str_common_word(x.split('\\t')[0].split(\" \")[-1],x.split('\\t')[1]))\n",
    "df_all['query_last_word_in_description'] = df_all['product_info'].map(lambda x:str_common_word(x.split('\\t')[0].split(\" \")[-1],x.split('\\t')[2]))\n",
    "print(\"--- Query Last Word In: %s minutes ---\" % round(((time.time() - start_time)/60),2))\n",
    "df_all['word_in_title'] = df_all['product_info'].map(lambda x:str_common_word(x.split('\\t')[0],x.split('\\t')[1]))\n",
    "df_all['word_in_description'] = df_all['product_info'].map(lambda x:str_common_word(x.split('\\t')[0],x.split('\\t')[2]))\n",
    "df_all['ratio_title'] = df_all['word_in_title']/df_all['len_of_query']\n",
    "df_all['ratio_description'] = df_all['word_in_description']/df_all['len_of_query']\n",
    "df_all['attr'] = df_all['search_term']+\"\\t\"+df_all['brand']\n",
    "df_all['word_in_brand'] = df_all['attr'].map(lambda x:str_common_word(x.split('\\t')[0],x.split('\\t')[1]))\n",
    "df_all['ratio_brand'] = df_all['word_in_brand']/df_all['len_of_brand']\n",
    "df_brand = pd.unique(df_all.brand.ravel())"
   ]
  },
  {
   "cell_type": "code",
   "execution_count": 16,
   "metadata": {
    "execution": {
     "iopub.execute_input": "2021-01-25T06:02:24.998160Z",
     "iopub.status.busy": "2021-01-25T06:02:24.997288Z",
     "iopub.status.idle": "2021-01-25T06:02:25.257528Z",
     "shell.execute_reply": "2021-01-25T06:02:25.256945Z"
    },
    "papermill": {
     "duration": 0.291596,
     "end_time": "2021-01-25T06:02:25.257690",
     "exception": false,
     "start_time": "2021-01-25T06:02:24.966094",
     "status": "completed"
    },
    "tags": []
   },
   "outputs": [
    {
     "name": "stdout",
     "output_type": "stream",
     "text": [
      "--- Features Set: 18.6 minutes ---\n"
     ]
    }
   ],
   "source": [
    "d={}\n",
    "i = 1000\n",
    "for s in df_brand:\n",
    "    d[s]=i\n",
    "    i+=3\n",
    "df_all['brand_feature'] = df_all['brand'].map(lambda x:d[x])\n",
    "df_all['search_term_feature'] = df_all['search_term'].map(lambda x:len(x))\n",
    "#df_all.to_csv('df_all.csv')\n",
    "#df_all = pd.read_csv('df_all.csv', encoding=\"ISO-8859-1\", index_col=0)\n",
    "df_train = df_all.iloc[:num_train]\n",
    "df_test = df_all.iloc[num_train:]\n",
    "id_test = df_test['id']\n",
    "y_train = df_train['relevance'].values\n",
    "X_train =df_train[:]\n",
    "X_test = df_test[:]\n",
    "print(\"--- Features Set: %s minutes ---\" % round(((time.time() - start_time)/60),2))"
   ]
  },
  {
   "cell_type": "code",
   "execution_count": 17,
   "metadata": {
    "execution": {
     "iopub.execute_input": "2021-01-25T06:02:25.318238Z",
     "iopub.status.busy": "2021-01-25T06:02:25.313265Z",
     "iopub.status.idle": "2021-01-25T06:06:09.961034Z",
     "shell.execute_reply": "2021-01-25T06:06:09.961725Z"
    },
    "papermill": {
     "duration": 224.68101,
     "end_time": "2021-01-25T06:06:09.961911",
     "exception": false,
     "start_time": "2021-01-25T06:02:25.280901",
     "status": "completed"
    },
    "tags": []
   },
   "outputs": [
    {
     "name": "stdout",
     "output_type": "stream",
     "text": [
      "Fitting 2 folds for each of 1 candidates, totalling 2 fits\n"
     ]
    },
    {
     "name": "stderr",
     "output_type": "stream",
     "text": [
      "[Parallel(n_jobs=-1)]: Using backend LokyBackend with 4 concurrent workers.\n",
      "[Parallel(n_jobs=-1)]: Done   1 tasks      | elapsed:  1.8min\n",
      "[Parallel(n_jobs=-1)]: Done   2 out of   2 | elapsed:  1.9min remaining:    0.0s\n",
      "[Parallel(n_jobs=-1)]: Done   2 out of   2 | elapsed:  1.9min finished\n",
      "[Parallel(n_jobs=-1)]: Using backend ThreadingBackend with 4 concurrent workers.\n",
      "[Parallel(n_jobs=-1)]: Done  42 tasks      | elapsed:    7.5s\n",
      "[Parallel(n_jobs=-1)]: Done 192 tasks      | elapsed:   35.0s\n",
      "[Parallel(n_jobs=-1)]: Done 442 tasks      | elapsed:  1.3min\n",
      "[Parallel(n_jobs=-1)]: Done 530 out of 530 | elapsed:  1.6min finished\n"
     ]
    },
    {
     "data": {
      "text/plain": [
       "GridSearchCV(cv=2,\n",
       "             estimator=Pipeline(steps=[('union',\n",
       "                                        FeatureUnion(transformer_list=[('cst',\n",
       "                                                                        cust_regression_vals()),\n",
       "                                                                       ('txt1',\n",
       "                                                                        Pipeline(steps=[('s1',\n",
       "                                                                                         cust_txt_col(key='search_term')),\n",
       "                                                                                        ('tfidf1',\n",
       "                                                                                         TfidfVectorizer(stop_words='english')),\n",
       "                                                                                        ('tsvd1',\n",
       "                                                                                         TruncatedSVD(n_components=10,\n",
       "                                                                                                      random_state=2016))])),\n",
       "                                                                       ('txt2',\n",
       "                                                                        Pipeline(steps=[('s2',\n",
       "                                                                                         cust_txt_col(key='product_title'...\n",
       "                                                                                         TruncatedSVD(n_components=10,\n",
       "                                                                                                      random_state=2016))]))],\n",
       "                                                     transformer_weights={'cst': 1.0,\n",
       "                                                                          'txt1': 0.5,\n",
       "                                                                          'txt2': 0.25,\n",
       "                                                                          'txt3': 0.01,\n",
       "                                                                          'txt4': 0.5})),\n",
       "                                       ('rfr',\n",
       "                                        RandomForestRegressor(n_estimators=530,\n",
       "                                                              n_jobs=-1,\n",
       "                                                              random_state=2016,\n",
       "                                                              verbose=1))]),\n",
       "             n_jobs=-1,\n",
       "             param_grid={'rfr__max_depth': [18], 'rfr__max_features': [8]},\n",
       "             scoring=make_scorer(fmean_squared_error, greater_is_better=False),\n",
       "             verbose=20)"
      ]
     },
     "execution_count": 17,
     "metadata": {},
     "output_type": "execute_result"
    }
   ],
   "source": [
    "rfr = RandomForestRegressor(n_estimators = 530, n_jobs = -1, random_state = 2016, verbose = 1)\n",
    "tfidf = TfidfVectorizer(ngram_range=(1, 1), stop_words='english')\n",
    "tsvd = TruncatedSVD(n_components=10, random_state = 2016)\n",
    "clf = pipeline.Pipeline([\n",
    "        ('union', FeatureUnion(\n",
    "                    transformer_list = [\n",
    "                        ('cst',  cust_regression_vals()),  \n",
    "                        ('txt1', pipeline.Pipeline([('s1', cust_txt_col(key='search_term')), ('tfidf1', tfidf), ('tsvd1', tsvd)])),\n",
    "                        ('txt2', pipeline.Pipeline([('s2', cust_txt_col(key='product_title')), ('tfidf2', tfidf), ('tsvd2', tsvd)])),\n",
    "                        ('txt3', pipeline.Pipeline([('s3', cust_txt_col(key='product_description')), ('tfidf3', tfidf), ('tsvd3', tsvd)])),\n",
    "                        ('txt4', pipeline.Pipeline([('s4', cust_txt_col(key='brand')), ('tfidf4', tfidf), ('tsvd4', tsvd)]))\n",
    "                        ],\n",
    "                    transformer_weights = {\n",
    "                        'cst': 1.0,\n",
    "                        'txt1': 0.5,\n",
    "                        'txt2': 0.25,\n",
    "                        'txt3': 0.01,\n",
    "                        'txt4': 0.5\n",
    "                        },\n",
    "                #n_jobs = -1\n",
    "                )), \n",
    "        ('rfr', rfr)])\n",
    "param_grid = {'rfr__max_features': [8], 'rfr__max_depth': [18]}\n",
    "model = GridSearchCV(estimator = clf, param_grid = param_grid, n_jobs = -1, cv = 2, verbose = 20, scoring=RMSE)\n",
    "model.fit(X_train, y_train)\n"
   ]
  },
  {
   "cell_type": "code",
   "execution_count": 18,
   "metadata": {
    "execution": {
     "iopub.execute_input": "2021-01-25T06:06:10.048290Z",
     "iopub.status.busy": "2021-01-25T06:06:10.047395Z",
     "iopub.status.idle": "2021-01-25T06:06:36.837672Z",
     "shell.execute_reply": "2021-01-25T06:06:36.836761Z"
    },
    "papermill": {
     "duration": 26.834764,
     "end_time": "2021-01-25T06:06:36.837849",
     "exception": false,
     "start_time": "2021-01-25T06:06:10.003085",
     "status": "completed"
    },
    "tags": []
   },
   "outputs": [
    {
     "name": "stdout",
     "output_type": "stream",
     "text": [
      "Best parameters found by grid search:\n",
      "{'rfr__max_depth': 18, 'rfr__max_features': 8}\n",
      "Best CV score:\n",
      "-0.4711801074313623\n",
      "-0.0011481146913622786\n"
     ]
    },
    {
     "name": "stderr",
     "output_type": "stream",
     "text": [
      "[Parallel(n_jobs=4)]: Using backend ThreadingBackend with 4 concurrent workers.\n",
      "[Parallel(n_jobs=4)]: Done  42 tasks      | elapsed:    0.6s\n",
      "[Parallel(n_jobs=4)]: Done 192 tasks      | elapsed:    2.2s\n",
      "[Parallel(n_jobs=4)]: Done 442 tasks      | elapsed:    4.9s\n",
      "[Parallel(n_jobs=4)]: Done 530 out of 530 | elapsed:    5.8s finished\n"
     ]
    },
    {
     "name": "stdout",
     "output_type": "stream",
     "text": [
      "--- Training & Testing: 22.79 minutes ---\n"
     ]
    }
   ],
   "source": [
    "print(\"Best parameters found by grid search:\")\n",
    "print(model.best_params_)\n",
    "print(\"Best CV score:\")\n",
    "print(model.best_score_)\n",
    "print(model.best_score_ + 0.47003199274)\n",
    "\n",
    "#y_pred = model.predict(X_test)\n",
    "pd.DataFrame({\"id\": id_test, \"relevance\": model.predict(X_test)}).to_csv('submission.csv',index=False)\n",
    "print(\"--- Training & Testing: %s minutes ---\" % round(((time.time() - start_time)/60),2))"
   ]
  },
  {
   "cell_type": "code",
   "execution_count": null,
   "metadata": {
    "papermill": {
     "duration": 0.04392,
     "end_time": "2021-01-25T06:06:36.925787",
     "exception": false,
     "start_time": "2021-01-25T06:06:36.881867",
     "status": "completed"
    },
    "tags": []
   },
   "outputs": [],
   "source": []
  }
 ],
 "metadata": {
  "kernelspec": {
   "display_name": "Python 3",
   "language": "python",
   "name": "python3"
  },
  "language_info": {
   "codemirror_mode": {
    "name": "ipython",
    "version": 3
   },
   "file_extension": ".py",
   "mimetype": "text/x-python",
   "name": "python",
   "nbconvert_exporter": "python",
   "pygments_lexer": "ipython3",
   "version": "3.7.6"
  },
  "papermill": {
   "duration": 1378.187977,
   "end_time": "2021-01-25T06:06:37.186568",
   "environment_variables": {},
   "exception": null,
   "input_path": "__notebook__.ipynb",
   "output_path": "__notebook__.ipynb",
   "parameters": {},
   "start_time": "2021-01-25T05:43:38.998591",
   "version": "2.1.0"
  }
 },
 "nbformat": 4,
 "nbformat_minor": 4
}
